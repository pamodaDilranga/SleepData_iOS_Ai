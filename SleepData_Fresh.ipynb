{
  "nbformat": 4,
  "nbformat_minor": 0,
  "metadata": {
    "colab": {
      "name": "SleepData_Fresh.ipynb",
      "provenance": [],
      "collapsed_sections": [],
      "toc_visible": true,
      "authorship_tag": "ABX9TyOGq7MyQTh06F17W3EXcEAa",
      "include_colab_link": true
    },
    "kernelspec": {
      "name": "python3",
      "display_name": "Python 3"
    }
  },
  "cells": [
    {
      "cell_type": "markdown",
      "metadata": {
        "id": "view-in-github",
        "colab_type": "text"
      },
      "source": [
        "<a href=\"https://colab.research.google.com/github/pamodaDilranga/SleepData_iOS_Ai/blob/main/SleepData_Fresh.ipynb\" target=\"_parent\"><img src=\"https://colab.research.google.com/assets/colab-badge.svg\" alt=\"Open In Colab\"/></a>"
      ]
    },
    {
      "cell_type": "code",
      "metadata": {
        "id": "MYXDQ3PHZ9CL"
      },
      "source": [
        "# from google.colab import files\n",
        "# files.upload()"
      ],
      "execution_count": 670,
      "outputs": []
    },
    {
      "cell_type": "code",
      "metadata": {
        "id": "-SFegzfPiyrh"
      },
      "source": [
        "import tensorflow as tf\n",
        "\n",
        "class callBack(tf.keras.callbacks.Callback):\n",
        "  bestMse = [1000.0,1000.0]\n",
        "  bestValMse = [1000.0,1000.0]\n",
        "  def on_epoch_end(self, epoch, logs={}):\n",
        "    if(logs.get('val_mse')<=bestValMse[1]):\n",
        "      bestValMse[0] = logs.get('mse')\n",
        "      bestValMse[1] = logs.get('val_mse')\n",
        "    if(logs.get('mse')<=bestMse[0]):\n",
        "      bestMse[0] = logs.get('mse')\n",
        "      bestMse[1] = logs.get('val_mse')\n",
        "    if(logs.get('mse')<=100.0)and(logs.get('val_mse')<=59.0):\n",
        "      print(\"Reached Target\")\n",
        "      self.model.stop_training = True\n",
        "\n",
        "  def on_train_end(self, logs={}):\n",
        "    print('Best Val_MSE:',bestValMse)\n",
        "    print('Best MSE:',bestMse)"
      ],
      "execution_count": 671,
      "outputs": []
    },
    {
      "cell_type": "code",
      "metadata": {
        "id": "fFxWf-8YkRVC"
      },
      "source": [
        "callback = callBack()"
      ],
      "execution_count": 672,
      "outputs": []
    },
    {
      "cell_type": "code",
      "metadata": {
        "id": "OKzveJzyTgOM"
      },
      "source": [
        "bestMse = [1000.0,1000.0]\n",
        "bestValMse = [1000.0,1000.0]"
      ],
      "execution_count": 673,
      "outputs": []
    },
    {
      "cell_type": "code",
      "metadata": {
        "id": "brBSEDVeaErp"
      },
      "source": [
        "import pandas as pd\n",
        "sleep_data = pd.read_csv('/content/sleepdata.csv', sep=';') "
      ],
      "execution_count": 674,
      "outputs": []
    },
    {
      "cell_type": "code",
      "metadata": {
        "id": "0Lny7yWaaI0H",
        "outputId": "15c6c152-5980-4f31-ce9e-9f1068bcf63d",
        "colab": {
          "base_uri": "https://localhost:8080/"
        }
      },
      "source": [
        "sleep_data.info()"
      ],
      "execution_count": 675,
      "outputs": [
        {
          "output_type": "stream",
          "text": [
            "<class 'pandas.core.frame.DataFrame'>\n",
            "RangeIndex: 887 entries, 0 to 886\n",
            "Data columns (total 8 columns):\n",
            " #   Column            Non-Null Count  Dtype  \n",
            "---  ------            --------------  -----  \n",
            " 0   Start             887 non-null    object \n",
            " 1   End               887 non-null    object \n",
            " 2   Sleep quality     887 non-null    object \n",
            " 3   Time in bed       887 non-null    object \n",
            " 4   Wake up           246 non-null    object \n",
            " 5   Sleep Notes       652 non-null    object \n",
            " 6   Heart rate        162 non-null    float64\n",
            " 7   Activity (steps)  887 non-null    int64  \n",
            "dtypes: float64(1), int64(1), object(6)\n",
            "memory usage: 55.6+ KB\n"
          ],
          "name": "stdout"
        }
      ]
    },
    {
      "cell_type": "code",
      "metadata": {
        "id": "THH40w5DWHBe",
        "outputId": "76896b7d-c175-4dff-e8f2-edc74bf799a8",
        "colab": {
          "base_uri": "https://localhost:8080/"
        }
      },
      "source": [
        "sleep_data['Heart rate'].fillna(sleep_data['Heart rate'].mean())"
      ],
      "execution_count": 676,
      "outputs": [
        {
          "output_type": "execute_result",
          "data": {
            "text/plain": [
              "0      59.000000\n",
              "1      72.000000\n",
              "2      57.000000\n",
              "3      60.604938\n",
              "4      68.000000\n",
              "         ...    \n",
              "882    60.604938\n",
              "883    60.604938\n",
              "884    60.604938\n",
              "885    60.604938\n",
              "886    60.604938\n",
              "Name: Heart rate, Length: 887, dtype: float64"
            ]
          },
          "metadata": {
            "tags": []
          },
          "execution_count": 676
        }
      ]
    },
    {
      "cell_type": "code",
      "metadata": {
        "id": "Mi2zmmMGL4y_",
        "outputId": "cd08da24-17f2-4ef1-81cb-5117ef92fe7a",
        "colab": {
          "base_uri": "https://localhost:8080/"
        }
      },
      "source": [
        "sleep_data.info()"
      ],
      "execution_count": 677,
      "outputs": [
        {
          "output_type": "stream",
          "text": [
            "<class 'pandas.core.frame.DataFrame'>\n",
            "RangeIndex: 887 entries, 0 to 886\n",
            "Data columns (total 8 columns):\n",
            " #   Column            Non-Null Count  Dtype  \n",
            "---  ------            --------------  -----  \n",
            " 0   Start             887 non-null    object \n",
            " 1   End               887 non-null    object \n",
            " 2   Sleep quality     887 non-null    object \n",
            " 3   Time in bed       887 non-null    object \n",
            " 4   Wake up           246 non-null    object \n",
            " 5   Sleep Notes       652 non-null    object \n",
            " 6   Heart rate        162 non-null    float64\n",
            " 7   Activity (steps)  887 non-null    int64  \n",
            "dtypes: float64(1), int64(1), object(6)\n",
            "memory usage: 55.6+ KB\n"
          ],
          "name": "stdout"
        }
      ]
    },
    {
      "cell_type": "code",
      "metadata": {
        "id": "dwch1X6Kr-KD"
      },
      "source": [
        "sleep_data['Sleep quality']=pd.Series(sleep_data['Sleep quality']).str.replace('%', '')\n",
        "sleep_data['Sleep quality'] = pd.to_numeric(sleep_data['Sleep quality'], downcast='signed')"
      ],
      "execution_count": 678,
      "outputs": []
    },
    {
      "cell_type": "code",
      "metadata": {
        "id": "VINGR2H0yO4k"
      },
      "source": [
        "TimeInBed = []\n",
        "for time in sleep_data['Time in bed']:\n",
        "  minSec = time.split(':')\n",
        "  timeInSec = (int(minSec[0])*60)+(int(minSec[1]))\n",
        "  TimeInBed.append(timeInSec)"
      ],
      "execution_count": 679,
      "outputs": []
    },
    {
      "cell_type": "code",
      "metadata": {
        "id": "2TnJqsIJ3eJl"
      },
      "source": [
        "sleep_data['Time in bed'] = TimeInBed"
      ],
      "execution_count": 680,
      "outputs": []
    },
    {
      "cell_type": "code",
      "metadata": {
        "id": "2fh2ECyyL2OW"
      },
      "source": [
        "sleep_data= sleep_data.dropna(axis=0)"
      ],
      "execution_count": 681,
      "outputs": []
    },
    {
      "cell_type": "markdown",
      "metadata": {
        "id": "P4MWba8V9VGa"
      },
      "source": [
        "**Handling Sleep Notes**"
      ]
    },
    {
      "cell_type": "code",
      "metadata": {
        "id": "C9hmRozu4pzU"
      },
      "source": [
        "from tensorflow.keras.preprocessing.text import Tokenizer\n",
        "from tensorflow.keras.preprocessing.sequence import pad_sequences"
      ],
      "execution_count": 682,
      "outputs": []
    },
    {
      "cell_type": "code",
      "metadata": {
        "id": "ji2IXz6m9T1D"
      },
      "source": [
        "# sleepNoteArr = []\n",
        "# for slpNote in sleep_data['Sleep Notes']:\n",
        "#   if type(slpNote)==float:\n",
        "#     sleepNoteArr.append('')\n",
        "#   else:\n",
        "#     sleepNoteArr.append(slpNote)\n",
        "  \n",
        "# sleep_data['Sleep Notes'] = sleepNoteArr"
      ],
      "execution_count": 683,
      "outputs": []
    },
    {
      "cell_type": "code",
      "metadata": {
        "id": "ILZu2_hr4I1X"
      },
      "source": [
        "tokenizer = Tokenizer(num_words=100, split=' ', filters=':')\n",
        "tokenizer.fit_on_texts(sleep_data['Sleep Notes'])"
      ],
      "execution_count": 684,
      "outputs": []
    },
    {
      "cell_type": "code",
      "metadata": {
        "id": "uhpa2Otb4ai5",
        "outputId": "51e49561-4ef6-445d-ed39-c3f27e6f05a1",
        "colab": {
          "base_uri": "https://localhost:8080/"
        }
      },
      "source": [
        "word_index = tokenizer.word_index\n",
        "print(word_index)"
      ],
      "execution_count": 685,
      "outputs": [
        {
          "output_type": "stream",
          "text": [
            "{'drank': 1, 'coffee': 2, 'tea': 3, 'worked': 4, 'out': 5, 'stressful': 6, 'day': 7, 'ate': 8, 'late': 9}\n"
          ],
          "name": "stdout"
        }
      ]
    },
    {
      "cell_type": "code",
      "metadata": {
        "id": "cId4rxzn_WkT"
      },
      "source": [
        "train_sequences = tokenizer.texts_to_sequences(sleep_data['Sleep Notes'])"
      ],
      "execution_count": 686,
      "outputs": []
    },
    {
      "cell_type": "code",
      "metadata": {
        "id": "h43mVJk7_nP7"
      },
      "source": [
        "maxlen= max([len(x) for x in train_sequences])"
      ],
      "execution_count": 687,
      "outputs": []
    },
    {
      "cell_type": "code",
      "metadata": {
        "id": "kZjHWUxW_34y",
        "outputId": "30cdbb00-7ff6-4110-d1fd-e00f1c9c757c",
        "colab": {
          "base_uri": "https://localhost:8080/"
        }
      },
      "source": [
        "train_padded = pad_sequences(train_sequences, padding='pre', truncating='pre', maxlen=maxlen)\n",
        "print(train_padded)"
      ],
      "execution_count": 688,
      "outputs": [
        {
          "output_type": "stream",
          "text": [
            "[[0 0 0 ... 0 6 7]\n",
            " [0 0 0 ... 2 1 3]\n",
            " [0 0 0 ... 2 1 3]\n",
            " ...\n",
            " [0 0 1 ... 3 4 5]\n",
            " [0 0 0 ... 2 1 3]\n",
            " [0 0 0 ... 2 1 3]]\n"
          ],
          "name": "stdout"
        }
      ]
    },
    {
      "cell_type": "code",
      "metadata": {
        "id": "ir3TPCZXBPLI",
        "outputId": "653cab14-7daf-45b7-be21-d790dc65905b",
        "colab": {
          "base_uri": "https://localhost:8080/"
        }
      },
      "source": [
        "print(sleep_data['Sleep Notes'].shape)\n",
        "print(train_padded.shape)"
      ],
      "execution_count": 689,
      "outputs": [
        {
          "output_type": "stream",
          "text": [
            "(155,)\n",
            "(155, 8)\n"
          ],
          "name": "stdout"
        }
      ]
    },
    {
      "cell_type": "code",
      "metadata": {
        "id": "C41RNdFvExyJ"
      },
      "source": [
        "sleep_data['SNote1'] = 0\n",
        "sleep_data['SNote2'] = 0\n",
        "sleep_data['SNote3'] = 0\n",
        "sleep_data['SNote4'] = 0\n",
        "sleep_data['SNote5'] = 0\n",
        "sleep_data['SNote6'] = 0\n",
        "sleep_data['SNote7'] = 0\n",
        "sleep_data['SNote8'] = 0"
      ],
      "execution_count": 690,
      "outputs": []
    },
    {
      "cell_type": "code",
      "metadata": {
        "id": "7gO5lPcnFTIs",
        "outputId": "7a9759b8-7ebb-448f-d780-cd2ccab58e52",
        "colab": {
          "base_uri": "https://localhost:8080/"
        }
      },
      "source": [
        "for idx, noteData in enumerate(train_padded):\n",
        "  sleep_data['SNote1'][idx] = noteData[0]\n",
        "  sleep_data['SNote2'][idx] = noteData[1]\n",
        "  sleep_data['SNote3'][idx] = noteData[2]\n",
        "  sleep_data['SNote4'][idx] = noteData[3]\n",
        "  sleep_data['SNote5'][idx] = noteData[4]\n",
        "  sleep_data['SNote6'][idx] = noteData[5]\n",
        "  sleep_data['SNote7'][idx] = noteData[6]\n",
        "  sleep_data['SNote8'][idx] = noteData[7]"
      ],
      "execution_count": 691,
      "outputs": [
        {
          "output_type": "stream",
          "text": [
            "/usr/local/lib/python3.6/dist-packages/ipykernel_launcher.py:2: SettingWithCopyWarning: \n",
            "A value is trying to be set on a copy of a slice from a DataFrame\n",
            "\n",
            "See the caveats in the documentation: https://pandas.pydata.org/pandas-docs/stable/user_guide/indexing.html#returning-a-view-versus-a-copy\n",
            "  \n",
            "/usr/local/lib/python3.6/dist-packages/ipykernel_launcher.py:3: SettingWithCopyWarning: \n",
            "A value is trying to be set on a copy of a slice from a DataFrame\n",
            "\n",
            "See the caveats in the documentation: https://pandas.pydata.org/pandas-docs/stable/user_guide/indexing.html#returning-a-view-versus-a-copy\n",
            "  This is separate from the ipykernel package so we can avoid doing imports until\n",
            "/usr/local/lib/python3.6/dist-packages/ipykernel_launcher.py:4: SettingWithCopyWarning: \n",
            "A value is trying to be set on a copy of a slice from a DataFrame\n",
            "\n",
            "See the caveats in the documentation: https://pandas.pydata.org/pandas-docs/stable/user_guide/indexing.html#returning-a-view-versus-a-copy\n",
            "  after removing the cwd from sys.path.\n",
            "/usr/local/lib/python3.6/dist-packages/ipykernel_launcher.py:5: SettingWithCopyWarning: \n",
            "A value is trying to be set on a copy of a slice from a DataFrame\n",
            "\n",
            "See the caveats in the documentation: https://pandas.pydata.org/pandas-docs/stable/user_guide/indexing.html#returning-a-view-versus-a-copy\n",
            "  \"\"\"\n",
            "/usr/local/lib/python3.6/dist-packages/ipykernel_launcher.py:6: SettingWithCopyWarning: \n",
            "A value is trying to be set on a copy of a slice from a DataFrame\n",
            "\n",
            "See the caveats in the documentation: https://pandas.pydata.org/pandas-docs/stable/user_guide/indexing.html#returning-a-view-versus-a-copy\n",
            "  \n",
            "/usr/local/lib/python3.6/dist-packages/ipykernel_launcher.py:7: SettingWithCopyWarning: \n",
            "A value is trying to be set on a copy of a slice from a DataFrame\n",
            "\n",
            "See the caveats in the documentation: https://pandas.pydata.org/pandas-docs/stable/user_guide/indexing.html#returning-a-view-versus-a-copy\n",
            "  import sys\n",
            "/usr/local/lib/python3.6/dist-packages/ipykernel_launcher.py:8: SettingWithCopyWarning: \n",
            "A value is trying to be set on a copy of a slice from a DataFrame\n",
            "\n",
            "See the caveats in the documentation: https://pandas.pydata.org/pandas-docs/stable/user_guide/indexing.html#returning-a-view-versus-a-copy\n",
            "  \n",
            "/usr/local/lib/python3.6/dist-packages/ipykernel_launcher.py:9: SettingWithCopyWarning: \n",
            "A value is trying to be set on a copy of a slice from a DataFrame\n",
            "\n",
            "See the caveats in the documentation: https://pandas.pydata.org/pandas-docs/stable/user_guide/indexing.html#returning-a-view-versus-a-copy\n",
            "  if __name__ == '__main__':\n"
          ],
          "name": "stderr"
        }
      ]
    },
    {
      "cell_type": "markdown",
      "metadata": {
        "id": "FKx3IG5gGtqm"
      },
      "source": [
        "**Handling Wake Up**"
      ]
    },
    {
      "cell_type": "code",
      "metadata": {
        "id": "Erx4kc_L4TSh"
      },
      "source": [
        "# wakeupArr = []\n",
        "# for wupNote in sleep_data['Sleep Notes']:\n",
        "#   if type(wupNote)==float:\n",
        "#     wakeupArr.append('')\n",
        "#   else:\n",
        "#     wakeupArr.append(wupNote)\n",
        "  \n",
        "# sleep_data['Wake up'] = wakeupArr"
      ],
      "execution_count": 692,
      "outputs": []
    },
    {
      "cell_type": "code",
      "metadata": {
        "id": "PNhmMPq_Gzfx"
      },
      "source": [
        "tokenizer = Tokenizer(num_words=100, split=' ', filters='')\n",
        "tokenizer.fit_on_texts(sleep_data['Wake up'])"
      ],
      "execution_count": 693,
      "outputs": []
    },
    {
      "cell_type": "code",
      "metadata": {
        "id": "7xiQlTRYGzf1",
        "outputId": "5d8739bc-29d4-41c3-c2b6-451b6023ecf7",
        "colab": {
          "base_uri": "https://localhost:8080/"
        }
      },
      "source": [
        "word_index = tokenizer.word_index\n",
        "print(word_index)"
      ],
      "execution_count": 694,
      "outputs": [
        {
          "output_type": "stream",
          "text": [
            "{':)': 1, ':|': 2}\n"
          ],
          "name": "stdout"
        }
      ]
    },
    {
      "cell_type": "code",
      "metadata": {
        "id": "LNAaMIoSGzf6"
      },
      "source": [
        "train_sequences = tokenizer.texts_to_sequences(sleep_data['Wake up'])"
      ],
      "execution_count": 695,
      "outputs": []
    },
    {
      "cell_type": "code",
      "metadata": {
        "id": "CfCMCti9Gzf9"
      },
      "source": [
        "maxlen= max([len(x) for x in train_sequences])"
      ],
      "execution_count": 696,
      "outputs": []
    },
    {
      "cell_type": "code",
      "metadata": {
        "id": "q1Bui-2kGzgE"
      },
      "source": [
        "train_padded = pad_sequences(train_sequences, padding='pre', truncating='pre', maxlen=maxlen)"
      ],
      "execution_count": 697,
      "outputs": []
    },
    {
      "cell_type": "code",
      "metadata": {
        "id": "8XafJSLAGzgM",
        "outputId": "ea169f42-1b9f-42aa-acc1-641932f09d34",
        "colab": {
          "base_uri": "https://localhost:8080/"
        }
      },
      "source": [
        "print(sleep_data['Wake up'].shape)\n",
        "print(train_padded.shape)"
      ],
      "execution_count": 698,
      "outputs": [
        {
          "output_type": "stream",
          "text": [
            "(155,)\n",
            "(155, 1)\n"
          ],
          "name": "stdout"
        }
      ]
    },
    {
      "cell_type": "code",
      "metadata": {
        "id": "gpluDvWCGzgP"
      },
      "source": [
        "sleep_data['WakeUp'] = 0"
      ],
      "execution_count": 699,
      "outputs": []
    },
    {
      "cell_type": "code",
      "metadata": {
        "id": "Gjw1Y-lZGzgY",
        "outputId": "687ce173-727b-4233-dadf-f839f21a266e",
        "colab": {
          "base_uri": "https://localhost:8080/"
        }
      },
      "source": [
        "for idx, noteData in enumerate(train_padded):\n",
        "  sleep_data['WakeUp'][idx] = noteData[0]"
      ],
      "execution_count": 700,
      "outputs": [
        {
          "output_type": "stream",
          "text": [
            "/usr/local/lib/python3.6/dist-packages/ipykernel_launcher.py:2: SettingWithCopyWarning: \n",
            "A value is trying to be set on a copy of a slice from a DataFrame\n",
            "\n",
            "See the caveats in the documentation: https://pandas.pydata.org/pandas-docs/stable/user_guide/indexing.html#returning-a-view-versus-a-copy\n",
            "  \n"
          ],
          "name": "stderr"
        }
      ]
    },
    {
      "cell_type": "markdown",
      "metadata": {
        "id": "4obz71pZ7ST0"
      },
      "source": [
        "**End Of Handling Wake Up**"
      ]
    },
    {
      "cell_type": "code",
      "metadata": {
        "id": "SlMgEeaiNTJY",
        "outputId": "5cc3bd15-4c26-45fd-97c1-ead60605ead9",
        "colab": {
          "base_uri": "https://localhost:8080/"
        }
      },
      "source": [
        "sleep_data.info()"
      ],
      "execution_count": 701,
      "outputs": [
        {
          "output_type": "stream",
          "text": [
            "<class 'pandas.core.frame.DataFrame'>\n",
            "Int64Index: 155 entries, 1 to 241\n",
            "Data columns (total 17 columns):\n",
            " #   Column            Non-Null Count  Dtype  \n",
            "---  ------            --------------  -----  \n",
            " 0   Start             155 non-null    object \n",
            " 1   End               155 non-null    object \n",
            " 2   Sleep quality     155 non-null    int8   \n",
            " 3   Time in bed       155 non-null    int64  \n",
            " 4   Wake up           155 non-null    object \n",
            " 5   Sleep Notes       155 non-null    object \n",
            " 6   Heart rate        155 non-null    float64\n",
            " 7   Activity (steps)  155 non-null    int64  \n",
            " 8   SNote1            155 non-null    int64  \n",
            " 9   SNote2            155 non-null    int64  \n",
            " 10  SNote3            155 non-null    int64  \n",
            " 11  SNote4            155 non-null    int64  \n",
            " 12  SNote5            155 non-null    int64  \n",
            " 13  SNote6            155 non-null    int64  \n",
            " 14  SNote7            155 non-null    int64  \n",
            " 15  SNote8            155 non-null    int64  \n",
            " 16  WakeUp            155 non-null    int64  \n",
            "dtypes: float64(1), int64(11), int8(1), object(4)\n",
            "memory usage: 25.7+ KB\n"
          ],
          "name": "stdout"
        }
      ]
    },
    {
      "cell_type": "code",
      "metadata": {
        "id": "eWuSuukoKaAL"
      },
      "source": [
        "sleep_data.drop('Start', inplace=True, axis=1)\n",
        "sleep_data.drop('End', inplace=True, axis=1)\n",
        "sleep_data.drop('Wake up', inplace=True, axis=1)\n",
        "sleep_data.drop('Sleep Notes', inplace=True, axis=1)\n",
        "# sleep_data.drop('WakeUp', inplace=True, axis=1)"
      ],
      "execution_count": 702,
      "outputs": []
    },
    {
      "cell_type": "code",
      "metadata": {
        "id": "hFdl4H2fOAlG",
        "outputId": "7b37f05e-d937-4df9-9dbf-60aa82691840",
        "colab": {
          "base_uri": "https://localhost:8080/"
        }
      },
      "source": [
        "sleep_data.info()"
      ],
      "execution_count": 703,
      "outputs": [
        {
          "output_type": "stream",
          "text": [
            "<class 'pandas.core.frame.DataFrame'>\n",
            "Int64Index: 155 entries, 1 to 241\n",
            "Data columns (total 13 columns):\n",
            " #   Column            Non-Null Count  Dtype  \n",
            "---  ------            --------------  -----  \n",
            " 0   Sleep quality     155 non-null    int8   \n",
            " 1   Time in bed       155 non-null    int64  \n",
            " 2   Heart rate        155 non-null    float64\n",
            " 3   Activity (steps)  155 non-null    int64  \n",
            " 4   SNote1            155 non-null    int64  \n",
            " 5   SNote2            155 non-null    int64  \n",
            " 6   SNote3            155 non-null    int64  \n",
            " 7   SNote4            155 non-null    int64  \n",
            " 8   SNote5            155 non-null    int64  \n",
            " 9   SNote6            155 non-null    int64  \n",
            " 10  SNote7            155 non-null    int64  \n",
            " 11  SNote8            155 non-null    int64  \n",
            " 12  WakeUp            155 non-null    int64  \n",
            "dtypes: float64(1), int64(11), int8(1)\n",
            "memory usage: 20.9 KB\n"
          ],
          "name": "stdout"
        }
      ]
    },
    {
      "cell_type": "code",
      "metadata": {
        "id": "R9XCh2JWOori"
      },
      "source": [
        "X = sleep_data.loc[:, sleep_data.columns != 'Sleep quality']\n",
        "Y = sleep_data.loc[:, sleep_data.columns == 'Sleep quality']"
      ],
      "execution_count": 704,
      "outputs": []
    },
    {
      "cell_type": "code",
      "metadata": {
        "id": "EuHVCfEoOFFa"
      },
      "source": [
        "from tensorflow.keras.models import Sequential\n",
        "from tensorflow.keras.layers import Dense, Dropout"
      ],
      "execution_count": 705,
      "outputs": []
    },
    {
      "cell_type": "code",
      "metadata": {
        "id": "AOWbDpB1OTcu"
      },
      "source": [
        "model = Sequential([\n",
        "     Dense(units=64, activation='relu'),\n",
        "     Dense(units=32, activation='relu'),\n",
        "     Dense(units=1)\n",
        "])"
      ],
      "execution_count": 706,
      "outputs": []
    },
    {
      "cell_type": "code",
      "metadata": {
        "id": "iuu-8k5_OlW-"
      },
      "source": [
        "model.compile(optimizer='Adam', loss='mean_squared_error', metrics=['mse'])"
      ],
      "execution_count": 707,
      "outputs": []
    },
    {
      "cell_type": "code",
      "metadata": {
        "id": "oTYmys_6PDVg",
        "outputId": "7997ed0e-0157-4174-966e-bc48f00dd7b8",
        "colab": {
          "base_uri": "https://localhost:8080/"
        }
      },
      "source": [
        "model.fit(x=X,y=Y, epochs=250, validation_split=(0.2), callbacks=[callback])"
      ],
      "execution_count": 708,
      "outputs": [
        {
          "output_type": "stream",
          "text": [
            "Epoch 1/250\n",
            "WARNING:tensorflow:Layer dense_54 is casting an input tensor from dtype float64 to the layer's dtype of float32, which is new behavior in TensorFlow 2.  The layer has dtype float32 because its dtype defaults to floatx.\n",
            "\n",
            "If you intended to run this layer in float32, you can safely ignore this warning. If in doubt, this warning is likely only an issue if you are porting a TensorFlow 1.X model to TensorFlow 2.\n",
            "\n",
            "To change all layers to have dtype float64 by default, call `tf.keras.backend.set_floatx('float64')`. To change just this layer, pass dtype='float64' to the layer constructor. If you are the author of this layer, you can disable autocasting by passing autocast=False to the base Layer constructor.\n",
            "\n",
            "4/4 [==============================] - 0s 33ms/step - loss: 3678.0798 - mse: 3678.0798 - val_loss: 1189.1116 - val_mse: 1189.1116\n",
            "Epoch 2/250\n",
            "4/4 [==============================] - 0s 5ms/step - loss: 657.9722 - mse: 657.9722 - val_loss: 64.4354 - val_mse: 64.4354\n",
            "Epoch 3/250\n",
            "4/4 [==============================] - 0s 5ms/step - loss: 147.7550 - mse: 147.7550 - val_loss: 320.9286 - val_mse: 320.9286\n",
            "Epoch 4/250\n",
            "4/4 [==============================] - 0s 5ms/step - loss: 444.0388 - mse: 444.0388 - val_loss: 534.1231 - val_mse: 534.1231\n",
            "Epoch 5/250\n",
            "4/4 [==============================] - 0s 6ms/step - loss: 505.2800 - mse: 505.2800 - val_loss: 378.1455 - val_mse: 378.1455\n",
            "Epoch 6/250\n",
            "4/4 [==============================] - 0s 6ms/step - loss: 308.6522 - mse: 308.6522 - val_loss: 144.5803 - val_mse: 144.5803\n",
            "Epoch 7/250\n",
            "4/4 [==============================] - 0s 5ms/step - loss: 133.3566 - mse: 133.3566 - val_loss: 57.4298 - val_mse: 57.4298\n",
            "Epoch 8/250\n",
            "4/4 [==============================] - 0s 5ms/step - loss: 115.3417 - mse: 115.3417 - val_loss: 85.8180 - val_mse: 85.8180\n",
            "Epoch 9/250\n",
            "4/4 [==============================] - 0s 5ms/step - loss: 156.9111 - mse: 156.9111 - val_loss: 107.5745 - val_mse: 107.5745\n",
            "Epoch 10/250\n",
            "4/4 [==============================] - 0s 5ms/step - loss: 157.7613 - mse: 157.7613 - val_loss: 80.5316 - val_mse: 80.5316\n",
            "Epoch 11/250\n",
            "4/4 [==============================] - 0s 5ms/step - loss: 122.0451 - mse: 122.0451 - val_loss: 58.0585 - val_mse: 58.0585\n",
            "Epoch 12/250\n",
            "4/4 [==============================] - 0s 5ms/step - loss: 102.4113 - mse: 102.4113 - val_loss: 62.7901 - val_mse: 62.7901\n",
            "Epoch 13/250\n",
            "4/4 [==============================] - 0s 6ms/step - loss: 107.6812 - mse: 107.6812 - val_loss: 73.7457 - val_mse: 73.7457\n",
            "Epoch 14/250\n",
            "4/4 [==============================] - 0s 5ms/step - loss: 112.6372 - mse: 112.6372 - val_loss: 71.2491 - val_mse: 71.2491\n",
            "Epoch 15/250\n",
            "4/4 [==============================] - 0s 5ms/step - loss: 107.7541 - mse: 107.7541 - val_loss: 61.5518 - val_mse: 61.5518\n",
            "Epoch 16/250\n",
            "4/4 [==============================] - 0s 7ms/step - loss: 102.2838 - mse: 102.2838 - val_loss: 57.2273 - val_mse: 57.2273\n",
            "Epoch 17/250\n",
            "4/4 [==============================] - 0s 5ms/step - loss: 102.2669 - mse: 102.2669 - val_loss: 57.2282 - val_mse: 57.2282\n",
            "Epoch 18/250\n",
            "4/4 [==============================] - 0s 5ms/step - loss: 103.8962 - mse: 103.8962 - val_loss: 57.2159 - val_mse: 57.2159\n",
            "Epoch 19/250\n",
            "4/4 [==============================] - 0s 5ms/step - loss: 103.3327 - mse: 103.3327 - val_loss: 57.0603 - val_mse: 57.0603\n",
            "Epoch 20/250\n",
            "4/4 [==============================] - 0s 6ms/step - loss: 102.7137 - mse: 102.7137 - val_loss: 57.9869 - val_mse: 57.9869\n",
            "Epoch 21/250\n",
            "4/4 [==============================] - 0s 5ms/step - loss: 103.3987 - mse: 103.3987 - val_loss: 59.9774 - val_mse: 59.9774\n",
            "Epoch 22/250\n",
            "4/4 [==============================] - 0s 5ms/step - loss: 102.5579 - mse: 102.5579 - val_loss: 58.9140 - val_mse: 58.9140\n",
            "Epoch 23/250\n",
            "4/4 [==============================] - 0s 6ms/step - loss: 102.1528 - mse: 102.1528 - val_loss: 57.8444 - val_mse: 57.8444\n",
            "Epoch 24/250\n",
            "4/4 [==============================] - 0s 10ms/step - loss: 101.9708 - mse: 101.9708 - val_loss: 57.7129 - val_mse: 57.7129\n",
            "Epoch 25/250\n",
            "4/4 [==============================] - 0s 7ms/step - loss: 101.8847 - mse: 101.8847 - val_loss: 57.4299 - val_mse: 57.4299\n",
            "Epoch 26/250\n",
            "4/4 [==============================] - 0s 6ms/step - loss: 101.9761 - mse: 101.9761 - val_loss: 57.4715 - val_mse: 57.4715\n",
            "Epoch 27/250\n",
            "4/4 [==============================] - 0s 6ms/step - loss: 101.9341 - mse: 101.9341 - val_loss: 57.5355 - val_mse: 57.5355\n",
            "Epoch 28/250\n",
            "4/4 [==============================] - 0s 6ms/step - loss: 101.9466 - mse: 101.9466 - val_loss: 57.8412 - val_mse: 57.8412\n",
            "Epoch 29/250\n",
            "4/4 [==============================] - 0s 6ms/step - loss: 101.8142 - mse: 101.8142 - val_loss: 58.3057 - val_mse: 58.3057\n",
            "Epoch 30/250\n",
            "4/4 [==============================] - 0s 6ms/step - loss: 102.0586 - mse: 102.0586 - val_loss: 58.4109 - val_mse: 58.4109\n",
            "Epoch 31/250\n",
            "4/4 [==============================] - 0s 5ms/step - loss: 101.8526 - mse: 101.8526 - val_loss: 58.2451 - val_mse: 58.2451\n",
            "Epoch 32/250\n",
            "4/4 [==============================] - 0s 5ms/step - loss: 101.9717 - mse: 101.9717 - val_loss: 58.1617 - val_mse: 58.1617\n",
            "Epoch 33/250\n",
            "4/4 [==============================] - 0s 6ms/step - loss: 101.7912 - mse: 101.7912 - val_loss: 57.4142 - val_mse: 57.4142\n",
            "Epoch 34/250\n",
            "4/4 [==============================] - 0s 5ms/step - loss: 101.9452 - mse: 101.9452 - val_loss: 57.5327 - val_mse: 57.5327\n",
            "Epoch 35/250\n",
            "4/4 [==============================] - 0s 5ms/step - loss: 102.9698 - mse: 102.9698 - val_loss: 57.1683 - val_mse: 57.1683\n",
            "Epoch 36/250\n",
            "4/4 [==============================] - 0s 6ms/step - loss: 101.8696 - mse: 101.8696 - val_loss: 58.3120 - val_mse: 58.3120\n",
            "Epoch 37/250\n",
            "4/4 [==============================] - 0s 5ms/step - loss: 101.9325 - mse: 101.9325 - val_loss: 58.9905 - val_mse: 58.9905\n",
            "Epoch 38/250\n",
            "4/4 [==============================] - 0s 6ms/step - loss: 102.1369 - mse: 102.1369 - val_loss: 59.3216 - val_mse: 59.3216\n",
            "Epoch 39/250\n",
            "4/4 [==============================] - 0s 5ms/step - loss: 101.8210 - mse: 101.8210 - val_loss: 58.0550 - val_mse: 58.0550\n",
            "Epoch 40/250\n",
            "4/4 [==============================] - 0s 5ms/step - loss: 102.9379 - mse: 102.9379 - val_loss: 57.1422 - val_mse: 57.1422\n",
            "Epoch 41/250\n",
            "4/4 [==============================] - 0s 7ms/step - loss: 101.8858 - mse: 101.8858 - val_loss: 57.5011 - val_mse: 57.5011\n",
            "Epoch 42/250\n",
            "4/4 [==============================] - 0s 6ms/step - loss: 102.5883 - mse: 102.5883 - val_loss: 59.5566 - val_mse: 59.5566\n",
            "Epoch 43/250\n",
            "4/4 [==============================] - 0s 6ms/step - loss: 101.9795 - mse: 101.9795 - val_loss: 58.8125 - val_mse: 58.8125\n",
            "Epoch 44/250\n",
            "4/4 [==============================] - 0s 7ms/step - loss: 101.6391 - mse: 101.6391 - val_loss: 58.0089 - val_mse: 58.0089\n",
            "Epoch 45/250\n",
            "4/4 [==============================] - 0s 6ms/step - loss: 101.9473 - mse: 101.9473 - val_loss: 57.4742 - val_mse: 57.4742\n",
            "Epoch 46/250\n",
            "4/4 [==============================] - 0s 6ms/step - loss: 101.6549 - mse: 101.6549 - val_loss: 57.9461 - val_mse: 57.9461\n",
            "Epoch 47/250\n",
            "4/4 [==============================] - 0s 8ms/step - loss: 101.7327 - mse: 101.7327 - val_loss: 58.6262 - val_mse: 58.6262\n",
            "Epoch 48/250\n",
            "4/4 [==============================] - 0s 10ms/step - loss: 101.5351 - mse: 101.5351 - val_loss: 58.3243 - val_mse: 58.3243\n",
            "Epoch 49/250\n",
            "4/4 [==============================] - 0s 6ms/step - loss: 101.5808 - mse: 101.5808 - val_loss: 57.6768 - val_mse: 57.6768\n",
            "Epoch 50/250\n",
            "4/4 [==============================] - 0s 5ms/step - loss: 101.5592 - mse: 101.5592 - val_loss: 57.7974 - val_mse: 57.7974\n",
            "Epoch 51/250\n",
            "4/4 [==============================] - 0s 10ms/step - loss: 102.1203 - mse: 102.1203 - val_loss: 57.7560 - val_mse: 57.7560\n",
            "Epoch 52/250\n",
            "4/4 [==============================] - 0s 6ms/step - loss: 101.3765 - mse: 101.3765 - val_loss: 58.4633 - val_mse: 58.4633\n",
            "Epoch 53/250\n",
            "4/4 [==============================] - 0s 5ms/step - loss: 101.4100 - mse: 101.4100 - val_loss: 58.9534 - val_mse: 58.9534\n",
            "Epoch 54/250\n",
            "4/4 [==============================] - 0s 5ms/step - loss: 101.8606 - mse: 101.8606 - val_loss: 58.3939 - val_mse: 58.3939\n",
            "Epoch 55/250\n",
            "4/4 [==============================] - 0s 5ms/step - loss: 101.4312 - mse: 101.4312 - val_loss: 58.4734 - val_mse: 58.4734\n",
            "Epoch 56/250\n",
            "4/4 [==============================] - 0s 6ms/step - loss: 102.1179 - mse: 102.1179 - val_loss: 57.9306 - val_mse: 57.9306\n",
            "Epoch 57/250\n",
            "4/4 [==============================] - 0s 6ms/step - loss: 101.3740 - mse: 101.3740 - val_loss: 59.1779 - val_mse: 59.1779\n",
            "Epoch 58/250\n",
            "4/4 [==============================] - 0s 6ms/step - loss: 101.7917 - mse: 101.7917 - val_loss: 58.9880 - val_mse: 58.9880\n",
            "Epoch 59/250\n",
            "4/4 [==============================] - 0s 6ms/step - loss: 101.5436 - mse: 101.5436 - val_loss: 59.0179 - val_mse: 59.0179\n",
            "Epoch 60/250\n",
            "4/4 [==============================] - 0s 6ms/step - loss: 101.5539 - mse: 101.5539 - val_loss: 57.9673 - val_mse: 57.9673\n",
            "Epoch 61/250\n",
            "4/4 [==============================] - 0s 5ms/step - loss: 101.5157 - mse: 101.5157 - val_loss: 58.1322 - val_mse: 58.1322\n",
            "Epoch 62/250\n",
            "4/4 [==============================] - 0s 6ms/step - loss: 101.3443 - mse: 101.3443 - val_loss: 57.9163 - val_mse: 57.9163\n",
            "Epoch 63/250\n",
            "4/4 [==============================] - 0s 5ms/step - loss: 101.4776 - mse: 101.4776 - val_loss: 57.6540 - val_mse: 57.6540\n",
            "Epoch 64/250\n",
            "4/4 [==============================] - 0s 5ms/step - loss: 101.5156 - mse: 101.5156 - val_loss: 57.7936 - val_mse: 57.7936\n",
            "Epoch 65/250\n",
            "4/4 [==============================] - 0s 5ms/step - loss: 101.3292 - mse: 101.3292 - val_loss: 59.4680 - val_mse: 59.4680\n",
            "Epoch 66/250\n",
            "4/4 [==============================] - 0s 5ms/step - loss: 101.4817 - mse: 101.4817 - val_loss: 59.6515 - val_mse: 59.6515\n",
            "Epoch 67/250\n",
            "4/4 [==============================] - 0s 7ms/step - loss: 101.5261 - mse: 101.5261 - val_loss: 57.9805 - val_mse: 57.9805\n",
            "Epoch 68/250\n",
            "4/4 [==============================] - 0s 7ms/step - loss: 102.2556 - mse: 102.2556 - val_loss: 57.4933 - val_mse: 57.4933\n",
            "Epoch 69/250\n",
            "4/4 [==============================] - 0s 6ms/step - loss: 101.6200 - mse: 101.6200 - val_loss: 59.1275 - val_mse: 59.1275\n",
            "Epoch 70/250\n",
            "4/4 [==============================] - 0s 6ms/step - loss: 101.4553 - mse: 101.4553 - val_loss: 59.6759 - val_mse: 59.6759\n",
            "Epoch 71/250\n",
            "4/4 [==============================] - 0s 5ms/step - loss: 102.8856 - mse: 102.8856 - val_loss: 57.4816 - val_mse: 57.4816\n",
            "Epoch 72/250\n",
            "4/4 [==============================] - 0s 5ms/step - loss: 102.0883 - mse: 102.0883 - val_loss: 59.4498 - val_mse: 59.4498\n",
            "Epoch 73/250\n",
            "4/4 [==============================] - 0s 5ms/step - loss: 101.2790 - mse: 101.2790 - val_loss: 58.5962 - val_mse: 58.5962\n",
            "Epoch 74/250\n",
            "4/4 [==============================] - 0s 6ms/step - loss: 101.4928 - mse: 101.4928 - val_loss: 57.8137 - val_mse: 57.8137\n",
            "Epoch 75/250\n",
            "4/4 [==============================] - 0s 5ms/step - loss: 101.5152 - mse: 101.5152 - val_loss: 58.3927 - val_mse: 58.3927\n",
            "Epoch 76/250\n",
            "4/4 [==============================] - 0s 5ms/step - loss: 101.2396 - mse: 101.2396 - val_loss: 59.8271 - val_mse: 59.8271\n",
            "Epoch 77/250\n",
            "4/4 [==============================] - 0s 5ms/step - loss: 101.2885 - mse: 101.2885 - val_loss: 59.3713 - val_mse: 59.3713\n",
            "Epoch 78/250\n",
            "4/4 [==============================] - 0s 6ms/step - loss: 101.5218 - mse: 101.5218 - val_loss: 58.1990 - val_mse: 58.1990\n",
            "Epoch 79/250\n",
            "4/4 [==============================] - 0s 6ms/step - loss: 101.3018 - mse: 101.3018 - val_loss: 57.4743 - val_mse: 57.4743\n",
            "Epoch 80/250\n",
            "4/4 [==============================] - 0s 6ms/step - loss: 101.6027 - mse: 101.6027 - val_loss: 58.1240 - val_mse: 58.1240\n",
            "Epoch 81/250\n",
            "4/4 [==============================] - 0s 8ms/step - loss: 101.2804 - mse: 101.2804 - val_loss: 59.0100 - val_mse: 59.0100\n",
            "Epoch 82/250\n",
            "4/4 [==============================] - 0s 6ms/step - loss: 101.4923 - mse: 101.4923 - val_loss: 58.5254 - val_mse: 58.5254\n",
            "Epoch 83/250\n",
            "4/4 [==============================] - 0s 5ms/step - loss: 101.1105 - mse: 101.1105 - val_loss: 60.2417 - val_mse: 60.2417\n",
            "Epoch 84/250\n",
            "4/4 [==============================] - 0s 6ms/step - loss: 101.2625 - mse: 101.2625 - val_loss: 59.8348 - val_mse: 59.8348\n",
            "Epoch 85/250\n",
            "4/4 [==============================] - 0s 5ms/step - loss: 101.1232 - mse: 101.1232 - val_loss: 58.7977 - val_mse: 58.7977\n",
            "Epoch 86/250\n",
            "4/4 [==============================] - 0s 5ms/step - loss: 102.9124 - mse: 102.9124 - val_loss: 56.9086 - val_mse: 56.9086\n",
            "Epoch 87/250\n",
            "4/4 [==============================] - 0s 6ms/step - loss: 101.3004 - mse: 101.3004 - val_loss: 58.4587 - val_mse: 58.4587\n",
            "Epoch 88/250\n",
            "4/4 [==============================] - 0s 6ms/step - loss: 100.8606 - mse: 100.8606 - val_loss: 60.3183 - val_mse: 60.3183\n",
            "Epoch 89/250\n",
            "4/4 [==============================] - 0s 7ms/step - loss: 102.7955 - mse: 102.7955 - val_loss: 63.2172 - val_mse: 63.2172\n",
            "Epoch 90/250\n",
            "4/4 [==============================] - 0s 6ms/step - loss: 102.9937 - mse: 102.9937 - val_loss: 57.6362 - val_mse: 57.6362\n",
            "Epoch 91/250\n",
            "4/4 [==============================] - 0s 7ms/step - loss: 101.7589 - mse: 101.7589 - val_loss: 58.1431 - val_mse: 58.1431\n",
            "Epoch 92/250\n",
            "4/4 [==============================] - 0s 5ms/step - loss: 100.9646 - mse: 100.9646 - val_loss: 58.0072 - val_mse: 58.0072\n",
            "Epoch 93/250\n",
            "4/4 [==============================] - 0s 5ms/step - loss: 101.0102 - mse: 101.0102 - val_loss: 58.4823 - val_mse: 58.4823\n",
            "Epoch 94/250\n",
            "4/4 [==============================] - 0s 5ms/step - loss: 101.4851 - mse: 101.4851 - val_loss: 60.9511 - val_mse: 60.9511\n",
            "Epoch 95/250\n",
            "4/4 [==============================] - 0s 5ms/step - loss: 101.5009 - mse: 101.5009 - val_loss: 60.6802 - val_mse: 60.6802\n",
            "Epoch 96/250\n",
            "4/4 [==============================] - 0s 6ms/step - loss: 100.6830 - mse: 100.6830 - val_loss: 58.3387 - val_mse: 58.3387\n",
            "Epoch 97/250\n",
            "4/4 [==============================] - 0s 6ms/step - loss: 102.9376 - mse: 102.9376 - val_loss: 56.9932 - val_mse: 56.9932\n",
            "Epoch 98/250\n",
            "4/4 [==============================] - 0s 7ms/step - loss: 101.6137 - mse: 101.6137 - val_loss: 59.4652 - val_mse: 59.4652\n",
            "Epoch 99/250\n",
            "4/4 [==============================] - 0s 6ms/step - loss: 101.1077 - mse: 101.1077 - val_loss: 60.6862 - val_mse: 60.6862\n",
            "Epoch 100/250\n",
            "4/4 [==============================] - 0s 5ms/step - loss: 100.9963 - mse: 100.9963 - val_loss: 60.0247 - val_mse: 60.0247\n",
            "Epoch 101/250\n",
            "4/4 [==============================] - 0s 5ms/step - loss: 101.1693 - mse: 101.1693 - val_loss: 57.8058 - val_mse: 57.8058\n",
            "Epoch 102/250\n",
            "4/4 [==============================] - 0s 5ms/step - loss: 101.3244 - mse: 101.3244 - val_loss: 57.7523 - val_mse: 57.7523\n",
            "Epoch 103/250\n",
            "4/4 [==============================] - 0s 6ms/step - loss: 100.5287 - mse: 100.5287 - val_loss: 59.5796 - val_mse: 59.5796\n",
            "Epoch 104/250\n",
            "4/4 [==============================] - 0s 6ms/step - loss: 101.2195 - mse: 101.2195 - val_loss: 63.1102 - val_mse: 63.1102\n",
            "Epoch 105/250\n",
            "4/4 [==============================] - 0s 6ms/step - loss: 102.0544 - mse: 102.0544 - val_loss: 59.6084 - val_mse: 59.6084\n",
            "Epoch 106/250\n",
            "4/4 [==============================] - 0s 5ms/step - loss: 100.6299 - mse: 100.6299 - val_loss: 57.9199 - val_mse: 57.9199\n",
            "Epoch 107/250\n",
            "4/4 [==============================] - 0s 6ms/step - loss: 101.1405 - mse: 101.1405 - val_loss: 57.9269 - val_mse: 57.9269\n",
            "Epoch 108/250\n",
            "4/4 [==============================] - 0s 5ms/step - loss: 100.5782 - mse: 100.5782 - val_loss: 60.1330 - val_mse: 60.1330\n",
            "Epoch 109/250\n",
            "4/4 [==============================] - 0s 5ms/step - loss: 101.0517 - mse: 101.0517 - val_loss: 62.0642 - val_mse: 62.0642\n",
            "Epoch 110/250\n",
            "4/4 [==============================] - 0s 5ms/step - loss: 100.8796 - mse: 100.8796 - val_loss: 59.4367 - val_mse: 59.4367\n",
            "Epoch 111/250\n",
            "4/4 [==============================] - 0s 5ms/step - loss: 100.6682 - mse: 100.6682 - val_loss: 58.0251 - val_mse: 58.0251\n",
            "Epoch 112/250\n",
            "4/4 [==============================] - 0s 5ms/step - loss: 101.1893 - mse: 101.1893 - val_loss: 57.8441 - val_mse: 57.8441\n",
            "Epoch 113/250\n",
            "4/4 [==============================] - 0s 6ms/step - loss: 102.2647 - mse: 102.2647 - val_loss: 61.8344 - val_mse: 61.8344\n",
            "Epoch 114/250\n",
            "4/4 [==============================] - 0s 8ms/step - loss: 101.3283 - mse: 101.3283 - val_loss: 58.8355 - val_mse: 58.8355\n",
            "Epoch 115/250\n",
            "4/4 [==============================] - 0s 6ms/step - loss: 100.7483 - mse: 100.7483 - val_loss: 59.3399 - val_mse: 59.3399\n",
            "Epoch 116/250\n",
            "4/4 [==============================] - 0s 5ms/step - loss: 100.8016 - mse: 100.8016 - val_loss: 58.7247 - val_mse: 58.7247\n",
            "Epoch 117/250\n",
            "4/4 [==============================] - 0s 5ms/step - loss: 101.0329 - mse: 101.0329 - val_loss: 58.8023 - val_mse: 58.8023\n",
            "Epoch 118/250\n",
            "4/4 [==============================] - 0s 5ms/step - loss: 100.3001 - mse: 100.3001 - val_loss: 60.8335 - val_mse: 60.8335\n",
            "Epoch 119/250\n",
            "4/4 [==============================] - 0s 6ms/step - loss: 101.9160 - mse: 101.9160 - val_loss: 63.5940 - val_mse: 63.5940\n",
            "Epoch 120/250\n",
            "4/4 [==============================] - 0s 6ms/step - loss: 100.5851 - mse: 100.5851 - val_loss: 58.8755 - val_mse: 58.8755\n",
            "Epoch 121/250\n",
            "4/4 [==============================] - 0s 6ms/step - loss: 101.2644 - mse: 101.2644 - val_loss: 57.1018 - val_mse: 57.1018\n",
            "Epoch 122/250\n",
            "4/4 [==============================] - 0s 7ms/step - loss: 101.2770 - mse: 101.2770 - val_loss: 58.9433 - val_mse: 58.9433\n",
            "Epoch 123/250\n",
            "4/4 [==============================] - 0s 7ms/step - loss: 101.1745 - mse: 101.1745 - val_loss: 63.0846 - val_mse: 63.0846\n",
            "Epoch 124/250\n",
            "4/4 [==============================] - 0s 6ms/step - loss: 101.3681 - mse: 101.3681 - val_loss: 61.0666 - val_mse: 61.0666\n",
            "Epoch 125/250\n",
            "4/4 [==============================] - 0s 7ms/step - loss: 100.2282 - mse: 100.2282 - val_loss: 58.7379 - val_mse: 58.7379\n",
            "Epoch 126/250\n",
            "4/4 [==============================] - 0s 7ms/step - loss: 101.0495 - mse: 101.0495 - val_loss: 57.2081 - val_mse: 57.2081\n",
            "Epoch 127/250\n",
            "4/4 [==============================] - 0s 6ms/step - loss: 101.9590 - mse: 101.9590 - val_loss: 60.5164 - val_mse: 60.5164\n",
            "Epoch 128/250\n",
            "4/4 [==============================] - 0s 6ms/step - loss: 100.4597 - mse: 100.4597 - val_loss: 60.9381 - val_mse: 60.9381\n",
            "Epoch 129/250\n",
            "4/4 [==============================] - 0s 6ms/step - loss: 101.4183 - mse: 101.4183 - val_loss: 58.4735 - val_mse: 58.4735\n",
            "Epoch 130/250\n",
            "4/4 [==============================] - 0s 6ms/step - loss: 101.0361 - mse: 101.0361 - val_loss: 59.4005 - val_mse: 59.4005\n",
            "Epoch 131/250\n",
            "4/4 [==============================] - 0s 6ms/step - loss: 100.3970 - mse: 100.3970 - val_loss: 61.6927 - val_mse: 61.6927\n",
            "Epoch 132/250\n",
            "4/4 [==============================] - 0s 6ms/step - loss: 101.2644 - mse: 101.2644 - val_loss: 61.9471 - val_mse: 61.9471\n",
            "Epoch 133/250\n",
            "4/4 [==============================] - 0s 8ms/step - loss: 100.8774 - mse: 100.8774 - val_loss: 60.2260 - val_mse: 60.2260\n",
            "Epoch 134/250\n",
            "4/4 [==============================] - 0s 6ms/step - loss: 100.7985 - mse: 100.7985 - val_loss: 59.4452 - val_mse: 59.4452\n",
            "Epoch 135/250\n",
            "4/4 [==============================] - 0s 6ms/step - loss: 100.5395 - mse: 100.5395 - val_loss: 60.5814 - val_mse: 60.5814\n",
            "Epoch 136/250\n",
            "4/4 [==============================] - 0s 6ms/step - loss: 100.3787 - mse: 100.3787 - val_loss: 61.0613 - val_mse: 61.0613\n",
            "Epoch 137/250\n",
            "4/4 [==============================] - 0s 7ms/step - loss: 101.0067 - mse: 101.0067 - val_loss: 60.7380 - val_mse: 60.7380\n",
            "Epoch 138/250\n",
            "4/4 [==============================] - 0s 5ms/step - loss: 100.1129 - mse: 100.1129 - val_loss: 58.6649 - val_mse: 58.6649\n",
            "Epoch 139/250\n",
            "4/4 [==============================] - 0s 5ms/step - loss: 100.5362 - mse: 100.5362 - val_loss: 58.5445 - val_mse: 58.5445\n",
            "Epoch 140/250\n",
            "4/4 [==============================] - 0s 8ms/step - loss: 100.5289 - mse: 100.5289 - val_loss: 60.2409 - val_mse: 60.2409\n",
            "Epoch 141/250\n",
            "4/4 [==============================] - 0s 6ms/step - loss: 100.7298 - mse: 100.7298 - val_loss: 61.7012 - val_mse: 61.7012\n",
            "Epoch 142/250\n",
            "4/4 [==============================] - 0s 5ms/step - loss: 100.4571 - mse: 100.4571 - val_loss: 60.3159 - val_mse: 60.3159\n",
            "Epoch 143/250\n",
            "4/4 [==============================] - 0s 5ms/step - loss: 101.7792 - mse: 101.7792 - val_loss: 57.6352 - val_mse: 57.6352\n",
            "Epoch 144/250\n",
            "4/4 [==============================] - 0s 6ms/step - loss: 100.7616 - mse: 100.7616 - val_loss: 61.6410 - val_mse: 61.6410\n",
            "Epoch 145/250\n",
            "4/4 [==============================] - 0s 6ms/step - loss: 101.3903 - mse: 101.3903 - val_loss: 63.4938 - val_mse: 63.4938\n",
            "Epoch 146/250\n",
            "4/4 [==============================] - 0s 7ms/step - loss: 100.6756 - mse: 100.6756 - val_loss: 59.5379 - val_mse: 59.5379\n",
            "Epoch 147/250\n",
            "4/4 [==============================] - 0s 6ms/step - loss: 100.2634 - mse: 100.2634 - val_loss: 58.8316 - val_mse: 58.8316\n",
            "Epoch 148/250\n",
            "4/4 [==============================] - 0s 7ms/step - loss: 100.7456 - mse: 100.7456 - val_loss: 59.3258 - val_mse: 59.3258\n",
            "Epoch 149/250\n",
            "4/4 [==============================] - 0s 7ms/step - loss: 101.5040 - mse: 101.5040 - val_loss: 64.4632 - val_mse: 64.4632\n",
            "Epoch 150/250\n",
            "4/4 [==============================] - 0s 7ms/step - loss: 100.4953 - mse: 100.4953 - val_loss: 60.1621 - val_mse: 60.1621\n",
            "Epoch 151/250\n",
            "4/4 [==============================] - 0s 8ms/step - loss: 100.4279 - mse: 100.4279 - val_loss: 58.5651 - val_mse: 58.5651\n",
            "Epoch 152/250\n",
            "4/4 [==============================] - 0s 7ms/step - loss: 100.9714 - mse: 100.9714 - val_loss: 60.0833 - val_mse: 60.0833\n",
            "Epoch 153/250\n",
            "4/4 [==============================] - 0s 7ms/step - loss: 100.0642 - mse: 100.0642 - val_loss: 61.4897 - val_mse: 61.4897\n",
            "Epoch 154/250\n",
            "4/4 [==============================] - 0s 8ms/step - loss: 100.4436 - mse: 100.4436 - val_loss: 62.6495 - val_mse: 62.6495\n",
            "Epoch 155/250\n",
            "4/4 [==============================] - 0s 6ms/step - loss: 100.1434 - mse: 100.1434 - val_loss: 60.2207 - val_mse: 60.2207\n",
            "Epoch 156/250\n",
            "4/4 [==============================] - 0s 7ms/step - loss: 100.1189 - mse: 100.1189 - val_loss: 58.7364 - val_mse: 58.7364\n",
            "Epoch 157/250\n",
            "4/4 [==============================] - 0s 7ms/step - loss: 100.2917 - mse: 100.2917 - val_loss: 60.1635 - val_mse: 60.1635\n",
            "Epoch 158/250\n",
            "4/4 [==============================] - 0s 7ms/step - loss: 100.4788 - mse: 100.4788 - val_loss: 62.4325 - val_mse: 62.4325\n",
            "Epoch 159/250\n",
            "4/4 [==============================] - 0s 7ms/step - loss: 100.2116 - mse: 100.2116 - val_loss: 60.5444 - val_mse: 60.5444\n",
            "Epoch 160/250\n",
            "4/4 [==============================] - 0s 6ms/step - loss: 101.0246 - mse: 101.0246 - val_loss: 58.2055 - val_mse: 58.2055\n",
            "Epoch 161/250\n",
            "4/4 [==============================] - 0s 6ms/step - loss: 100.4995 - mse: 100.4995 - val_loss: 61.1592 - val_mse: 61.1592\n",
            "Epoch 162/250\n",
            "4/4 [==============================] - 0s 6ms/step - loss: 100.5341 - mse: 100.5341 - val_loss: 65.0778 - val_mse: 65.0778\n",
            "Epoch 163/250\n",
            "4/4 [==============================] - 0s 7ms/step - loss: 100.7080 - mse: 100.7080 - val_loss: 60.5946 - val_mse: 60.5946\n",
            "Epoch 164/250\n",
            "1/4 [======>.......................] - ETA: 0s - loss: 97.0673 - mse: 97.0673Reached Target\n",
            "4/4 [==============================] - 0s 6ms/step - loss: 99.9704 - mse: 99.9704 - val_loss: 58.9189 - val_mse: 58.9189\n",
            "Best Val_MSE: [102.91236114501953, 56.908607482910156]\n",
            "Best MSE: [99.97037506103516, 58.918949127197266]\n"
          ],
          "name": "stdout"
        },
        {
          "output_type": "execute_result",
          "data": {
            "text/plain": [
              "<tensorflow.python.keras.callbacks.History at 0x7f629b99a390>"
            ]
          },
          "metadata": {
            "tags": []
          },
          "execution_count": 708
        }
      ]
    },
    {
      "cell_type": "code",
      "metadata": {
        "id": "8nMdyKeIPi0L"
      },
      "source": [
        "#loss: 105.1226 - mse: 105.1226 - val_loss: 65.1121 - val_mse: 65.1121 with activity\n",
        "#loss: 102.7348 - mse: 102.7348 - val_loss: 62.5017 - val_mse: 62.5017 without sleep  notes\n",
        "#loss: 102.5009 - mse: 102.5009 - val_loss: 62.1021 - val_mse: 62.1021 with sleep notes\n",
        "#loss: 102.3190 - mse: 102.3190 - val_loss: 62.3128 - val_mse: 62.3128 with sleep notes and wake up\n",
        "#loss: 101.6704 - mse: 101.6704 - val_loss: 59.8196 - val_mse: 59.8196 50 epochs\n",
        "#loss:  99.3130 - mse:  99.3130 - val_loss: 65.5199 - val_mse: 65.5199 with heart rate filled with fillna(mean)\n",
        "#loss: 101.6605 - mse: 101.6605 - val_loss: 59.4113 - val_mse: 59.4113 With Call back mse: 101.6704 val_mse: 59.8196\n",
        "#loss: 100.7489 - mse: 100.7489 - val_loss: 61.2192 - val_mse: 61.2192 with every attribute exept start and end with out Call back\n",
        "#loss: 92.3622  - mse: 92.3622  - val_loss: 190.7880- val_mse: 190.7880 With 162 values filling sleep notes for na values\n",
        "#loss: 91.5628  - mse: 91.5628  - val_loss: 125.4840- val_mse: 125.4840 With pre procesing WakeUp in order to avoid dropna wake up"
      ],
      "execution_count": 709,
      "outputs": []
    },
    {
      "cell_type": "code",
      "metadata": {
        "id": "GZ_iWV3eVF2V"
      },
      "source": [
        "# Best Val_MSE: [105.44902038574219, 58.143531799316406]\n",
        "# Best MSE: [99.47660064697266, 68.79240417480469]"
      ],
      "execution_count": 710,
      "outputs": []
    },
    {
      "cell_type": "code",
      "metadata": {
        "id": "-ubP14lNj5nQ"
      },
      "source": [
        "model.save('SleepData_bestYet_model.h5')"
      ],
      "execution_count": 713,
      "outputs": []
    },
    {
      "cell_type": "code",
      "metadata": {
        "id": "RtBrHKin2uwg",
        "outputId": "81215420-a63e-482b-9a3e-92f22a9d2353",
        "colab": {
          "base_uri": "https://localhost:8080/"
        }
      },
      "source": [
        "sleep_data.info()"
      ],
      "execution_count": 712,
      "outputs": [
        {
          "output_type": "stream",
          "text": [
            "<class 'pandas.core.frame.DataFrame'>\n",
            "Int64Index: 155 entries, 1 to 241\n",
            "Data columns (total 13 columns):\n",
            " #   Column            Non-Null Count  Dtype  \n",
            "---  ------            --------------  -----  \n",
            " 0   Sleep quality     155 non-null    int8   \n",
            " 1   Time in bed       155 non-null    int64  \n",
            " 2   Heart rate        155 non-null    float64\n",
            " 3   Activity (steps)  155 non-null    int64  \n",
            " 4   SNote1            155 non-null    int64  \n",
            " 5   SNote2            155 non-null    int64  \n",
            " 6   SNote3            155 non-null    int64  \n",
            " 7   SNote4            155 non-null    int64  \n",
            " 8   SNote5            155 non-null    int64  \n",
            " 9   SNote6            155 non-null    int64  \n",
            " 10  SNote7            155 non-null    int64  \n",
            " 11  SNote8            155 non-null    int64  \n",
            " 12  WakeUp            155 non-null    int64  \n",
            "dtypes: float64(1), int64(11), int8(1)\n",
            "memory usage: 20.9 KB\n"
          ],
          "name": "stdout"
        }
      ]
    }
  ]
}