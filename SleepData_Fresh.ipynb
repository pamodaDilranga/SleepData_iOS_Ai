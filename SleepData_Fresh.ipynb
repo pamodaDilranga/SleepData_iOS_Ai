{
  "nbformat": 4,
  "nbformat_minor": 0,
  "metadata": {
    "colab": {
      "name": "SleepData_Fresh.ipynb",
      "provenance": [],
      "collapsed_sections": [],
      "authorship_tag": "ABX9TyO0DZAVM8lly/qsQVj1CUcf",
      "include_colab_link": true
    },
    "kernelspec": {
      "name": "python3",
      "display_name": "Python 3"
    }
  },
  "cells": [
    {
      "cell_type": "markdown",
      "metadata": {
        "id": "view-in-github",
        "colab_type": "text"
      },
      "source": [
        "<a href=\"https://colab.research.google.com/github/pamodaDilranga/SleepData_iOS_Ai/blob/main/SleepData_Fresh.ipynb\" target=\"_parent\"><img src=\"https://colab.research.google.com/assets/colab-badge.svg\" alt=\"Open In Colab\"/></a>"
      ]
    },
    {
      "cell_type": "code",
      "metadata": {
        "id": "MYXDQ3PHZ9CL"
      },
      "source": [
        "# from google.colab import files\n",
        "# files.upload()"
      ],
      "execution_count": 281,
      "outputs": []
    },
    {
      "cell_type": "code",
      "metadata": {
        "id": "-SFegzfPiyrh"
      },
      "source": [
        "import tensorflow as tf\n",
        "\n",
        "class callBack(tf.keras.callbacks.Callback):\n",
        "  def on_epoch_end(self, epoch, logs={}):\n",
        "    if(logs.get('val_mse')<=59.8196):\n",
        "      if(logs.get('mse')<=101.6704):\n",
        "        print(\"Reached Target\")\n",
        "        # self.model.stop_training = True"
      ],
      "execution_count": 282,
      "outputs": []
    },
    {
      "cell_type": "code",
      "metadata": {
        "id": "fFxWf-8YkRVC"
      },
      "source": [
        "callback = callBack()"
      ],
      "execution_count": 283,
      "outputs": []
    },
    {
      "cell_type": "code",
      "metadata": {
        "id": "brBSEDVeaErp"
      },
      "source": [
        "import pandas as pd\n",
        "sleep_data = pd.read_csv('/content/sleepdata.csv', sep=';') "
      ],
      "execution_count": 284,
      "outputs": []
    },
    {
      "cell_type": "code",
      "metadata": {
        "id": "0Lny7yWaaI0H",
        "outputId": "afea39f8-c2af-4c05-d894-b821ac7393a8",
        "colab": {
          "base_uri": "https://localhost:8080/"
        }
      },
      "source": [
        "sleep_data.info()"
      ],
      "execution_count": 285,
      "outputs": [
        {
          "output_type": "stream",
          "text": [
            "<class 'pandas.core.frame.DataFrame'>\n",
            "RangeIndex: 887 entries, 0 to 886\n",
            "Data columns (total 8 columns):\n",
            " #   Column            Non-Null Count  Dtype  \n",
            "---  ------            --------------  -----  \n",
            " 0   Start             887 non-null    object \n",
            " 1   End               887 non-null    object \n",
            " 2   Sleep quality     887 non-null    object \n",
            " 3   Time in bed       887 non-null    object \n",
            " 4   Wake up           246 non-null    object \n",
            " 5   Sleep Notes       652 non-null    object \n",
            " 6   Heart rate        162 non-null    float64\n",
            " 7   Activity (steps)  887 non-null    int64  \n",
            "dtypes: float64(1), int64(1), object(6)\n",
            "memory usage: 55.6+ KB\n"
          ],
          "name": "stdout"
        }
      ]
    },
    {
      "cell_type": "code",
      "metadata": {
        "id": "THH40w5DWHBe",
        "outputId": "d84277ef-4c62-4e5a-cb97-4a3a2f29226d",
        "colab": {
          "base_uri": "https://localhost:8080/"
        }
      },
      "source": [
        "sleep_data['Heart rate'].fillna(sleep_data['Heart rate'].mean())"
      ],
      "execution_count": 286,
      "outputs": [
        {
          "output_type": "execute_result",
          "data": {
            "text/plain": [
              "0      59.000000\n",
              "1      72.000000\n",
              "2      57.000000\n",
              "3      60.604938\n",
              "4      68.000000\n",
              "         ...    \n",
              "882    60.604938\n",
              "883    60.604938\n",
              "884    60.604938\n",
              "885    60.604938\n",
              "886    60.604938\n",
              "Name: Heart rate, Length: 887, dtype: float64"
            ]
          },
          "metadata": {
            "tags": []
          },
          "execution_count": 286
        }
      ]
    },
    {
      "cell_type": "code",
      "metadata": {
        "id": "Mi2zmmMGL4y_",
        "outputId": "079e0017-0f17-40fa-bd02-36f65efe3229",
        "colab": {
          "base_uri": "https://localhost:8080/"
        }
      },
      "source": [
        "sleep_data.info()"
      ],
      "execution_count": 287,
      "outputs": [
        {
          "output_type": "stream",
          "text": [
            "<class 'pandas.core.frame.DataFrame'>\n",
            "RangeIndex: 887 entries, 0 to 886\n",
            "Data columns (total 8 columns):\n",
            " #   Column            Non-Null Count  Dtype  \n",
            "---  ------            --------------  -----  \n",
            " 0   Start             887 non-null    object \n",
            " 1   End               887 non-null    object \n",
            " 2   Sleep quality     887 non-null    object \n",
            " 3   Time in bed       887 non-null    object \n",
            " 4   Wake up           246 non-null    object \n",
            " 5   Sleep Notes       652 non-null    object \n",
            " 6   Heart rate        162 non-null    float64\n",
            " 7   Activity (steps)  887 non-null    int64  \n",
            "dtypes: float64(1), int64(1), object(6)\n",
            "memory usage: 55.6+ KB\n"
          ],
          "name": "stdout"
        }
      ]
    },
    {
      "cell_type": "code",
      "metadata": {
        "id": "dwch1X6Kr-KD"
      },
      "source": [
        "sleep_data['Sleep quality']=pd.Series(sleep_data['Sleep quality']).str.replace('%', '')\n",
        "sleep_data['Sleep quality'] = pd.to_numeric(sleep_data['Sleep quality'], downcast='signed')"
      ],
      "execution_count": 288,
      "outputs": []
    },
    {
      "cell_type": "code",
      "metadata": {
        "id": "VINGR2H0yO4k"
      },
      "source": [
        "TimeInBed = []\n",
        "for time in sleep_data['Time in bed']:\n",
        "  minSec = time.split(':')\n",
        "  timeInSec = (int(minSec[0])*60)+(int(minSec[1]))\n",
        "  TimeInBed.append(timeInSec)"
      ],
      "execution_count": 289,
      "outputs": []
    },
    {
      "cell_type": "code",
      "metadata": {
        "id": "2TnJqsIJ3eJl"
      },
      "source": [
        "sleep_data['Time in bed'] = TimeInBed"
      ],
      "execution_count": 290,
      "outputs": []
    },
    {
      "cell_type": "code",
      "metadata": {
        "id": "2fh2ECyyL2OW"
      },
      "source": [
        "sleep_data= sleep_data.dropna(axis=0)"
      ],
      "execution_count": 291,
      "outputs": []
    },
    {
      "cell_type": "markdown",
      "metadata": {
        "id": "P4MWba8V9VGa"
      },
      "source": [
        "**Handling Sleep Notes**"
      ]
    },
    {
      "cell_type": "code",
      "metadata": {
        "id": "C9hmRozu4pzU"
      },
      "source": [
        "from tensorflow.keras.preprocessing.text import Tokenizer\n",
        "from tensorflow.keras.preprocessing.sequence import pad_sequences"
      ],
      "execution_count": 292,
      "outputs": []
    },
    {
      "cell_type": "code",
      "metadata": {
        "id": "ji2IXz6m9T1D"
      },
      "source": [
        "# sleepNoteArr = []\n",
        "# for slpNote in sleep_data['Sleep Notes']:\n",
        "#   if type(slpNote)==float:\n",
        "#     sleepNoteArr.append('')\n",
        "#   else:\n",
        "#     sleepNoteArr.append(slpNote)\n",
        "  \n",
        "# sleep_data['Sleep Notes'] = sleepNoteArr"
      ],
      "execution_count": 293,
      "outputs": []
    },
    {
      "cell_type": "code",
      "metadata": {
        "id": "ILZu2_hr4I1X"
      },
      "source": [
        "tokenizer = Tokenizer(num_words=100, split=' ', filters=':')\n",
        "tokenizer.fit_on_texts(sleep_data['Sleep Notes'])"
      ],
      "execution_count": 294,
      "outputs": []
    },
    {
      "cell_type": "code",
      "metadata": {
        "id": "uhpa2Otb4ai5",
        "outputId": "3d91940e-f5c1-4206-96a5-8b56a06d8482",
        "colab": {
          "base_uri": "https://localhost:8080/"
        }
      },
      "source": [
        "word_index = tokenizer.word_index\n",
        "print(word_index)"
      ],
      "execution_count": 295,
      "outputs": [
        {
          "output_type": "stream",
          "text": [
            "{'drank': 1, 'coffee': 2, 'tea': 3, 'worked': 4, 'out': 5, 'stressful': 6, 'day': 7, 'ate': 8, 'late': 9}\n"
          ],
          "name": "stdout"
        }
      ]
    },
    {
      "cell_type": "code",
      "metadata": {
        "id": "cId4rxzn_WkT"
      },
      "source": [
        "train_sequences = tokenizer.texts_to_sequences(sleep_data['Sleep Notes'])"
      ],
      "execution_count": 296,
      "outputs": []
    },
    {
      "cell_type": "code",
      "metadata": {
        "id": "h43mVJk7_nP7"
      },
      "source": [
        "maxlen= max([len(x) for x in train_sequences])"
      ],
      "execution_count": 297,
      "outputs": []
    },
    {
      "cell_type": "code",
      "metadata": {
        "id": "kZjHWUxW_34y",
        "outputId": "f93d0bd2-4959-4d48-937f-7fe824b304ae",
        "colab": {
          "base_uri": "https://localhost:8080/"
        }
      },
      "source": [
        "train_padded = pad_sequences(train_sequences, padding='pre', truncating='pre', maxlen=maxlen)\n",
        "print(train_padded)"
      ],
      "execution_count": 298,
      "outputs": [
        {
          "output_type": "stream",
          "text": [
            "[[0 0 0 ... 0 6 7]\n",
            " [0 0 0 ... 2 1 3]\n",
            " [0 0 0 ... 2 1 3]\n",
            " ...\n",
            " [0 0 1 ... 3 4 5]\n",
            " [0 0 0 ... 2 1 3]\n",
            " [0 0 0 ... 2 1 3]]\n"
          ],
          "name": "stdout"
        }
      ]
    },
    {
      "cell_type": "code",
      "metadata": {
        "id": "ir3TPCZXBPLI",
        "outputId": "a936d5df-6821-4446-d41e-b1ac75ee2ec5",
        "colab": {
          "base_uri": "https://localhost:8080/"
        }
      },
      "source": [
        "print(sleep_data['Sleep Notes'].shape)\n",
        "print(train_padded.shape)"
      ],
      "execution_count": 299,
      "outputs": [
        {
          "output_type": "stream",
          "text": [
            "(155,)\n",
            "(155, 8)\n"
          ],
          "name": "stdout"
        }
      ]
    },
    {
      "cell_type": "code",
      "metadata": {
        "id": "C41RNdFvExyJ"
      },
      "source": [
        "sleep_data['SNote1'] = 0\n",
        "sleep_data['SNote2'] = 0\n",
        "sleep_data['SNote3'] = 0\n",
        "sleep_data['SNote4'] = 0\n",
        "sleep_data['SNote5'] = 0\n",
        "sleep_data['SNote6'] = 0\n",
        "sleep_data['SNote7'] = 0\n",
        "sleep_data['SNote8'] = 0"
      ],
      "execution_count": 300,
      "outputs": []
    },
    {
      "cell_type": "code",
      "metadata": {
        "id": "7gO5lPcnFTIs",
        "outputId": "ea465278-b6fd-4c7d-a658-2a67c69490bc",
        "colab": {
          "base_uri": "https://localhost:8080/"
        }
      },
      "source": [
        "for idx, noteData in enumerate(train_padded):\n",
        "  sleep_data['SNote1'][idx] = noteData[0]\n",
        "  sleep_data['SNote2'][idx] = noteData[1]\n",
        "  sleep_data['SNote3'][idx] = noteData[2]\n",
        "  sleep_data['SNote4'][idx] = noteData[3]\n",
        "  sleep_data['SNote5'][idx] = noteData[4]\n",
        "  sleep_data['SNote6'][idx] = noteData[5]\n",
        "  sleep_data['SNote7'][idx] = noteData[6]\n",
        "  sleep_data['SNote8'][idx] = noteData[7]"
      ],
      "execution_count": 301,
      "outputs": [
        {
          "output_type": "stream",
          "text": [
            "/usr/local/lib/python3.6/dist-packages/ipykernel_launcher.py:2: SettingWithCopyWarning: \n",
            "A value is trying to be set on a copy of a slice from a DataFrame\n",
            "\n",
            "See the caveats in the documentation: https://pandas.pydata.org/pandas-docs/stable/user_guide/indexing.html#returning-a-view-versus-a-copy\n",
            "  \n",
            "/usr/local/lib/python3.6/dist-packages/ipykernel_launcher.py:3: SettingWithCopyWarning: \n",
            "A value is trying to be set on a copy of a slice from a DataFrame\n",
            "\n",
            "See the caveats in the documentation: https://pandas.pydata.org/pandas-docs/stable/user_guide/indexing.html#returning-a-view-versus-a-copy\n",
            "  This is separate from the ipykernel package so we can avoid doing imports until\n",
            "/usr/local/lib/python3.6/dist-packages/ipykernel_launcher.py:4: SettingWithCopyWarning: \n",
            "A value is trying to be set on a copy of a slice from a DataFrame\n",
            "\n",
            "See the caveats in the documentation: https://pandas.pydata.org/pandas-docs/stable/user_guide/indexing.html#returning-a-view-versus-a-copy\n",
            "  after removing the cwd from sys.path.\n",
            "/usr/local/lib/python3.6/dist-packages/ipykernel_launcher.py:5: SettingWithCopyWarning: \n",
            "A value is trying to be set on a copy of a slice from a DataFrame\n",
            "\n",
            "See the caveats in the documentation: https://pandas.pydata.org/pandas-docs/stable/user_guide/indexing.html#returning-a-view-versus-a-copy\n",
            "  \"\"\"\n",
            "/usr/local/lib/python3.6/dist-packages/ipykernel_launcher.py:6: SettingWithCopyWarning: \n",
            "A value is trying to be set on a copy of a slice from a DataFrame\n",
            "\n",
            "See the caveats in the documentation: https://pandas.pydata.org/pandas-docs/stable/user_guide/indexing.html#returning-a-view-versus-a-copy\n",
            "  \n",
            "/usr/local/lib/python3.6/dist-packages/ipykernel_launcher.py:7: SettingWithCopyWarning: \n",
            "A value is trying to be set on a copy of a slice from a DataFrame\n",
            "\n",
            "See the caveats in the documentation: https://pandas.pydata.org/pandas-docs/stable/user_guide/indexing.html#returning-a-view-versus-a-copy\n",
            "  import sys\n",
            "/usr/local/lib/python3.6/dist-packages/ipykernel_launcher.py:8: SettingWithCopyWarning: \n",
            "A value is trying to be set on a copy of a slice from a DataFrame\n",
            "\n",
            "See the caveats in the documentation: https://pandas.pydata.org/pandas-docs/stable/user_guide/indexing.html#returning-a-view-versus-a-copy\n",
            "  \n",
            "/usr/local/lib/python3.6/dist-packages/ipykernel_launcher.py:9: SettingWithCopyWarning: \n",
            "A value is trying to be set on a copy of a slice from a DataFrame\n",
            "\n",
            "See the caveats in the documentation: https://pandas.pydata.org/pandas-docs/stable/user_guide/indexing.html#returning-a-view-versus-a-copy\n",
            "  if __name__ == '__main__':\n"
          ],
          "name": "stderr"
        }
      ]
    },
    {
      "cell_type": "markdown",
      "metadata": {
        "id": "FKx3IG5gGtqm"
      },
      "source": [
        "**Handling Wake Up**"
      ]
    },
    {
      "cell_type": "code",
      "metadata": {
        "id": "Erx4kc_L4TSh"
      },
      "source": [
        "# wakeupArr = []\n",
        "# for wupNote in sleep_data['Sleep Notes']:\n",
        "#   if type(wupNote)==float:\n",
        "#     wakeupArr.append('')\n",
        "#   else:\n",
        "#     wakeupArr.append(wupNote)\n",
        "  \n",
        "# sleep_data['Wake up'] = wakeupArr"
      ],
      "execution_count": 302,
      "outputs": []
    },
    {
      "cell_type": "code",
      "metadata": {
        "id": "PNhmMPq_Gzfx"
      },
      "source": [
        "tokenizer = Tokenizer(num_words=100, split=' ', filters='')\n",
        "tokenizer.fit_on_texts(sleep_data['Wake up'])"
      ],
      "execution_count": 303,
      "outputs": []
    },
    {
      "cell_type": "code",
      "metadata": {
        "id": "7xiQlTRYGzf1",
        "outputId": "de162890-6a60-48c1-e80f-1f85f045a12e",
        "colab": {
          "base_uri": "https://localhost:8080/"
        }
      },
      "source": [
        "word_index = tokenizer.word_index\n",
        "print(word_index)"
      ],
      "execution_count": 304,
      "outputs": [
        {
          "output_type": "stream",
          "text": [
            "{':)': 1, ':|': 2}\n"
          ],
          "name": "stdout"
        }
      ]
    },
    {
      "cell_type": "code",
      "metadata": {
        "id": "LNAaMIoSGzf6"
      },
      "source": [
        "train_sequences = tokenizer.texts_to_sequences(sleep_data['Wake up'])"
      ],
      "execution_count": 305,
      "outputs": []
    },
    {
      "cell_type": "code",
      "metadata": {
        "id": "CfCMCti9Gzf9"
      },
      "source": [
        "maxlen= max([len(x) for x in train_sequences])"
      ],
      "execution_count": 306,
      "outputs": []
    },
    {
      "cell_type": "code",
      "metadata": {
        "id": "q1Bui-2kGzgE"
      },
      "source": [
        "train_padded = pad_sequences(train_sequences, padding='pre', truncating='pre', maxlen=maxlen)"
      ],
      "execution_count": 307,
      "outputs": []
    },
    {
      "cell_type": "code",
      "metadata": {
        "id": "8XafJSLAGzgM",
        "outputId": "6b4c49ad-d3d0-4d6c-ce5f-4eba7327c931",
        "colab": {
          "base_uri": "https://localhost:8080/"
        }
      },
      "source": [
        "print(sleep_data['Wake up'].shape)\n",
        "print(train_padded.shape)"
      ],
      "execution_count": 308,
      "outputs": [
        {
          "output_type": "stream",
          "text": [
            "(155,)\n",
            "(155, 1)\n"
          ],
          "name": "stdout"
        }
      ]
    },
    {
      "cell_type": "code",
      "metadata": {
        "id": "gpluDvWCGzgP"
      },
      "source": [
        "sleep_data['WakeUp'] = 0"
      ],
      "execution_count": 309,
      "outputs": []
    },
    {
      "cell_type": "code",
      "metadata": {
        "id": "Gjw1Y-lZGzgY",
        "outputId": "98f6b3fa-50bb-4a67-99db-7237a40a271b",
        "colab": {
          "base_uri": "https://localhost:8080/"
        }
      },
      "source": [
        "for idx, noteData in enumerate(train_padded):\n",
        "  sleep_data['WakeUp'][idx] = noteData[0]"
      ],
      "execution_count": 310,
      "outputs": [
        {
          "output_type": "stream",
          "text": [
            "/usr/local/lib/python3.6/dist-packages/ipykernel_launcher.py:2: SettingWithCopyWarning: \n",
            "A value is trying to be set on a copy of a slice from a DataFrame\n",
            "\n",
            "See the caveats in the documentation: https://pandas.pydata.org/pandas-docs/stable/user_guide/indexing.html#returning-a-view-versus-a-copy\n",
            "  \n"
          ],
          "name": "stderr"
        }
      ]
    },
    {
      "cell_type": "markdown",
      "metadata": {
        "id": "4obz71pZ7ST0"
      },
      "source": [
        "**End Of Handling Wake Up**"
      ]
    },
    {
      "cell_type": "code",
      "metadata": {
        "id": "SlMgEeaiNTJY",
        "outputId": "4ed8cee4-1f8d-4ae2-d7d8-77a22164f45b",
        "colab": {
          "base_uri": "https://localhost:8080/"
        }
      },
      "source": [
        "sleep_data.info()"
      ],
      "execution_count": 311,
      "outputs": [
        {
          "output_type": "stream",
          "text": [
            "<class 'pandas.core.frame.DataFrame'>\n",
            "Int64Index: 155 entries, 1 to 241\n",
            "Data columns (total 17 columns):\n",
            " #   Column            Non-Null Count  Dtype  \n",
            "---  ------            --------------  -----  \n",
            " 0   Start             155 non-null    object \n",
            " 1   End               155 non-null    object \n",
            " 2   Sleep quality     155 non-null    int8   \n",
            " 3   Time in bed       155 non-null    int64  \n",
            " 4   Wake up           155 non-null    object \n",
            " 5   Sleep Notes       155 non-null    object \n",
            " 6   Heart rate        155 non-null    float64\n",
            " 7   Activity (steps)  155 non-null    int64  \n",
            " 8   SNote1            155 non-null    int64  \n",
            " 9   SNote2            155 non-null    int64  \n",
            " 10  SNote3            155 non-null    int64  \n",
            " 11  SNote4            155 non-null    int64  \n",
            " 12  SNote5            155 non-null    int64  \n",
            " 13  SNote6            155 non-null    int64  \n",
            " 14  SNote7            155 non-null    int64  \n",
            " 15  SNote8            155 non-null    int64  \n",
            " 16  WakeUp            155 non-null    int64  \n",
            "dtypes: float64(1), int64(11), int8(1), object(4)\n",
            "memory usage: 25.7+ KB\n"
          ],
          "name": "stdout"
        }
      ]
    },
    {
      "cell_type": "code",
      "metadata": {
        "id": "eWuSuukoKaAL"
      },
      "source": [
        "sleep_data.drop('Start', inplace=True, axis=1)\n",
        "sleep_data.drop('End', inplace=True, axis=1)\n",
        "sleep_data.drop('Wake up', inplace=True, axis=1)\n",
        "sleep_data.drop('Sleep Notes', inplace=True, axis=1)\n",
        "# sleep_data.drop('WakeUp', inplace=True, axis=1)"
      ],
      "execution_count": 312,
      "outputs": []
    },
    {
      "cell_type": "code",
      "metadata": {
        "id": "hFdl4H2fOAlG",
        "outputId": "3b64121f-f17c-400c-cd2c-f1a111ee25ec",
        "colab": {
          "base_uri": "https://localhost:8080/"
        }
      },
      "source": [
        "sleep_data.info()"
      ],
      "execution_count": 313,
      "outputs": [
        {
          "output_type": "stream",
          "text": [
            "<class 'pandas.core.frame.DataFrame'>\n",
            "Int64Index: 155 entries, 1 to 241\n",
            "Data columns (total 13 columns):\n",
            " #   Column            Non-Null Count  Dtype  \n",
            "---  ------            --------------  -----  \n",
            " 0   Sleep quality     155 non-null    int8   \n",
            " 1   Time in bed       155 non-null    int64  \n",
            " 2   Heart rate        155 non-null    float64\n",
            " 3   Activity (steps)  155 non-null    int64  \n",
            " 4   SNote1            155 non-null    int64  \n",
            " 5   SNote2            155 non-null    int64  \n",
            " 6   SNote3            155 non-null    int64  \n",
            " 7   SNote4            155 non-null    int64  \n",
            " 8   SNote5            155 non-null    int64  \n",
            " 9   SNote6            155 non-null    int64  \n",
            " 10  SNote7            155 non-null    int64  \n",
            " 11  SNote8            155 non-null    int64  \n",
            " 12  WakeUp            155 non-null    int64  \n",
            "dtypes: float64(1), int64(11), int8(1)\n",
            "memory usage: 20.9 KB\n"
          ],
          "name": "stdout"
        }
      ]
    },
    {
      "cell_type": "code",
      "metadata": {
        "id": "R9XCh2JWOori"
      },
      "source": [
        "X = sleep_data.loc[:, sleep_data.columns != 'Sleep quality']\n",
        "Y = sleep_data.loc[:, sleep_data.columns == 'Sleep quality']"
      ],
      "execution_count": 314,
      "outputs": []
    },
    {
      "cell_type": "code",
      "metadata": {
        "id": "EuHVCfEoOFFa"
      },
      "source": [
        "from tensorflow.keras.models import Sequential\n",
        "from tensorflow.keras.layers import Dense"
      ],
      "execution_count": 315,
      "outputs": []
    },
    {
      "cell_type": "code",
      "metadata": {
        "id": "AOWbDpB1OTcu"
      },
      "source": [
        "model = Sequential([\n",
        "     Dense(units=64, activation='relu'),\n",
        "     Dense(units=32, activation='relu'),\n",
        "     Dense(units=1)\n",
        "])"
      ],
      "execution_count": 316,
      "outputs": []
    },
    {
      "cell_type": "code",
      "metadata": {
        "id": "iuu-8k5_OlW-"
      },
      "source": [
        "model.compile(optimizer='Adam', loss='mean_squared_error', metrics=['mse'])"
      ],
      "execution_count": 317,
      "outputs": []
    },
    {
      "cell_type": "code",
      "metadata": {
        "id": "oTYmys_6PDVg",
        "outputId": "edd61b4b-56f1-4bcd-ca0a-2b6cd4923c4b",
        "colab": {
          "base_uri": "https://localhost:8080/"
        }
      },
      "source": [
        "model.fit(x=X,y=Y, epochs=250, validation_split=(0.2))"
      ],
      "execution_count": 318,
      "outputs": [
        {
          "output_type": "stream",
          "text": [
            "Epoch 1/250\n",
            "WARNING:tensorflow:Layer dense_18 is casting an input tensor from dtype float64 to the layer's dtype of float32, which is new behavior in TensorFlow 2.  The layer has dtype float32 because its dtype defaults to floatx.\n",
            "\n",
            "If you intended to run this layer in float32, you can safely ignore this warning. If in doubt, this warning is likely only an issue if you are porting a TensorFlow 1.X model to TensorFlow 2.\n",
            "\n",
            "To change all layers to have dtype float64 by default, call `tf.keras.backend.set_floatx('float64')`. To change just this layer, pass dtype='float64' to the layer constructor. If you are the author of this layer, you can disable autocasting by passing autocast=False to the base Layer constructor.\n",
            "\n",
            "4/4 [==============================] - 0s 36ms/step - loss: 7933.1553 - mse: 7933.1553 - val_loss: 4759.1533 - val_mse: 4759.1533\n",
            "Epoch 2/250\n",
            "4/4 [==============================] - 0s 5ms/step - loss: 3167.1389 - mse: 3167.1389 - val_loss: 1640.6842 - val_mse: 1640.6842\n",
            "Epoch 3/250\n",
            "4/4 [==============================] - 0s 5ms/step - loss: 969.0464 - mse: 969.0464 - val_loss: 353.8840 - val_mse: 353.8840\n",
            "Epoch 4/250\n",
            "4/4 [==============================] - 0s 5ms/step - loss: 181.7789 - mse: 181.7789 - val_loss: 57.3637 - val_mse: 57.3637\n",
            "Epoch 5/250\n",
            "4/4 [==============================] - 0s 5ms/step - loss: 169.4171 - mse: 169.4171 - val_loss: 200.0646 - val_mse: 200.0646\n",
            "Epoch 6/250\n",
            "4/4 [==============================] - 0s 5ms/step - loss: 370.1686 - mse: 370.1686 - val_loss: 302.9129 - val_mse: 302.9129\n",
            "Epoch 7/250\n",
            "4/4 [==============================] - 0s 6ms/step - loss: 410.8812 - mse: 410.8812 - val_loss: 230.2914 - val_mse: 230.2914\n",
            "Epoch 8/250\n",
            "4/4 [==============================] - 0s 6ms/step - loss: 285.9630 - mse: 285.9630 - val_loss: 110.3138 - val_mse: 110.3138\n",
            "Epoch 9/250\n",
            "4/4 [==============================] - 0s 5ms/step - loss: 154.2746 - mse: 154.2746 - val_loss: 57.4342 - val_mse: 57.4342\n",
            "Epoch 10/250\n",
            "4/4 [==============================] - 0s 7ms/step - loss: 100.2503 - mse: 100.2503 - val_loss: 78.1946 - val_mse: 78.1946\n",
            "Epoch 11/250\n",
            "4/4 [==============================] - 0s 6ms/step - loss: 114.8290 - mse: 114.8290 - val_loss: 116.3811 - val_mse: 116.3811\n",
            "Epoch 12/250\n",
            "4/4 [==============================] - 0s 9ms/step - loss: 132.5933 - mse: 132.5933 - val_loss: 124.6196 - val_mse: 124.6196\n",
            "Epoch 13/250\n",
            "4/4 [==============================] - 0s 8ms/step - loss: 130.0951 - mse: 130.0951 - val_loss: 103.4462 - val_mse: 103.4462\n",
            "Epoch 14/250\n",
            "4/4 [==============================] - 0s 7ms/step - loss: 114.0205 - mse: 114.0205 - val_loss: 76.9287 - val_mse: 76.9287\n",
            "Epoch 15/250\n",
            "4/4 [==============================] - 0s 6ms/step - loss: 102.9265 - mse: 102.9265 - val_loss: 61.7446 - val_mse: 61.7446\n",
            "Epoch 16/250\n",
            "4/4 [==============================] - 0s 6ms/step - loss: 101.0701 - mse: 101.0701 - val_loss: 57.5614 - val_mse: 57.5614\n",
            "Epoch 17/250\n",
            "4/4 [==============================] - 0s 6ms/step - loss: 103.5428 - mse: 103.5428 - val_loss: 57.1869 - val_mse: 57.1869\n",
            "Epoch 18/250\n",
            "4/4 [==============================] - 0s 6ms/step - loss: 104.2628 - mse: 104.2628 - val_loss: 57.5329 - val_mse: 57.5329\n",
            "Epoch 19/250\n",
            "4/4 [==============================] - 0s 6ms/step - loss: 102.8465 - mse: 102.8465 - val_loss: 59.4463 - val_mse: 59.4463\n",
            "Epoch 20/250\n",
            "4/4 [==============================] - 0s 15ms/step - loss: 100.6773 - mse: 100.6773 - val_loss: 62.1916 - val_mse: 62.1916\n",
            "Epoch 21/250\n",
            "4/4 [==============================] - 0s 6ms/step - loss: 100.4131 - mse: 100.4131 - val_loss: 65.0124 - val_mse: 65.0124\n",
            "Epoch 22/250\n",
            "4/4 [==============================] - 0s 8ms/step - loss: 101.0246 - mse: 101.0246 - val_loss: 66.8995 - val_mse: 66.8995\n",
            "Epoch 23/250\n",
            "4/4 [==============================] - 0s 6ms/step - loss: 101.4754 - mse: 101.4754 - val_loss: 66.8633 - val_mse: 66.8633\n",
            "Epoch 24/250\n",
            "4/4 [==============================] - 0s 6ms/step - loss: 101.3430 - mse: 101.3430 - val_loss: 65.2895 - val_mse: 65.2895\n",
            "Epoch 25/250\n",
            "4/4 [==============================] - 0s 6ms/step - loss: 101.5751 - mse: 101.5752 - val_loss: 62.0019 - val_mse: 62.0019\n",
            "Epoch 26/250\n",
            "4/4 [==============================] - 0s 6ms/step - loss: 100.8760 - mse: 100.8760 - val_loss: 61.8119 - val_mse: 61.8119\n",
            "Epoch 27/250\n",
            "4/4 [==============================] - 0s 7ms/step - loss: 100.9297 - mse: 100.9297 - val_loss: 61.8792 - val_mse: 61.8792\n",
            "Epoch 28/250\n",
            "4/4 [==============================] - 0s 6ms/step - loss: 101.2639 - mse: 101.2639 - val_loss: 60.9632 - val_mse: 60.9632\n",
            "Epoch 29/250\n",
            "4/4 [==============================] - 0s 7ms/step - loss: 101.0134 - mse: 101.0134 - val_loss: 61.4297 - val_mse: 61.4297\n",
            "Epoch 30/250\n",
            "4/4 [==============================] - 0s 6ms/step - loss: 100.7913 - mse: 100.7913 - val_loss: 62.2777 - val_mse: 62.2777\n",
            "Epoch 31/250\n",
            "4/4 [==============================] - 0s 7ms/step - loss: 100.6850 - mse: 100.6850 - val_loss: 64.6288 - val_mse: 64.6288\n",
            "Epoch 32/250\n",
            "4/4 [==============================] - 0s 6ms/step - loss: 101.1083 - mse: 101.1083 - val_loss: 64.9440 - val_mse: 64.9440\n",
            "Epoch 33/250\n",
            "4/4 [==============================] - 0s 7ms/step - loss: 101.4924 - mse: 101.4924 - val_loss: 65.9765 - val_mse: 65.9765\n",
            "Epoch 34/250\n",
            "4/4 [==============================] - 0s 6ms/step - loss: 100.9599 - mse: 100.9599 - val_loss: 64.6302 - val_mse: 64.6302\n",
            "Epoch 35/250\n",
            "4/4 [==============================] - 0s 6ms/step - loss: 100.6060 - mse: 100.6060 - val_loss: 62.8420 - val_mse: 62.8420\n",
            "Epoch 36/250\n",
            "4/4 [==============================] - 0s 6ms/step - loss: 100.6948 - mse: 100.6948 - val_loss: 60.7294 - val_mse: 60.7294\n",
            "Epoch 37/250\n",
            "4/4 [==============================] - 0s 7ms/step - loss: 101.3439 - mse: 101.3439 - val_loss: 59.8082 - val_mse: 59.8082\n",
            "Epoch 38/250\n",
            "4/4 [==============================] - 0s 6ms/step - loss: 101.2074 - mse: 101.2074 - val_loss: 61.2768 - val_mse: 61.2768\n",
            "Epoch 39/250\n",
            "4/4 [==============================] - 0s 6ms/step - loss: 100.7049 - mse: 100.7049 - val_loss: 63.3667 - val_mse: 63.3667\n",
            "Epoch 40/250\n",
            "4/4 [==============================] - 0s 6ms/step - loss: 100.8553 - mse: 100.8553 - val_loss: 64.9080 - val_mse: 64.9080\n",
            "Epoch 41/250\n",
            "4/4 [==============================] - 0s 6ms/step - loss: 101.0548 - mse: 101.0548 - val_loss: 65.3094 - val_mse: 65.3094\n",
            "Epoch 42/250\n",
            "4/4 [==============================] - 0s 6ms/step - loss: 100.9780 - mse: 100.9780 - val_loss: 62.7370 - val_mse: 62.7370\n",
            "Epoch 43/250\n",
            "4/4 [==============================] - 0s 5ms/step - loss: 100.6638 - mse: 100.6638 - val_loss: 62.1407 - val_mse: 62.1407\n",
            "Epoch 44/250\n",
            "4/4 [==============================] - 0s 5ms/step - loss: 100.7747 - mse: 100.7747 - val_loss: 61.2415 - val_mse: 61.2415\n",
            "Epoch 45/250\n",
            "4/4 [==============================] - 0s 5ms/step - loss: 100.8690 - mse: 100.8690 - val_loss: 61.7129 - val_mse: 61.7129\n",
            "Epoch 46/250\n",
            "4/4 [==============================] - 0s 5ms/step - loss: 100.8044 - mse: 100.8044 - val_loss: 62.2380 - val_mse: 62.2380\n",
            "Epoch 47/250\n",
            "4/4 [==============================] - 0s 6ms/step - loss: 101.0313 - mse: 101.0313 - val_loss: 64.4718 - val_mse: 64.4718\n",
            "Epoch 48/250\n",
            "4/4 [==============================] - 0s 6ms/step - loss: 100.8235 - mse: 100.8235 - val_loss: 63.7665 - val_mse: 63.7665\n",
            "Epoch 49/250\n",
            "4/4 [==============================] - 0s 6ms/step - loss: 100.6692 - mse: 100.6692 - val_loss: 63.3778 - val_mse: 63.3778\n",
            "Epoch 50/250\n",
            "4/4 [==============================] - 0s 6ms/step - loss: 101.1733 - mse: 101.1733 - val_loss: 61.8446 - val_mse: 61.8446\n",
            "Epoch 51/250\n",
            "4/4 [==============================] - 0s 6ms/step - loss: 100.8286 - mse: 100.8286 - val_loss: 62.5950 - val_mse: 62.5950\n",
            "Epoch 52/250\n",
            "4/4 [==============================] - 0s 6ms/step - loss: 100.7633 - mse: 100.7633 - val_loss: 62.8127 - val_mse: 62.8127\n",
            "Epoch 53/250\n",
            "4/4 [==============================] - 0s 7ms/step - loss: 100.8058 - mse: 100.8058 - val_loss: 63.3899 - val_mse: 63.3899\n",
            "Epoch 54/250\n",
            "4/4 [==============================] - 0s 6ms/step - loss: 100.6593 - mse: 100.6593 - val_loss: 62.3689 - val_mse: 62.3689\n",
            "Epoch 55/250\n",
            "4/4 [==============================] - 0s 6ms/step - loss: 100.6287 - mse: 100.6287 - val_loss: 62.2812 - val_mse: 62.2812\n",
            "Epoch 56/250\n",
            "4/4 [==============================] - 0s 6ms/step - loss: 100.7179 - mse: 100.7179 - val_loss: 61.5538 - val_mse: 61.5538\n",
            "Epoch 57/250\n",
            "4/4 [==============================] - 0s 6ms/step - loss: 100.6891 - mse: 100.6891 - val_loss: 62.0210 - val_mse: 62.0210\n",
            "Epoch 58/250\n",
            "4/4 [==============================] - 0s 6ms/step - loss: 100.7031 - mse: 100.7031 - val_loss: 62.8318 - val_mse: 62.8318\n",
            "Epoch 59/250\n",
            "4/4 [==============================] - 0s 6ms/step - loss: 100.6902 - mse: 100.6902 - val_loss: 64.6036 - val_mse: 64.6036\n",
            "Epoch 60/250\n",
            "4/4 [==============================] - 0s 6ms/step - loss: 100.8796 - mse: 100.8796 - val_loss: 64.0441 - val_mse: 64.0441\n",
            "Epoch 61/250\n",
            "4/4 [==============================] - 0s 5ms/step - loss: 100.5959 - mse: 100.5959 - val_loss: 63.3341 - val_mse: 63.3341\n",
            "Epoch 62/250\n",
            "4/4 [==============================] - 0s 6ms/step - loss: 100.6722 - mse: 100.6722 - val_loss: 62.6809 - val_mse: 62.6809\n",
            "Epoch 63/250\n",
            "4/4 [==============================] - 0s 6ms/step - loss: 100.6278 - mse: 100.6278 - val_loss: 62.1463 - val_mse: 62.1463\n",
            "Epoch 64/250\n",
            "4/4 [==============================] - 0s 6ms/step - loss: 100.7851 - mse: 100.7851 - val_loss: 62.1548 - val_mse: 62.1548\n",
            "Epoch 65/250\n",
            "4/4 [==============================] - 0s 6ms/step - loss: 100.6637 - mse: 100.6637 - val_loss: 61.9232 - val_mse: 61.9232\n",
            "Epoch 66/250\n",
            "4/4 [==============================] - 0s 6ms/step - loss: 100.7476 - mse: 100.7476 - val_loss: 63.0849 - val_mse: 63.0849\n",
            "Epoch 67/250\n",
            "4/4 [==============================] - 0s 6ms/step - loss: 101.0232 - mse: 101.0232 - val_loss: 61.8857 - val_mse: 61.8857\n",
            "Epoch 68/250\n",
            "4/4 [==============================] - 0s 6ms/step - loss: 100.7651 - mse: 100.7651 - val_loss: 63.7632 - val_mse: 63.7632\n",
            "Epoch 69/250\n",
            "4/4 [==============================] - 0s 6ms/step - loss: 100.9048 - mse: 100.9048 - val_loss: 62.4888 - val_mse: 62.4888\n",
            "Epoch 70/250\n",
            "4/4 [==============================] - 0s 5ms/step - loss: 100.7651 - mse: 100.7651 - val_loss: 62.4888 - val_mse: 62.4888\n",
            "Epoch 71/250\n",
            "4/4 [==============================] - 0s 6ms/step - loss: 100.5484 - mse: 100.5484 - val_loss: 63.7451 - val_mse: 63.7451\n",
            "Epoch 72/250\n",
            "4/4 [==============================] - 0s 6ms/step - loss: 100.5971 - mse: 100.5971 - val_loss: 64.7977 - val_mse: 64.7977\n",
            "Epoch 73/250\n",
            "4/4 [==============================] - 0s 6ms/step - loss: 100.6925 - mse: 100.6925 - val_loss: 64.3687 - val_mse: 64.3687\n",
            "Epoch 74/250\n",
            "4/4 [==============================] - 0s 6ms/step - loss: 100.5831 - mse: 100.5831 - val_loss: 62.3259 - val_mse: 62.3259\n",
            "Epoch 75/250\n",
            "4/4 [==============================] - 0s 8ms/step - loss: 101.1441 - mse: 101.1441 - val_loss: 60.7141 - val_mse: 60.7141\n",
            "Epoch 76/250\n",
            "4/4 [==============================] - 0s 7ms/step - loss: 100.6961 - mse: 100.6961 - val_loss: 61.8017 - val_mse: 61.8017\n",
            "Epoch 77/250\n",
            "4/4 [==============================] - 0s 6ms/step - loss: 100.7787 - mse: 100.7787 - val_loss: 64.7901 - val_mse: 64.7901\n",
            "Epoch 78/250\n",
            "4/4 [==============================] - 0s 6ms/step - loss: 100.8597 - mse: 100.8597 - val_loss: 65.9345 - val_mse: 65.9345\n",
            "Epoch 79/250\n",
            "4/4 [==============================] - 0s 6ms/step - loss: 101.2021 - mse: 101.2021 - val_loss: 63.2929 - val_mse: 63.2929\n",
            "Epoch 80/250\n",
            "4/4 [==============================] - 0s 6ms/step - loss: 101.0455 - mse: 101.0455 - val_loss: 61.0463 - val_mse: 61.0463\n",
            "Epoch 81/250\n",
            "4/4 [==============================] - 0s 6ms/step - loss: 100.8726 - mse: 100.8726 - val_loss: 61.7667 - val_mse: 61.7667\n",
            "Epoch 82/250\n",
            "4/4 [==============================] - 0s 9ms/step - loss: 101.7998 - mse: 101.7998 - val_loss: 65.7091 - val_mse: 65.7091\n",
            "Epoch 83/250\n",
            "4/4 [==============================] - 0s 6ms/step - loss: 100.7909 - mse: 100.7909 - val_loss: 64.6874 - val_mse: 64.6874\n",
            "Epoch 84/250\n",
            "4/4 [==============================] - 0s 7ms/step - loss: 100.6119 - mse: 100.6119 - val_loss: 62.5926 - val_mse: 62.5926\n",
            "Epoch 85/250\n",
            "4/4 [==============================] - 0s 6ms/step - loss: 100.7346 - mse: 100.7346 - val_loss: 60.6056 - val_mse: 60.6056\n",
            "Epoch 86/250\n",
            "4/4 [==============================] - 0s 7ms/step - loss: 100.6997 - mse: 100.6997 - val_loss: 61.4610 - val_mse: 61.4610\n",
            "Epoch 87/250\n",
            "4/4 [==============================] - 0s 6ms/step - loss: 100.4954 - mse: 100.4954 - val_loss: 63.3811 - val_mse: 63.3811\n",
            "Epoch 88/250\n",
            "4/4 [==============================] - 0s 5ms/step - loss: 100.4841 - mse: 100.4841 - val_loss: 64.7254 - val_mse: 64.7254\n",
            "Epoch 89/250\n",
            "4/4 [==============================] - 0s 6ms/step - loss: 100.7553 - mse: 100.7553 - val_loss: 63.2732 - val_mse: 63.2732\n",
            "Epoch 90/250\n",
            "4/4 [==============================] - 0s 6ms/step - loss: 100.7560 - mse: 100.7560 - val_loss: 62.5642 - val_mse: 62.5642\n",
            "Epoch 91/250\n",
            "4/4 [==============================] - 0s 6ms/step - loss: 100.8619 - mse: 100.8619 - val_loss: 64.9225 - val_mse: 64.9225\n",
            "Epoch 92/250\n",
            "4/4 [==============================] - 0s 8ms/step - loss: 100.9266 - mse: 100.9266 - val_loss: 64.7777 - val_mse: 64.7777\n",
            "Epoch 93/250\n",
            "4/4 [==============================] - 0s 6ms/step - loss: 100.5330 - mse: 100.5330 - val_loss: 61.7939 - val_mse: 61.7939\n",
            "Epoch 94/250\n",
            "4/4 [==============================] - 0s 7ms/step - loss: 100.6172 - mse: 100.6172 - val_loss: 62.0122 - val_mse: 62.0122\n",
            "Epoch 95/250\n",
            "4/4 [==============================] - 0s 6ms/step - loss: 101.5161 - mse: 101.5161 - val_loss: 60.9124 - val_mse: 60.9124\n",
            "Epoch 96/250\n",
            "4/4 [==============================] - 0s 6ms/step - loss: 100.7073 - mse: 100.7073 - val_loss: 63.2370 - val_mse: 63.2370\n",
            "Epoch 97/250\n",
            "4/4 [==============================] - 0s 6ms/step - loss: 100.7125 - mse: 100.7125 - val_loss: 65.0883 - val_mse: 65.0883\n",
            "Epoch 98/250\n",
            "4/4 [==============================] - 0s 6ms/step - loss: 100.8995 - mse: 100.8995 - val_loss: 62.6202 - val_mse: 62.6202\n",
            "Epoch 99/250\n",
            "4/4 [==============================] - 0s 6ms/step - loss: 100.7441 - mse: 100.7441 - val_loss: 64.0274 - val_mse: 64.0274\n",
            "Epoch 100/250\n",
            "4/4 [==============================] - 0s 8ms/step - loss: 100.8424 - mse: 100.8424 - val_loss: 61.8728 - val_mse: 61.8728\n",
            "Epoch 101/250\n",
            "4/4 [==============================] - 0s 6ms/step - loss: 100.8870 - mse: 100.8870 - val_loss: 61.3560 - val_mse: 61.3560\n",
            "Epoch 102/250\n",
            "4/4 [==============================] - 0s 7ms/step - loss: 100.7854 - mse: 100.7854 - val_loss: 65.0056 - val_mse: 65.0056\n",
            "Epoch 103/250\n",
            "4/4 [==============================] - 0s 6ms/step - loss: 100.8186 - mse: 100.8186 - val_loss: 63.6715 - val_mse: 63.6715\n",
            "Epoch 104/250\n",
            "4/4 [==============================] - 0s 6ms/step - loss: 100.4507 - mse: 100.4507 - val_loss: 63.9889 - val_mse: 63.9889\n",
            "Epoch 105/250\n",
            "4/4 [==============================] - 0s 5ms/step - loss: 101.0943 - mse: 101.0943 - val_loss: 62.0560 - val_mse: 62.0560\n",
            "Epoch 106/250\n",
            "4/4 [==============================] - 0s 6ms/step - loss: 100.7595 - mse: 100.7595 - val_loss: 62.8741 - val_mse: 62.8741\n",
            "Epoch 107/250\n",
            "4/4 [==============================] - 0s 7ms/step - loss: 101.0649 - mse: 101.0649 - val_loss: 66.0214 - val_mse: 66.0214\n",
            "Epoch 108/250\n",
            "4/4 [==============================] - 0s 6ms/step - loss: 101.0431 - mse: 101.0431 - val_loss: 62.7004 - val_mse: 62.7004\n",
            "Epoch 109/250\n",
            "4/4 [==============================] - 0s 6ms/step - loss: 100.4217 - mse: 100.4217 - val_loss: 62.9507 - val_mse: 62.9507\n",
            "Epoch 110/250\n",
            "4/4 [==============================] - 0s 6ms/step - loss: 101.3288 - mse: 101.3288 - val_loss: 64.1680 - val_mse: 64.1680\n",
            "Epoch 111/250\n",
            "4/4 [==============================] - 0s 6ms/step - loss: 101.0046 - mse: 101.0046 - val_loss: 61.1298 - val_mse: 61.1298\n",
            "Epoch 112/250\n",
            "4/4 [==============================] - 0s 7ms/step - loss: 100.4734 - mse: 100.4734 - val_loss: 62.4480 - val_mse: 62.4480\n",
            "Epoch 113/250\n",
            "4/4 [==============================] - 0s 6ms/step - loss: 100.3255 - mse: 100.3255 - val_loss: 63.9100 - val_mse: 63.9100\n",
            "Epoch 114/250\n",
            "4/4 [==============================] - 0s 9ms/step - loss: 100.3926 - mse: 100.3926 - val_loss: 64.0829 - val_mse: 64.0829\n",
            "Epoch 115/250\n",
            "4/4 [==============================] - 0s 7ms/step - loss: 100.4650 - mse: 100.4650 - val_loss: 63.7622 - val_mse: 63.7622\n",
            "Epoch 116/250\n",
            "4/4 [==============================] - 0s 8ms/step - loss: 100.4132 - mse: 100.4132 - val_loss: 63.7546 - val_mse: 63.7546\n",
            "Epoch 117/250\n",
            "4/4 [==============================] - 0s 6ms/step - loss: 100.5663 - mse: 100.5663 - val_loss: 63.3379 - val_mse: 63.3379\n",
            "Epoch 118/250\n",
            "4/4 [==============================] - 0s 6ms/step - loss: 102.1721 - mse: 102.1721 - val_loss: 59.7191 - val_mse: 59.7191\n",
            "Epoch 119/250\n",
            "4/4 [==============================] - 0s 6ms/step - loss: 101.8290 - mse: 101.8290 - val_loss: 64.2411 - val_mse: 64.2411\n",
            "Epoch 120/250\n",
            "4/4 [==============================] - 0s 7ms/step - loss: 101.0163 - mse: 101.0163 - val_loss: 65.5560 - val_mse: 65.5560\n",
            "Epoch 121/250\n",
            "4/4 [==============================] - 0s 6ms/step - loss: 100.2833 - mse: 100.2833 - val_loss: 62.6333 - val_mse: 62.6333\n",
            "Epoch 122/250\n",
            "4/4 [==============================] - 0s 6ms/step - loss: 100.8549 - mse: 100.8549 - val_loss: 60.2856 - val_mse: 60.2856\n",
            "Epoch 123/250\n",
            "4/4 [==============================] - 0s 6ms/step - loss: 100.7375 - mse: 100.7375 - val_loss: 62.3195 - val_mse: 62.3195\n",
            "Epoch 124/250\n",
            "4/4 [==============================] - 0s 7ms/step - loss: 100.4445 - mse: 100.4445 - val_loss: 65.2190 - val_mse: 65.2190\n",
            "Epoch 125/250\n",
            "4/4 [==============================] - 0s 7ms/step - loss: 100.4820 - mse: 100.4820 - val_loss: 64.9886 - val_mse: 64.9886\n",
            "Epoch 126/250\n",
            "4/4 [==============================] - 0s 6ms/step - loss: 100.6614 - mse: 100.6614 - val_loss: 61.8876 - val_mse: 61.8876\n",
            "Epoch 127/250\n",
            "4/4 [==============================] - 0s 8ms/step - loss: 101.5024 - mse: 101.5024 - val_loss: 60.6177 - val_mse: 60.6177\n",
            "Epoch 128/250\n",
            "4/4 [==============================] - 0s 7ms/step - loss: 100.0389 - mse: 100.0389 - val_loss: 64.3512 - val_mse: 64.3512\n",
            "Epoch 129/250\n",
            "4/4 [==============================] - 0s 6ms/step - loss: 100.6242 - mse: 100.6242 - val_loss: 67.8149 - val_mse: 67.8149\n",
            "Epoch 130/250\n",
            "4/4 [==============================] - 0s 6ms/step - loss: 100.7891 - mse: 100.7891 - val_loss: 66.0489 - val_mse: 66.0489\n",
            "Epoch 131/250\n",
            "4/4 [==============================] - 0s 7ms/step - loss: 100.1834 - mse: 100.1834 - val_loss: 61.7893 - val_mse: 61.7893\n",
            "Epoch 132/250\n",
            "4/4 [==============================] - 0s 7ms/step - loss: 100.4326 - mse: 100.4326 - val_loss: 60.4482 - val_mse: 60.4482\n",
            "Epoch 133/250\n",
            "4/4 [==============================] - 0s 8ms/step - loss: 100.5274 - mse: 100.5274 - val_loss: 61.8402 - val_mse: 61.8402\n",
            "Epoch 134/250\n",
            "4/4 [==============================] - 0s 6ms/step - loss: 101.0674 - mse: 101.0674 - val_loss: 66.2505 - val_mse: 66.2505\n",
            "Epoch 135/250\n",
            "4/4 [==============================] - 0s 6ms/step - loss: 100.4082 - mse: 100.4082 - val_loss: 64.1776 - val_mse: 64.1776\n",
            "Epoch 136/250\n",
            "4/4 [==============================] - 0s 7ms/step - loss: 100.2740 - mse: 100.2740 - val_loss: 62.9326 - val_mse: 62.9326\n",
            "Epoch 137/250\n",
            "4/4 [==============================] - 0s 6ms/step - loss: 100.3094 - mse: 100.3094 - val_loss: 61.1149 - val_mse: 61.1149\n",
            "Epoch 138/250\n",
            "4/4 [==============================] - 0s 8ms/step - loss: 100.4287 - mse: 100.4287 - val_loss: 62.4865 - val_mse: 62.4865\n",
            "Epoch 139/250\n",
            "4/4 [==============================] - 0s 6ms/step - loss: 100.5202 - mse: 100.5202 - val_loss: 64.6128 - val_mse: 64.6128\n",
            "Epoch 140/250\n",
            "4/4 [==============================] - 0s 6ms/step - loss: 100.5093 - mse: 100.5093 - val_loss: 63.0852 - val_mse: 63.0852\n",
            "Epoch 141/250\n",
            "4/4 [==============================] - 0s 6ms/step - loss: 100.2611 - mse: 100.2611 - val_loss: 62.6259 - val_mse: 62.6259\n",
            "Epoch 142/250\n",
            "4/4 [==============================] - 0s 6ms/step - loss: 100.2617 - mse: 100.2617 - val_loss: 62.6095 - val_mse: 62.6095\n",
            "Epoch 143/250\n",
            "4/4 [==============================] - 0s 6ms/step - loss: 100.8372 - mse: 100.8372 - val_loss: 65.3976 - val_mse: 65.3976\n",
            "Epoch 144/250\n",
            "4/4 [==============================] - 0s 6ms/step - loss: 101.5822 - mse: 101.5822 - val_loss: 65.7389 - val_mse: 65.7389\n",
            "Epoch 145/250\n",
            "4/4 [==============================] - 0s 7ms/step - loss: 101.2338 - mse: 101.2338 - val_loss: 59.7910 - val_mse: 59.7910\n",
            "Epoch 146/250\n",
            "4/4 [==============================] - 0s 8ms/step - loss: 100.8713 - mse: 100.8713 - val_loss: 60.6178 - val_mse: 60.6178\n",
            "Epoch 147/250\n",
            "4/4 [==============================] - 0s 6ms/step - loss: 100.9499 - mse: 100.9499 - val_loss: 65.8013 - val_mse: 65.8013\n",
            "Epoch 148/250\n",
            "4/4 [==============================] - 0s 6ms/step - loss: 100.4565 - mse: 100.4565 - val_loss: 64.4563 - val_mse: 64.4563\n",
            "Epoch 149/250\n",
            "4/4 [==============================] - 0s 7ms/step - loss: 100.7160 - mse: 100.7160 - val_loss: 64.7671 - val_mse: 64.7671\n",
            "Epoch 150/250\n",
            "4/4 [==============================] - 0s 6ms/step - loss: 100.2966 - mse: 100.2966 - val_loss: 61.8405 - val_mse: 61.8405\n",
            "Epoch 151/250\n",
            "4/4 [==============================] - 0s 6ms/step - loss: 100.4987 - mse: 100.4987 - val_loss: 62.8632 - val_mse: 62.8632\n",
            "Epoch 152/250\n",
            "4/4 [==============================] - 0s 7ms/step - loss: 100.4176 - mse: 100.4176 - val_loss: 63.7398 - val_mse: 63.7398\n",
            "Epoch 153/250\n",
            "4/4 [==============================] - 0s 7ms/step - loss: 100.2477 - mse: 100.2477 - val_loss: 62.9429 - val_mse: 62.9429\n",
            "Epoch 154/250\n",
            "4/4 [==============================] - 0s 7ms/step - loss: 101.4849 - mse: 101.4849 - val_loss: 64.1497 - val_mse: 64.1497\n",
            "Epoch 155/250\n",
            "4/4 [==============================] - 0s 7ms/step - loss: 100.5617 - mse: 100.5617 - val_loss: 59.9611 - val_mse: 59.9611\n",
            "Epoch 156/250\n",
            "4/4 [==============================] - 0s 7ms/step - loss: 100.8988 - mse: 100.8988 - val_loss: 61.1917 - val_mse: 61.1917\n",
            "Epoch 157/250\n",
            "4/4 [==============================] - 0s 8ms/step - loss: 100.2911 - mse: 100.2911 - val_loss: 63.5851 - val_mse: 63.5851\n",
            "Epoch 158/250\n",
            "4/4 [==============================] - 0s 7ms/step - loss: 100.5158 - mse: 100.5158 - val_loss: 63.9292 - val_mse: 63.9292\n",
            "Epoch 159/250\n",
            "4/4 [==============================] - 0s 7ms/step - loss: 100.2400 - mse: 100.2400 - val_loss: 64.2765 - val_mse: 64.2765\n",
            "Epoch 160/250\n",
            "4/4 [==============================] - 0s 6ms/step - loss: 100.5451 - mse: 100.5451 - val_loss: 65.1721 - val_mse: 65.1721\n",
            "Epoch 161/250\n",
            "4/4 [==============================] - 0s 7ms/step - loss: 100.4466 - mse: 100.4466 - val_loss: 63.6456 - val_mse: 63.6456\n",
            "Epoch 162/250\n",
            "4/4 [==============================] - 0s 6ms/step - loss: 100.4040 - mse: 100.4040 - val_loss: 60.6878 - val_mse: 60.6878\n",
            "Epoch 163/250\n",
            "4/4 [==============================] - 0s 7ms/step - loss: 100.5410 - mse: 100.5410 - val_loss: 63.0937 - val_mse: 63.0937\n",
            "Epoch 164/250\n",
            "4/4 [==============================] - 0s 7ms/step - loss: 100.1109 - mse: 100.1109 - val_loss: 63.3656 - val_mse: 63.3656\n",
            "Epoch 165/250\n",
            "4/4 [==============================] - 0s 7ms/step - loss: 100.3608 - mse: 100.3608 - val_loss: 63.3253 - val_mse: 63.3253\n",
            "Epoch 166/250\n",
            "4/4 [==============================] - 0s 7ms/step - loss: 100.0539 - mse: 100.0539 - val_loss: 64.4497 - val_mse: 64.4497\n",
            "Epoch 167/250\n",
            "4/4 [==============================] - 0s 7ms/step - loss: 100.5491 - mse: 100.5491 - val_loss: 66.4987 - val_mse: 66.4987\n",
            "Epoch 168/250\n",
            "4/4 [==============================] - 0s 7ms/step - loss: 100.2009 - mse: 100.2009 - val_loss: 63.6913 - val_mse: 63.6913\n",
            "Epoch 169/250\n",
            "4/4 [==============================] - 0s 6ms/step - loss: 100.0774 - mse: 100.0774 - val_loss: 61.4348 - val_mse: 61.4348\n",
            "Epoch 170/250\n",
            "4/4 [==============================] - 0s 7ms/step - loss: 100.3677 - mse: 100.3677 - val_loss: 61.5766 - val_mse: 61.5766\n",
            "Epoch 171/250\n",
            "4/4 [==============================] - 0s 8ms/step - loss: 101.2822 - mse: 101.2822 - val_loss: 66.5556 - val_mse: 66.5556\n",
            "Epoch 172/250\n",
            "4/4 [==============================] - 0s 7ms/step - loss: 100.3921 - mse: 100.3921 - val_loss: 63.7346 - val_mse: 63.7346\n",
            "Epoch 173/250\n",
            "4/4 [==============================] - 0s 6ms/step - loss: 101.4456 - mse: 101.4456 - val_loss: 60.6094 - val_mse: 60.6094\n",
            "Epoch 174/250\n",
            "4/4 [==============================] - 0s 6ms/step - loss: 101.1221 - mse: 101.1221 - val_loss: 66.1123 - val_mse: 66.1123\n",
            "Epoch 175/250\n",
            "4/4 [==============================] - 0s 8ms/step - loss: 100.8620 - mse: 100.8620 - val_loss: 66.5442 - val_mse: 66.5442\n",
            "Epoch 176/250\n",
            "4/4 [==============================] - 0s 7ms/step - loss: 100.2024 - mse: 100.2024 - val_loss: 63.3517 - val_mse: 63.3517\n",
            "Epoch 177/250\n",
            "4/4 [==============================] - 0s 7ms/step - loss: 100.9924 - mse: 100.9924 - val_loss: 59.2186 - val_mse: 59.2186\n",
            "Epoch 178/250\n",
            "4/4 [==============================] - 0s 6ms/step - loss: 101.3199 - mse: 101.3199 - val_loss: 62.4357 - val_mse: 62.4357\n",
            "Epoch 179/250\n",
            "4/4 [==============================] - 0s 6ms/step - loss: 100.4786 - mse: 100.4786 - val_loss: 63.5193 - val_mse: 63.5193\n",
            "Epoch 180/250\n",
            "4/4 [==============================] - 0s 7ms/step - loss: 100.1123 - mse: 100.1123 - val_loss: 67.8374 - val_mse: 67.8374\n",
            "Epoch 181/250\n",
            "4/4 [==============================] - 0s 7ms/step - loss: 100.6368 - mse: 100.6368 - val_loss: 65.0708 - val_mse: 65.0708\n",
            "Epoch 182/250\n",
            "4/4 [==============================] - 0s 7ms/step - loss: 100.0828 - mse: 100.0828 - val_loss: 63.8990 - val_mse: 63.8990\n",
            "Epoch 183/250\n",
            "4/4 [==============================] - 0s 7ms/step - loss: 100.5079 - mse: 100.5079 - val_loss: 63.1436 - val_mse: 63.1436\n",
            "Epoch 184/250\n",
            "4/4 [==============================] - 0s 7ms/step - loss: 100.1984 - mse: 100.1984 - val_loss: 62.2546 - val_mse: 62.2546\n",
            "Epoch 185/250\n",
            "4/4 [==============================] - 0s 7ms/step - loss: 100.9234 - mse: 100.9234 - val_loss: 60.0938 - val_mse: 60.0938\n",
            "Epoch 186/250\n",
            "4/4 [==============================] - 0s 7ms/step - loss: 100.9675 - mse: 100.9675 - val_loss: 64.6535 - val_mse: 64.6535\n",
            "Epoch 187/250\n",
            "4/4 [==============================] - 0s 6ms/step - loss: 100.0717 - mse: 100.0717 - val_loss: 65.3453 - val_mse: 65.3453\n",
            "Epoch 188/250\n",
            "4/4 [==============================] - 0s 7ms/step - loss: 100.2476 - mse: 100.2476 - val_loss: 64.5694 - val_mse: 64.5694\n",
            "Epoch 189/250\n",
            "4/4 [==============================] - 0s 7ms/step - loss: 100.1519 - mse: 100.1519 - val_loss: 61.5299 - val_mse: 61.5299\n",
            "Epoch 190/250\n",
            "4/4 [==============================] - 0s 7ms/step - loss: 100.6488 - mse: 100.6488 - val_loss: 62.7383 - val_mse: 62.7383\n",
            "Epoch 191/250\n",
            "4/4 [==============================] - 0s 6ms/step - loss: 99.9731 - mse: 99.9731 - val_loss: 64.9691 - val_mse: 64.9691\n",
            "Epoch 192/250\n",
            "4/4 [==============================] - 0s 7ms/step - loss: 100.4883 - mse: 100.4883 - val_loss: 65.4300 - val_mse: 65.4300\n",
            "Epoch 193/250\n",
            "4/4 [==============================] - 0s 7ms/step - loss: 100.4079 - mse: 100.4079 - val_loss: 63.3625 - val_mse: 63.3625\n",
            "Epoch 194/250\n",
            "4/4 [==============================] - 0s 7ms/step - loss: 100.1163 - mse: 100.1163 - val_loss: 61.3658 - val_mse: 61.3658\n",
            "Epoch 195/250\n",
            "4/4 [==============================] - 0s 6ms/step - loss: 100.4306 - mse: 100.4306 - val_loss: 64.1381 - val_mse: 64.1381\n",
            "Epoch 196/250\n",
            "4/4 [==============================] - 0s 7ms/step - loss: 100.5605 - mse: 100.5605 - val_loss: 64.3256 - val_mse: 64.3256\n",
            "Epoch 197/250\n",
            "4/4 [==============================] - 0s 6ms/step - loss: 100.3079 - mse: 100.3079 - val_loss: 62.0762 - val_mse: 62.0762\n",
            "Epoch 198/250\n",
            "4/4 [==============================] - 0s 6ms/step - loss: 100.1349 - mse: 100.1349 - val_loss: 62.9814 - val_mse: 62.9814\n",
            "Epoch 199/250\n",
            "4/4 [==============================] - 0s 6ms/step - loss: 100.2362 - mse: 100.2362 - val_loss: 65.3331 - val_mse: 65.3331\n",
            "Epoch 200/250\n",
            "4/4 [==============================] - 0s 7ms/step - loss: 100.4767 - mse: 100.4767 - val_loss: 63.5462 - val_mse: 63.5462\n",
            "Epoch 201/250\n",
            "4/4 [==============================] - 0s 7ms/step - loss: 100.5561 - mse: 100.5561 - val_loss: 63.8420 - val_mse: 63.8420\n",
            "Epoch 202/250\n",
            "4/4 [==============================] - 0s 6ms/step - loss: 100.0876 - mse: 100.0876 - val_loss: 62.5712 - val_mse: 62.5712\n",
            "Epoch 203/250\n",
            "4/4 [==============================] - 0s 7ms/step - loss: 100.8342 - mse: 100.8342 - val_loss: 62.4460 - val_mse: 62.4460\n",
            "Epoch 204/250\n",
            "4/4 [==============================] - 0s 8ms/step - loss: 99.8763 - mse: 99.8763 - val_loss: 64.7950 - val_mse: 64.7950\n",
            "Epoch 205/250\n",
            "4/4 [==============================] - 0s 6ms/step - loss: 99.9944 - mse: 99.9944 - val_loss: 67.3987 - val_mse: 67.3987\n",
            "Epoch 206/250\n",
            "4/4 [==============================] - 0s 6ms/step - loss: 100.2956 - mse: 100.2956 - val_loss: 66.1968 - val_mse: 66.1968\n",
            "Epoch 207/250\n",
            "4/4 [==============================] - 0s 7ms/step - loss: 100.2322 - mse: 100.2322 - val_loss: 62.5000 - val_mse: 62.5000\n",
            "Epoch 208/250\n",
            "4/4 [==============================] - 0s 7ms/step - loss: 100.1351 - mse: 100.1351 - val_loss: 61.5199 - val_mse: 61.5199\n",
            "Epoch 209/250\n",
            "4/4 [==============================] - 0s 8ms/step - loss: 100.2816 - mse: 100.2816 - val_loss: 62.8895 - val_mse: 62.8895\n",
            "Epoch 210/250\n",
            "4/4 [==============================] - 0s 8ms/step - loss: 101.3783 - mse: 101.3783 - val_loss: 68.3930 - val_mse: 68.3930\n",
            "Epoch 211/250\n",
            "4/4 [==============================] - 0s 8ms/step - loss: 101.3768 - mse: 101.3768 - val_loss: 63.1402 - val_mse: 63.1402\n",
            "Epoch 212/250\n",
            "4/4 [==============================] - 0s 7ms/step - loss: 100.4436 - mse: 100.4436 - val_loss: 62.0527 - val_mse: 62.0527\n",
            "Epoch 213/250\n",
            "4/4 [==============================] - 0s 7ms/step - loss: 101.2679 - mse: 101.2679 - val_loss: 67.6086 - val_mse: 67.6086\n",
            "Epoch 214/250\n",
            "4/4 [==============================] - 0s 7ms/step - loss: 102.0935 - mse: 102.0935 - val_loss: 61.6880 - val_mse: 61.6880\n",
            "Epoch 215/250\n",
            "4/4 [==============================] - 0s 7ms/step - loss: 100.5727 - mse: 100.5727 - val_loss: 65.3896 - val_mse: 65.3896\n",
            "Epoch 216/250\n",
            "4/4 [==============================] - 0s 6ms/step - loss: 100.0891 - mse: 100.0891 - val_loss: 64.7964 - val_mse: 64.7964\n",
            "Epoch 217/250\n",
            "4/4 [==============================] - 0s 8ms/step - loss: 100.1613 - mse: 100.1613 - val_loss: 64.2524 - val_mse: 64.2524\n",
            "Epoch 218/250\n",
            "4/4 [==============================] - 0s 7ms/step - loss: 100.0755 - mse: 100.0755 - val_loss: 62.5429 - val_mse: 62.5429\n",
            "Epoch 219/250\n",
            "4/4 [==============================] - 0s 6ms/step - loss: 101.1746 - mse: 101.1746 - val_loss: 60.9794 - val_mse: 60.9794\n",
            "Epoch 220/250\n",
            "4/4 [==============================] - 0s 7ms/step - loss: 100.8102 - mse: 100.8102 - val_loss: 68.8185 - val_mse: 68.8185\n",
            "Epoch 221/250\n",
            "4/4 [==============================] - 0s 7ms/step - loss: 100.4294 - mse: 100.4294 - val_loss: 65.9444 - val_mse: 65.9444\n",
            "Epoch 222/250\n",
            "4/4 [==============================] - 0s 7ms/step - loss: 100.0303 - mse: 100.0303 - val_loss: 63.1283 - val_mse: 63.1283\n",
            "Epoch 223/250\n",
            "4/4 [==============================] - 0s 6ms/step - loss: 100.8171 - mse: 100.8171 - val_loss: 62.9725 - val_mse: 62.9725\n",
            "Epoch 224/250\n",
            "4/4 [==============================] - 0s 7ms/step - loss: 100.1759 - mse: 100.1759 - val_loss: 61.4714 - val_mse: 61.4714\n",
            "Epoch 225/250\n",
            "4/4 [==============================] - 0s 7ms/step - loss: 101.5551 - mse: 101.5551 - val_loss: 59.9731 - val_mse: 59.9731\n",
            "Epoch 226/250\n",
            "4/4 [==============================] - 0s 7ms/step - loss: 99.8546 - mse: 99.8546 - val_loss: 66.5446 - val_mse: 66.5446\n",
            "Epoch 227/250\n",
            "4/4 [==============================] - 0s 7ms/step - loss: 104.2451 - mse: 104.2451 - val_loss: 75.3171 - val_mse: 75.3171\n",
            "Epoch 228/250\n",
            "4/4 [==============================] - 0s 8ms/step - loss: 100.7593 - mse: 100.7593 - val_loss: 61.1040 - val_mse: 61.1040\n",
            "Epoch 229/250\n",
            "4/4 [==============================] - 0s 7ms/step - loss: 100.7721 - mse: 100.7721 - val_loss: 59.0271 - val_mse: 59.0271\n",
            "Epoch 230/250\n",
            "4/4 [==============================] - 0s 7ms/step - loss: 100.7720 - mse: 100.7720 - val_loss: 62.7019 - val_mse: 62.7019\n",
            "Epoch 231/250\n",
            "4/4 [==============================] - 0s 7ms/step - loss: 101.7807 - mse: 101.7807 - val_loss: 70.9832 - val_mse: 70.9832\n",
            "Epoch 232/250\n",
            "4/4 [==============================] - 0s 7ms/step - loss: 100.6204 - mse: 100.6204 - val_loss: 64.2471 - val_mse: 64.2471\n",
            "Epoch 233/250\n",
            "4/4 [==============================] - 0s 7ms/step - loss: 102.2575 - mse: 102.2575 - val_loss: 58.9748 - val_mse: 58.9748\n",
            "Epoch 234/250\n",
            "4/4 [==============================] - 0s 7ms/step - loss: 100.5849 - mse: 100.5849 - val_loss: 64.9228 - val_mse: 64.9228\n",
            "Epoch 235/250\n",
            "4/4 [==============================] - 0s 8ms/step - loss: 104.3148 - mse: 104.3148 - val_loss: 73.5208 - val_mse: 73.5208\n",
            "Epoch 236/250\n",
            "4/4 [==============================] - 0s 8ms/step - loss: 104.7163 - mse: 104.7163 - val_loss: 59.7269 - val_mse: 59.7269\n",
            "Epoch 237/250\n",
            "4/4 [==============================] - 0s 6ms/step - loss: 101.0797 - mse: 101.0797 - val_loss: 62.3179 - val_mse: 62.3179\n",
            "Epoch 238/250\n",
            "4/4 [==============================] - 0s 7ms/step - loss: 100.5434 - mse: 100.5434 - val_loss: 67.8389 - val_mse: 67.8389\n",
            "Epoch 239/250\n",
            "4/4 [==============================] - 0s 6ms/step - loss: 100.5830 - mse: 100.5830 - val_loss: 66.7037 - val_mse: 66.7037\n",
            "Epoch 240/250\n",
            "4/4 [==============================] - 0s 7ms/step - loss: 99.8156 - mse: 99.8156 - val_loss: 62.8362 - val_mse: 62.8362\n",
            "Epoch 241/250\n",
            "4/4 [==============================] - 0s 7ms/step - loss: 100.3819 - mse: 100.3819 - val_loss: 60.0486 - val_mse: 60.0486\n",
            "Epoch 242/250\n",
            "4/4 [==============================] - 0s 8ms/step - loss: 101.2925 - mse: 101.2925 - val_loss: 60.8781 - val_mse: 60.8781\n",
            "Epoch 243/250\n",
            "4/4 [==============================] - 0s 7ms/step - loss: 100.0059 - mse: 100.0059 - val_loss: 68.6657 - val_mse: 68.6657\n",
            "Epoch 244/250\n",
            "4/4 [==============================] - 0s 7ms/step - loss: 100.3610 - mse: 100.3610 - val_loss: 67.4272 - val_mse: 67.4272\n",
            "Epoch 245/250\n",
            "4/4 [==============================] - 0s 8ms/step - loss: 100.4964 - mse: 100.4964 - val_loss: 64.7756 - val_mse: 64.7756\n",
            "Epoch 246/250\n",
            "4/4 [==============================] - 0s 7ms/step - loss: 101.6364 - mse: 101.6364 - val_loss: 60.5281 - val_mse: 60.5281\n",
            "Epoch 247/250\n",
            "4/4 [==============================] - 0s 7ms/step - loss: 100.5370 - mse: 100.5370 - val_loss: 62.9542 - val_mse: 62.9542\n",
            "Epoch 248/250\n",
            "4/4 [==============================] - 0s 8ms/step - loss: 100.8157 - mse: 100.8157 - val_loss: 71.1782 - val_mse: 71.1782\n",
            "Epoch 249/250\n",
            "4/4 [==============================] - 0s 7ms/step - loss: 100.6925 - mse: 100.6925 - val_loss: 66.0156 - val_mse: 66.0156\n",
            "Epoch 250/250\n",
            "4/4 [==============================] - 0s 6ms/step - loss: 100.5285 - mse: 100.5285 - val_loss: 61.8364 - val_mse: 61.8364\n"
          ],
          "name": "stdout"
        },
        {
          "output_type": "execute_result",
          "data": {
            "text/plain": [
              "<tensorflow.python.keras.callbacks.History at 0x7f62aa0c6748>"
            ]
          },
          "metadata": {
            "tags": []
          },
          "execution_count": 318
        }
      ]
    },
    {
      "cell_type": "code",
      "metadata": {
        "id": "8nMdyKeIPi0L"
      },
      "source": [
        "#loss: 105.1226 - mse: 105.1226 - val_loss: 65.1121 - val_mse: 65.1121 with activity\n",
        "#loss: 102.7348 - mse: 102.7348 - val_loss: 62.5017 - val_mse: 62.5017 without sleep  notes\n",
        "#loss: 102.5009 - mse: 102.5009 - val_loss: 62.1021 - val_mse: 62.1021 with sleep notes\n",
        "#loss: 102.3190 - mse: 102.3190 - val_loss: 62.3128 - val_mse: 62.3128 with sleep notes and wake up\n",
        "#loss: 101.6704 - mse: 101.6704 - val_loss: 59.8196 - val_mse: 59.8196 50 epochs\n",
        "#loss:  99.3130 - mse:  99.3130 - val_loss: 65.5199 - val_mse: 65.5199 with heart rate filled with fillna(mean)\n",
        "#loss: 101.6605 - mse: 101.6605 - val_loss: 59.4113 - val_mse: 59.4113 With Call back mse: 101.6704 val_mse: 59.8196\n",
        "#loss: 100.7489 - mse: 100.7489 - val_loss: 61.2192 - val_mse: 61.2192 with every attribute exept start and end with out Call back\n",
        "#loss: 92.3622  - mse: 92.3622  - val_loss: 190.7880- val_mse: 190.7880 With 162 values filling sleep notes for na values\n",
        "#loss: 91.5628  - mse: 91.5628  - val_loss: 125.4840- val_mse: 125.4840 With pre procesing WakeUp in order to avoid dropna wake up"
      ],
      "execution_count": 319,
      "outputs": []
    },
    {
      "cell_type": "code",
      "metadata": {
        "id": "-ubP14lNj5nQ"
      },
      "source": [
        "model.save('SleepData_bestYet_model.h5')"
      ],
      "execution_count": 320,
      "outputs": []
    },
    {
      "cell_type": "code",
      "metadata": {
        "id": "RtBrHKin2uwg",
        "outputId": "ff15ad49-5f3b-41ea-c859-483a34206e0a",
        "colab": {
          "base_uri": "https://localhost:8080/"
        }
      },
      "source": [
        "sleep_data.info()"
      ],
      "execution_count": 321,
      "outputs": [
        {
          "output_type": "stream",
          "text": [
            "<class 'pandas.core.frame.DataFrame'>\n",
            "Int64Index: 155 entries, 1 to 241\n",
            "Data columns (total 13 columns):\n",
            " #   Column            Non-Null Count  Dtype  \n",
            "---  ------            --------------  -----  \n",
            " 0   Sleep quality     155 non-null    int8   \n",
            " 1   Time in bed       155 non-null    int64  \n",
            " 2   Heart rate        155 non-null    float64\n",
            " 3   Activity (steps)  155 non-null    int64  \n",
            " 4   SNote1            155 non-null    int64  \n",
            " 5   SNote2            155 non-null    int64  \n",
            " 6   SNote3            155 non-null    int64  \n",
            " 7   SNote4            155 non-null    int64  \n",
            " 8   SNote5            155 non-null    int64  \n",
            " 9   SNote6            155 non-null    int64  \n",
            " 10  SNote7            155 non-null    int64  \n",
            " 11  SNote8            155 non-null    int64  \n",
            " 12  WakeUp            155 non-null    int64  \n",
            "dtypes: float64(1), int64(11), int8(1)\n",
            "memory usage: 20.9 KB\n"
          ],
          "name": "stdout"
        }
      ]
    }
  ]
}