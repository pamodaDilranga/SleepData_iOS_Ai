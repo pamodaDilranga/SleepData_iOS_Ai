{
  "nbformat": 4,
  "nbformat_minor": 0,
  "metadata": {
    "colab": {
      "name": "SleepData_Fresh.ipynb",
      "provenance": [],
      "collapsed_sections": [],
      "authorship_tag": "ABX9TyMOStQqqexLexwAYmmcyEMx",
      "include_colab_link": true
    },
    "kernelspec": {
      "name": "python3",
      "display_name": "Python 3"
    }
  },
  "cells": [
    {
      "cell_type": "markdown",
      "metadata": {
        "id": "view-in-github",
        "colab_type": "text"
      },
      "source": [
        "<a href=\"https://colab.research.google.com/github/pamodaDilranga/SleepData_iOS_Ai/blob/main/SleepData_Fresh.ipynb\" target=\"_parent\"><img src=\"https://colab.research.google.com/assets/colab-badge.svg\" alt=\"Open In Colab\"/></a>"
      ]
    },
    {
      "cell_type": "code",
      "metadata": {
        "id": "MYXDQ3PHZ9CL"
      },
      "source": [
        "# from google.colab import files\n",
        "# files.upload()"
      ],
      "execution_count": 494,
      "outputs": []
    },
    {
      "cell_type": "code",
      "metadata": {
        "id": "-SFegzfPiyrh"
      },
      "source": [
        "import tensorflow as tf\n",
        "\n",
        "class callBack(tf.keras.callbacks.Callback):\n",
        "  def on_epoch_end(self, epoch, logs={}):\n",
        "    if(logs.get('val_mse')<=59.8196):\n",
        "      if(logs.get('mse')<=101.6704):\n",
        "        print(\"Reached Target\")\n",
        "        self.model.stop_training = True"
      ],
      "execution_count": 495,
      "outputs": []
    },
    {
      "cell_type": "code",
      "metadata": {
        "id": "fFxWf-8YkRVC"
      },
      "source": [
        "callback = callBack()"
      ],
      "execution_count": 496,
      "outputs": []
    },
    {
      "cell_type": "code",
      "metadata": {
        "id": "brBSEDVeaErp"
      },
      "source": [
        "import pandas as pd\n",
        "sleep_data = pd.read_csv('/content/sleepdata.csv', sep=';') "
      ],
      "execution_count": 497,
      "outputs": []
    },
    {
      "cell_type": "code",
      "metadata": {
        "id": "0Lny7yWaaI0H",
        "outputId": "957d2319-8d94-4c39-d2c7-6f83e390bda5",
        "colab": {
          "base_uri": "https://localhost:8080/"
        }
      },
      "source": [
        "sleep_data.info()"
      ],
      "execution_count": 498,
      "outputs": [
        {
          "output_type": "stream",
          "text": [
            "<class 'pandas.core.frame.DataFrame'>\n",
            "RangeIndex: 887 entries, 0 to 886\n",
            "Data columns (total 8 columns):\n",
            " #   Column            Non-Null Count  Dtype  \n",
            "---  ------            --------------  -----  \n",
            " 0   Start             887 non-null    object \n",
            " 1   End               887 non-null    object \n",
            " 2   Sleep quality     887 non-null    object \n",
            " 3   Time in bed       887 non-null    object \n",
            " 4   Wake up           246 non-null    object \n",
            " 5   Sleep Notes       652 non-null    object \n",
            " 6   Heart rate        162 non-null    float64\n",
            " 7   Activity (steps)  887 non-null    int64  \n",
            "dtypes: float64(1), int64(1), object(6)\n",
            "memory usage: 55.6+ KB\n"
          ],
          "name": "stdout"
        }
      ]
    },
    {
      "cell_type": "code",
      "metadata": {
        "id": "THH40w5DWHBe",
        "outputId": "00029c14-c9ef-4dc3-8d10-4b255d22ba30",
        "colab": {
          "base_uri": "https://localhost:8080/"
        }
      },
      "source": [
        "sleep_data['Heart rate'].fillna(sleep_data['Heart rate'].mean())"
      ],
      "execution_count": 499,
      "outputs": [
        {
          "output_type": "execute_result",
          "data": {
            "text/plain": [
              "0      59.000000\n",
              "1      72.000000\n",
              "2      57.000000\n",
              "3      60.604938\n",
              "4      68.000000\n",
              "         ...    \n",
              "882    60.604938\n",
              "883    60.604938\n",
              "884    60.604938\n",
              "885    60.604938\n",
              "886    60.604938\n",
              "Name: Heart rate, Length: 887, dtype: float64"
            ]
          },
          "metadata": {
            "tags": []
          },
          "execution_count": 499
        }
      ]
    },
    {
      "cell_type": "code",
      "metadata": {
        "id": "2fh2ECyyL2OW"
      },
      "source": [
        "sleep_data= sleep_data.dropna(axis=0)"
      ],
      "execution_count": 500,
      "outputs": []
    },
    {
      "cell_type": "code",
      "metadata": {
        "id": "Mi2zmmMGL4y_",
        "outputId": "bb27f076-a87d-4d12-cde1-0e2daaaf1307",
        "colab": {
          "base_uri": "https://localhost:8080/"
        }
      },
      "source": [
        "sleep_data.info()"
      ],
      "execution_count": 501,
      "outputs": [
        {
          "output_type": "stream",
          "text": [
            "<class 'pandas.core.frame.DataFrame'>\n",
            "Int64Index: 155 entries, 1 to 241\n",
            "Data columns (total 8 columns):\n",
            " #   Column            Non-Null Count  Dtype  \n",
            "---  ------            --------------  -----  \n",
            " 0   Start             155 non-null    object \n",
            " 1   End               155 non-null    object \n",
            " 2   Sleep quality     155 non-null    object \n",
            " 3   Time in bed       155 non-null    object \n",
            " 4   Wake up           155 non-null    object \n",
            " 5   Sleep Notes       155 non-null    object \n",
            " 6   Heart rate        155 non-null    float64\n",
            " 7   Activity (steps)  155 non-null    int64  \n",
            "dtypes: float64(1), int64(1), object(6)\n",
            "memory usage: 10.9+ KB\n"
          ],
          "name": "stdout"
        }
      ]
    },
    {
      "cell_type": "code",
      "metadata": {
        "id": "dwch1X6Kr-KD"
      },
      "source": [
        "sleep_data['Sleep quality']=pd.Series(sleep_data['Sleep quality']).str.replace('%', '')\n",
        "sleep_data['Sleep quality'] = pd.to_numeric(sleep_data['Sleep quality'], downcast='signed')"
      ],
      "execution_count": 502,
      "outputs": []
    },
    {
      "cell_type": "code",
      "metadata": {
        "id": "VINGR2H0yO4k"
      },
      "source": [
        "TimeInBed = []\n",
        "for time in sleep_data['Time in bed']:\n",
        "  minSec = time.split(':')\n",
        "  timeInSec = (int(minSec[0])*60)+(int(minSec[1]))\n",
        "  TimeInBed.append(timeInSec)"
      ],
      "execution_count": 503,
      "outputs": []
    },
    {
      "cell_type": "code",
      "metadata": {
        "id": "2TnJqsIJ3eJl"
      },
      "source": [
        "sleep_data['Time in bed'] = TimeInBed"
      ],
      "execution_count": 504,
      "outputs": []
    },
    {
      "cell_type": "code",
      "metadata": {
        "id": "C9hmRozu4pzU"
      },
      "source": [
        "from tensorflow.keras.preprocessing.text import Tokenizer\n",
        "from tensorflow.keras.preprocessing.sequence import pad_sequences"
      ],
      "execution_count": 505,
      "outputs": []
    },
    {
      "cell_type": "code",
      "metadata": {
        "id": "ILZu2_hr4I1X"
      },
      "source": [
        "tokenizer = Tokenizer(num_words=100, split=' ', filters=':')\n",
        "tokenizer.fit_on_texts(sleep_data['Sleep Notes'])"
      ],
      "execution_count": 506,
      "outputs": []
    },
    {
      "cell_type": "code",
      "metadata": {
        "id": "uhpa2Otb4ai5",
        "outputId": "eff8af2a-1d9e-40a3-fdaf-d8c5a677d9e7",
        "colab": {
          "base_uri": "https://localhost:8080/"
        }
      },
      "source": [
        "word_index = tokenizer.word_index\n",
        "print(word_index)"
      ],
      "execution_count": 507,
      "outputs": [
        {
          "output_type": "stream",
          "text": [
            "{'drank': 1, 'coffee': 2, 'tea': 3, 'worked': 4, 'out': 5, 'stressful': 6, 'day': 7, 'ate': 8, 'late': 9}\n"
          ],
          "name": "stdout"
        }
      ]
    },
    {
      "cell_type": "code",
      "metadata": {
        "id": "cId4rxzn_WkT"
      },
      "source": [
        "train_sequences = tokenizer.texts_to_sequences(sleep_data['Sleep Notes'])"
      ],
      "execution_count": 508,
      "outputs": []
    },
    {
      "cell_type": "code",
      "metadata": {
        "id": "h43mVJk7_nP7"
      },
      "source": [
        "maxlen= max([len(x) for x in train_sequences])"
      ],
      "execution_count": 509,
      "outputs": []
    },
    {
      "cell_type": "code",
      "metadata": {
        "id": "kZjHWUxW_34y",
        "outputId": "90cb8958-b9f3-4d6f-a2c5-700fec0850a0",
        "colab": {
          "base_uri": "https://localhost:8080/"
        }
      },
      "source": [
        "train_padded = pad_sequences(train_sequences, padding='pre', truncating='pre', maxlen=maxlen)\n",
        "print(train_padded)"
      ],
      "execution_count": 510,
      "outputs": [
        {
          "output_type": "stream",
          "text": [
            "[[0 0 0 ... 0 6 7]\n",
            " [0 0 0 ... 2 1 3]\n",
            " [0 0 0 ... 2 1 3]\n",
            " ...\n",
            " [0 0 1 ... 3 4 5]\n",
            " [0 0 0 ... 2 1 3]\n",
            " [0 0 0 ... 2 1 3]]\n"
          ],
          "name": "stdout"
        }
      ]
    },
    {
      "cell_type": "code",
      "metadata": {
        "id": "ir3TPCZXBPLI",
        "outputId": "0053d5a8-1f3d-432c-8f81-82b365e674bd",
        "colab": {
          "base_uri": "https://localhost:8080/"
        }
      },
      "source": [
        "print(sleep_data['Sleep Notes'].shape)\n",
        "print(train_padded.shape)"
      ],
      "execution_count": 511,
      "outputs": [
        {
          "output_type": "stream",
          "text": [
            "(155,)\n",
            "(155, 8)\n"
          ],
          "name": "stdout"
        }
      ]
    },
    {
      "cell_type": "code",
      "metadata": {
        "id": "C41RNdFvExyJ"
      },
      "source": [
        "sleep_data['SNote1'] = 0\n",
        "sleep_data['SNote2'] = 0\n",
        "sleep_data['SNote3'] = 0\n",
        "sleep_data['SNote4'] = 0\n",
        "sleep_data['SNote5'] = 0\n",
        "sleep_data['SNote6'] = 0\n",
        "sleep_data['SNote7'] = 0\n",
        "sleep_data['SNote8'] = 0"
      ],
      "execution_count": 512,
      "outputs": []
    },
    {
      "cell_type": "code",
      "metadata": {
        "id": "7gO5lPcnFTIs"
      },
      "source": [
        "for idx, noteData in enumerate(train_padded):\n",
        "  sleep_data['SNote1'][idx] = noteData[0]\n",
        "  sleep_data['SNote2'][idx] = noteData[1]\n",
        "  sleep_data['SNote3'][idx] = noteData[2]\n",
        "  sleep_data['SNote4'][idx] = noteData[3]\n",
        "  sleep_data['SNote5'][idx] = noteData[4]\n",
        "  sleep_data['SNote6'][idx] = noteData[5]\n",
        "  sleep_data['SNote7'][idx] = noteData[6]\n",
        "  sleep_data['SNote8'][idx] = noteData[7]"
      ],
      "execution_count": null,
      "outputs": []
    },
    {
      "cell_type": "markdown",
      "metadata": {
        "id": "FKx3IG5gGtqm"
      },
      "source": [
        "**Handling Wake Up**"
      ]
    },
    {
      "cell_type": "code",
      "metadata": {
        "id": "PNhmMPq_Gzfx"
      },
      "source": [
        "tokenizer = Tokenizer(num_words=100, split=' ', filters='')\n",
        "tokenizer.fit_on_texts(sleep_data['Wake up'])"
      ],
      "execution_count": 514,
      "outputs": []
    },
    {
      "cell_type": "code",
      "metadata": {
        "id": "7xiQlTRYGzf1",
        "outputId": "ca810438-ba36-4832-9ef7-cef422dac222",
        "colab": {
          "base_uri": "https://localhost:8080/"
        }
      },
      "source": [
        "word_index = tokenizer.word_index\n",
        "print(word_index)"
      ],
      "execution_count": 515,
      "outputs": [
        {
          "output_type": "stream",
          "text": [
            "{':)': 1, ':|': 2}\n"
          ],
          "name": "stdout"
        }
      ]
    },
    {
      "cell_type": "code",
      "metadata": {
        "id": "LNAaMIoSGzf6"
      },
      "source": [
        "train_sequences = tokenizer.texts_to_sequences(sleep_data['Wake up'])"
      ],
      "execution_count": 516,
      "outputs": []
    },
    {
      "cell_type": "code",
      "metadata": {
        "id": "CfCMCti9Gzf9"
      },
      "source": [
        "maxlen= max([len(x) for x in train_sequences])"
      ],
      "execution_count": 517,
      "outputs": []
    },
    {
      "cell_type": "code",
      "metadata": {
        "id": "q1Bui-2kGzgE"
      },
      "source": [
        "train_padded = pad_sequences(train_sequences, padding='pre', truncating='pre', maxlen=maxlen)"
      ],
      "execution_count": 518,
      "outputs": []
    },
    {
      "cell_type": "code",
      "metadata": {
        "id": "8XafJSLAGzgM",
        "outputId": "82f70d4e-6dc9-4ef7-c876-ec89ff8a29f6",
        "colab": {
          "base_uri": "https://localhost:8080/"
        }
      },
      "source": [
        "print(sleep_data['Wake up'].shape)\n",
        "print(train_padded.shape)"
      ],
      "execution_count": 519,
      "outputs": [
        {
          "output_type": "stream",
          "text": [
            "(155,)\n",
            "(155, 1)\n"
          ],
          "name": "stdout"
        }
      ]
    },
    {
      "cell_type": "code",
      "metadata": {
        "id": "gpluDvWCGzgP"
      },
      "source": [
        "sleep_data['WakeUp'] = 0"
      ],
      "execution_count": 520,
      "outputs": []
    },
    {
      "cell_type": "code",
      "metadata": {
        "id": "Gjw1Y-lZGzgY",
        "outputId": "af770cc1-64f2-435e-e397-b7ad07dd86ba",
        "colab": {
          "base_uri": "https://localhost:8080/"
        }
      },
      "source": [
        "for idx, noteData in enumerate(train_padded):\n",
        "  sleep_data['WakeUp'][idx] = noteData[0]"
      ],
      "execution_count": 521,
      "outputs": [
        {
          "output_type": "stream",
          "text": [
            "/usr/local/lib/python3.6/dist-packages/ipykernel_launcher.py:2: SettingWithCopyWarning: \n",
            "A value is trying to be set on a copy of a slice from a DataFrame\n",
            "\n",
            "See the caveats in the documentation: https://pandas.pydata.org/pandas-docs/stable/user_guide/indexing.html#returning-a-view-versus-a-copy\n",
            "  \n"
          ],
          "name": "stderr"
        }
      ]
    },
    {
      "cell_type": "code",
      "metadata": {
        "id": "SlMgEeaiNTJY",
        "outputId": "7c3145ef-249f-4a6a-920e-67c17baa6924",
        "colab": {
          "base_uri": "https://localhost:8080/"
        }
      },
      "source": [
        "sleep_data.info()"
      ],
      "execution_count": 522,
      "outputs": [
        {
          "output_type": "stream",
          "text": [
            "<class 'pandas.core.frame.DataFrame'>\n",
            "Int64Index: 155 entries, 1 to 241\n",
            "Data columns (total 17 columns):\n",
            " #   Column            Non-Null Count  Dtype  \n",
            "---  ------            --------------  -----  \n",
            " 0   Start             155 non-null    object \n",
            " 1   End               155 non-null    object \n",
            " 2   Sleep quality     155 non-null    int8   \n",
            " 3   Time in bed       155 non-null    int64  \n",
            " 4   Wake up           155 non-null    object \n",
            " 5   Sleep Notes       155 non-null    object \n",
            " 6   Heart rate        155 non-null    float64\n",
            " 7   Activity (steps)  155 non-null    int64  \n",
            " 8   SNote1            155 non-null    int64  \n",
            " 9   SNote2            155 non-null    int64  \n",
            " 10  SNote3            155 non-null    int64  \n",
            " 11  SNote4            155 non-null    int64  \n",
            " 12  SNote5            155 non-null    int64  \n",
            " 13  SNote6            155 non-null    int64  \n",
            " 14  SNote7            155 non-null    int64  \n",
            " 15  SNote8            155 non-null    int64  \n",
            " 16  WakeUp            155 non-null    int64  \n",
            "dtypes: float64(1), int64(11), int8(1), object(4)\n",
            "memory usage: 25.7+ KB\n"
          ],
          "name": "stdout"
        }
      ]
    },
    {
      "cell_type": "code",
      "metadata": {
        "id": "eWuSuukoKaAL"
      },
      "source": [
        "sleep_data.drop('Start', inplace=True, axis=1)\n",
        "sleep_data.drop('End', inplace=True, axis=1)\n",
        "sleep_data.drop('Wake up', inplace=True, axis=1)\n",
        "sleep_data.drop('Sleep Notes', inplace=True, axis=1)\n",
        "sleep_data.drop('WakeUp', inplace=True, axis=1)"
      ],
      "execution_count": 523,
      "outputs": []
    },
    {
      "cell_type": "code",
      "metadata": {
        "id": "hFdl4H2fOAlG",
        "outputId": "49b9e960-7ea5-49b7-b244-ea4c1762b94b",
        "colab": {
          "base_uri": "https://localhost:8080/"
        }
      },
      "source": [
        "sleep_data.info()"
      ],
      "execution_count": 524,
      "outputs": [
        {
          "output_type": "stream",
          "text": [
            "<class 'pandas.core.frame.DataFrame'>\n",
            "Int64Index: 155 entries, 1 to 241\n",
            "Data columns (total 12 columns):\n",
            " #   Column            Non-Null Count  Dtype  \n",
            "---  ------            --------------  -----  \n",
            " 0   Sleep quality     155 non-null    int8   \n",
            " 1   Time in bed       155 non-null    int64  \n",
            " 2   Heart rate        155 non-null    float64\n",
            " 3   Activity (steps)  155 non-null    int64  \n",
            " 4   SNote1            155 non-null    int64  \n",
            " 5   SNote2            155 non-null    int64  \n",
            " 6   SNote3            155 non-null    int64  \n",
            " 7   SNote4            155 non-null    int64  \n",
            " 8   SNote5            155 non-null    int64  \n",
            " 9   SNote6            155 non-null    int64  \n",
            " 10  SNote7            155 non-null    int64  \n",
            " 11  SNote8            155 non-null    int64  \n",
            "dtypes: float64(1), int64(10), int8(1)\n",
            "memory usage: 19.7 KB\n"
          ],
          "name": "stdout"
        }
      ]
    },
    {
      "cell_type": "code",
      "metadata": {
        "id": "R9XCh2JWOori"
      },
      "source": [
        "X = sleep_data.loc[:, sleep_data.columns != 'Sleep quality']\n",
        "Y = sleep_data.loc[:, sleep_data.columns == 'Sleep quality']"
      ],
      "execution_count": 525,
      "outputs": []
    },
    {
      "cell_type": "code",
      "metadata": {
        "id": "EuHVCfEoOFFa"
      },
      "source": [
        "from tensorflow.keras.models import Sequential\n",
        "from tensorflow.keras.layers import Dense"
      ],
      "execution_count": 526,
      "outputs": []
    },
    {
      "cell_type": "code",
      "metadata": {
        "id": "AOWbDpB1OTcu"
      },
      "source": [
        "model = Sequential([\n",
        "     Dense(units=64, activation='relu'),\n",
        "     Dense(units=32, activation='relu'),\n",
        "     Dense(units=1)\n",
        "])"
      ],
      "execution_count": 527,
      "outputs": []
    },
    {
      "cell_type": "code",
      "metadata": {
        "id": "iuu-8k5_OlW-"
      },
      "source": [
        "model.compile(optimizer='Adam', loss='mean_squared_error', metrics=['mse'])"
      ],
      "execution_count": 528,
      "outputs": []
    },
    {
      "cell_type": "code",
      "metadata": {
        "id": "oTYmys_6PDVg",
        "outputId": "e85492f8-381b-41ff-a86b-31eb23f261b0",
        "colab": {
          "base_uri": "https://localhost:8080/"
        }
      },
      "source": [
        "model.fit(x=X,y=Y, epochs=250, callbacks=[callback], validation_split=(0.2),)"
      ],
      "execution_count": 529,
      "outputs": [
        {
          "output_type": "stream",
          "text": [
            "Epoch 1/250\n",
            "WARNING:tensorflow:Layer dense_39 is casting an input tensor from dtype float64 to the layer's dtype of float32, which is new behavior in TensorFlow 2.  The layer has dtype float32 because its dtype defaults to floatx.\n",
            "\n",
            "If you intended to run this layer in float32, you can safely ignore this warning. If in doubt, this warning is likely only an issue if you are porting a TensorFlow 1.X model to TensorFlow 2.\n",
            "\n",
            "To change all layers to have dtype float64 by default, call `tf.keras.backend.set_floatx('float64')`. To change just this layer, pass dtype='float64' to the layer constructor. If you are the author of this layer, you can disable autocasting by passing autocast=False to the base Layer constructor.\n",
            "\n",
            "4/4 [==============================] - 0s 32ms/step - loss: 2090.7356 - mse: 2090.7356 - val_loss: 948.4336 - val_mse: 948.4336\n",
            "Epoch 2/250\n",
            "4/4 [==============================] - 0s 5ms/step - loss: 577.5237 - mse: 577.5237 - val_loss: 204.1300 - val_mse: 204.1300\n",
            "Epoch 3/250\n",
            "4/4 [==============================] - 0s 5ms/step - loss: 149.9068 - mse: 149.9068 - val_loss: 59.2842 - val_mse: 59.2842\n",
            "Epoch 4/250\n",
            "4/4 [==============================] - 0s 6ms/step - loss: 136.7787 - mse: 136.7787 - val_loss: 123.0210 - val_mse: 123.0210\n",
            "Epoch 5/250\n",
            "4/4 [==============================] - 0s 6ms/step - loss: 206.0785 - mse: 206.0785 - val_loss: 138.5027 - val_mse: 138.5027\n",
            "Epoch 6/250\n",
            "4/4 [==============================] - 0s 6ms/step - loss: 195.4628 - mse: 195.4628 - val_loss: 99.5936 - val_mse: 99.5936\n",
            "Epoch 7/250\n",
            "4/4 [==============================] - 0s 5ms/step - loss: 145.5208 - mse: 145.5208 - val_loss: 64.3590 - val_mse: 64.3590\n",
            "Epoch 8/250\n",
            "4/4 [==============================] - 0s 5ms/step - loss: 109.4411 - mse: 109.4411 - val_loss: 58.0294 - val_mse: 58.0294\n",
            "Epoch 9/250\n",
            "4/4 [==============================] - 0s 5ms/step - loss: 100.5766 - mse: 100.5766 - val_loss: 69.3319 - val_mse: 69.3319\n",
            "Epoch 10/250\n",
            "4/4 [==============================] - 0s 6ms/step - loss: 107.9806 - mse: 107.9806 - val_loss: 79.2602 - val_mse: 79.2602\n",
            "Epoch 11/250\n",
            "4/4 [==============================] - 0s 6ms/step - loss: 113.2534 - mse: 113.2534 - val_loss: 78.7283 - val_mse: 78.7283\n",
            "Epoch 12/250\n",
            "4/4 [==============================] - 0s 5ms/step - loss: 110.2225 - mse: 110.2225 - val_loss: 69.6023 - val_mse: 69.6023\n",
            "Epoch 13/250\n",
            "4/4 [==============================] - 0s 5ms/step - loss: 103.7814 - mse: 103.7814 - val_loss: 62.2535 - val_mse: 62.2535\n",
            "Epoch 14/250\n",
            "4/4 [==============================] - 0s 5ms/step - loss: 101.8924 - mse: 101.8924 - val_loss: 58.1739 - val_mse: 58.1739\n",
            "Epoch 15/250\n",
            "4/4 [==============================] - 0s 5ms/step - loss: 101.8373 - mse: 101.8373 - val_loss: 57.2831 - val_mse: 57.2831\n",
            "Epoch 16/250\n",
            "4/4 [==============================] - 0s 5ms/step - loss: 102.6173 - mse: 102.6173 - val_loss: 57.1938 - val_mse: 57.1938\n",
            "Epoch 17/250\n",
            "4/4 [==============================] - 0s 5ms/step - loss: 102.5170 - mse: 102.5170 - val_loss: 57.4268 - val_mse: 57.4268\n",
            "Epoch 18/250\n",
            "4/4 [==============================] - 0s 5ms/step - loss: 102.7734 - mse: 102.7734 - val_loss: 58.8607 - val_mse: 58.8607\n",
            "Epoch 19/250\n",
            "4/4 [==============================] - 0s 5ms/step - loss: 102.1090 - mse: 102.1090 - val_loss: 60.4107 - val_mse: 60.4107\n",
            "Epoch 20/250\n",
            "4/4 [==============================] - 0s 5ms/step - loss: 101.5725 - mse: 101.5725 - val_loss: 60.1137 - val_mse: 60.1137\n",
            "Epoch 21/250\n",
            "1/4 [======>.......................] - ETA: 0s - loss: 130.6476 - mse: 130.6476Reached Target\n",
            "4/4 [==============================] - 0s 6ms/step - loss: 101.5482 - mse: 101.5482 - val_loss: 59.6476 - val_mse: 59.6476\n"
          ],
          "name": "stdout"
        },
        {
          "output_type": "execute_result",
          "data": {
            "text/plain": [
              "<tensorflow.python.keras.callbacks.History at 0x7f53671cb6d8>"
            ]
          },
          "metadata": {
            "tags": []
          },
          "execution_count": 529
        }
      ]
    },
    {
      "cell_type": "code",
      "metadata": {
        "id": "8nMdyKeIPi0L"
      },
      "source": [
        "#loss: 105.1226 - mse: 105.1226 - val_loss: 65.1121 - val_mse: 65.1121 with activity\n",
        "#loss: 102.7348 - mse: 102.7348 - val_loss: 62.5017 - val_mse: 62.5017 without sleep  notes\n",
        "#loss: 102.5009 - mse: 102.5009 - val_loss: 62.1021 - val_mse: 62.1021 with sleep notes\n",
        "#loss: 102.3190 - mse: 102.3190 - val_loss: 62.3128 - val_mse: 62.3128 with sleep notes and wake up\n",
        "#loss: 101.6704 - mse: 101.6704 - val_loss: 59.8196 - val_mse: 59.8196 50 epochs\n",
        "#loss:  99.3130 - mse:  99.3130 - val_loss: 65.5199 - val_mse: 65.5199 with heart rate filled with fillna(mean)\n",
        "#loss: 101.6605 - mse: 101.6605 - val_loss: 59.4113 - val_mse: 59.4113 With Call back mse: 101.6704 val_mse: 59.8196"
      ],
      "execution_count": 530,
      "outputs": []
    }
  ]
}