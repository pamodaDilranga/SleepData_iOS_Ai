{
  "nbformat": 4,
  "nbformat_minor": 0,
  "metadata": {
    "accelerator": "GPU",
    "colab": {
      "name": "SleepDataNewApproch.ipynb",
      "provenance": [],
      "collapsed_sections": [],
      "include_colab_link": true
    },
    "kernelspec": {
      "display_name": "Python 3",
      "name": "python3"
    }
  },
  "cells": [
    {
      "cell_type": "markdown",
      "metadata": {
        "id": "view-in-github",
        "colab_type": "text"
      },
      "source": [
        "<a href=\"https://colab.research.google.com/github/pamodaDilranga/SleepData_iOS_Ai/blob/main/SleepDataNewApproch.ipynb\" target=\"_parent\"><img src=\"https://colab.research.google.com/assets/colab-badge.svg\" alt=\"Open In Colab\"/></a>"
      ]
    },
    {
      "cell_type": "markdown",
      "metadata": {
        "id": "VV2z7yJxmtsB"
      },
      "source": [
        "**Data Pre-Processing**"
      ]
    },
    {
      "cell_type": "code",
      "metadata": {
        "id": "gPtS_8oPLMQ2",
        "outputId": "79c56bdc-3466-4c43-f8f6-71662c1ae392",
        "colab": {
          "resources": {
            "http://localhost:8080/nbextensions/google.colab/files.js": {
              "data": "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",
              "ok": true,
              "headers": [
                [
                  "content-type",
                  "application/javascript"
                ]
              ],
              "status": 200,
              "status_text": ""
            }
          },
          "base_uri": "https://localhost:8080/",
          "height": 109
        }
      },
      "source": [
        "from google.colab import files\n",
        "files.upload()"
      ],
      "execution_count": 56,
      "outputs": [
        {
          "output_type": "display_data",
          "data": {
            "text/html": [
              "\n",
              "     <input type=\"file\" id=\"files-c329aaf6-6b5c-4089-a599-6e416a112d03\" name=\"files[]\" multiple disabled\n",
              "        style=\"border:none\" />\n",
              "     <output id=\"result-c329aaf6-6b5c-4089-a599-6e416a112d03\">\n",
              "      Upload widget is only available when the cell has been executed in the\n",
              "      current browser session. Please rerun this cell to enable.\n",
              "      </output>\n",
              "      <script src=\"/nbextensions/google.colab/files.js\"></script> "
            ],
            "text/plain": [
              "<IPython.core.display.HTML object>"
            ]
          },
          "metadata": {
            "tags": []
          }
        },
        {
          "output_type": "stream",
          "text": [
            "Saving sleepdata.csv to sleepdata (2).csv\n"
          ],
          "name": "stdout"
        },
        {
          "output_type": "execute_result",
          "data": {
            "text/plain": [
              "{'sleepdata.csv': b'Start;End;Sleep quality;Time in bed;Wake up;Sleep Notes;Heart rate;Activity (steps)\\r\\r\\n2014-12-29 22:57:49;2014-12-30 07:30:13;100%;8:32;:);;59;0\\r\\r\\n2014-12-30 21:17:50;2014-12-30 21:33:54;3%;0:16;:|;Stressful day;72;0\\r\\r\\n2014-12-30 22:42:49;2014-12-31 07:13:31;98%;8:30;:|;;57;0\\r\\r\\n2014-12-31 22:31:01;2015-01-01 06:03:01;65%;7:32;;;;0\\r\\r\\n2015-01-01 22:12:10;2015-01-02 04:56:35;72%;6:44;:);Drank coffee:Drank tea;68;0\\r\\r\\n2015-01-03 00:34:57;2015-01-03 07:47:23;83%;7:12;:);Drank coffee:Drank tea;60;0\\r\\r\\n2015-01-04 00:23:06;2015-01-04 07:37:09;78%;7:14;;Drank tea;;0\\r\\r\\n2015-01-04 21:34:44;2015-01-05 04:53:34;78%;7:18;:);Ate late:Drank coffee;57;0\\r\\r\\n2015-01-05 21:32:25;2015-01-06 05:00:03;69%;7:27;:);Drank coffee:Drank tea:Worked out;56;0\\r\\r\\n2015-01-06 21:24:56;2015-01-07 05:00:02;74%;7:35;:|;Drank tea:Worked out;64;0\\r\\r\\n2015-01-07 20:59:58;2015-01-08 06:19:20;81%;9:19;:);Drank coffee:Drank tea:Stressful day;62;0\\r\\r\\n2015-01-08 22:58:18;2015-01-09 06:14:58;88%;7:16;:);Drank coffee:Drank tea;58;0\\r\\r\\n2015-01-09 22:27:58;2015-01-10 07:29:00;77%;9:01;:|;Drank coffee:Drank tea;65;0\\r\\r\\n2015-01-10 22:38:24;2015-01-11 07:28:59;89%;8:50;:|;Drank coffee:Drank tea;65;0\\r\\r\\n2015-01-11 22:12:07;2015-01-12 06:20:29;78%;8:08;:);Drank tea;53;0\\r\\r\\n2015-01-12 21:01:46;2015-01-13 06:13:23;100%;9:11;:);Drank tea:Worked out;65;0\\r\\r\\n2015-01-13 22:14:29;2015-01-14 06:20:33;100%;8:06;:);Drank coffee:Drank tea;55;0\\r\\r\\n2015-01-14 21:48:26;2015-01-15 05:02:05;88%;7:13;:);Drank coffee:Drank tea:Worked out;60;0\\r\\r\\n2015-01-15 21:32:07;2015-01-16 04:54:42;87%;7:22;:);Drank tea;60;0\\r\\r\\n2015-01-17 02:11:57;2015-01-17 09:03:37;83%;6:51;:);Drank coffee:Drank tea;94;0\\r\\r\\n2015-01-17 23:55:16;2015-01-18 07:47:15;93%;7:51;:);Drank coffee:Drank tea;57;0\\r\\r\\n2015-01-18 21:51:53;2015-01-19 05:04:18;58%;7:12;:);Drank coffee;67;0\\r\\r\\n2015-01-19 05:06:38;2015-01-19 06:20:29;16%;1:13;:);;58;0\\r\\r\\n2015-01-19 21:45:19;2015-01-20 05:45:37;75%;8:00;:|;Drank coffee:Drank tea:Worked out;54;0\\r\\r\\n2015-01-20 21:42:37;2015-01-21 05:45:22;80%;8:02;:|;Drank coffee:Drank tea:Worked out;60;0\\r\\r\\n2015-01-21 22:34:35;2015-01-22 06:17:22;87%;7:42;:);Drank coffee:Drank tea:Worked out;75;0\\r\\r\\n2015-01-25 20:55:02;2015-01-26 06:14:59;87%;9:19;:);Drank coffee;58;0\\r\\r\\n2015-01-26 22:36:21;2015-01-27 06:11:49;83%;7:35;:|;Drank coffee:Drank tea:Stressful day;66;0\\r\\r\\n2015-01-28 21:43:16;2015-01-29 05:20:42;76%;7:37;:);Drank coffee:Drank tea:Stressful day;57;0\\r\\r\\n2015-01-29 22:23:40;2015-01-30 05:29:11;67%;7:05;:);Drank coffee:Drank tea:Worked out;63;0\\r\\r\\n2015-01-31 00:13:46;2015-01-31 08:17:30;93%;8:03;:);Drank coffee:Drank tea:Stressful day;62;0\\r\\r\\n2015-02-01 21:55:59;2015-02-02 05:09:06;64%;7:13;:);Drank coffee:Drank tea;56;0\\r\\r\\n2015-02-02 22:30:35;2015-02-03 06:20:29;75%;7:49;:);Drank tea;61;0\\r\\r\\n2015-02-03 22:47:33;2015-02-04 06:20:21;72%;7:32;:);Drank coffee:Drank tea;61;0\\r\\r\\n2015-02-04 23:03:06;2015-02-05 06:10:44;70%;7:07;:);Drank tea:Worked out;57;0\\r\\r\\n2015-02-08 22:30:34;2015-02-09 06:48:30;89%;8:17;:);Drank coffee:Drank tea;61;0\\r\\r\\n2015-02-09 21:55:43;2015-02-10 06:13:22;85%;8:17;:);Drank coffee;58;0\\r\\r\\n2015-02-10 22:20:46;2015-02-11 06:20:51;59%;8:00;:);Drank coffee;60;0\\r\\r\\n2015-02-11 21:53:45;2015-02-12 05:30:25;67%;7:36;:);Drank coffee:Drank tea:Worked out;57;0\\r\\r\\n2015-02-12 22:34:54;2015-02-13 05:24:22;69%;6:49;:);Drank coffee:Drank tea:Worked out;53;0\\r\\r\\n2015-02-15 22:16:27;2015-02-16 05:20:44;74%;7:04;:);Drank coffee;60;0\\r\\r\\n2015-02-17 00:02:30;2015-02-17 06:16:11;78%;6:13;:);Drank coffee:Drank tea:Worked out;65;0\\r\\r\\n2015-02-17 22:20:00;2015-02-18 05:05:23;70%;6:45;:);Drank coffee:Drank tea;55;0\\r\\r\\n2015-02-19 22:39:45;2015-02-20 06:20:14;77%;7:40;:);Drank coffee:Drank tea:Stressful day;66;0\\r\\r\\n2015-02-21 00:31:24;2015-02-21 07:32:22;72%;7:00;:);Drank coffee:Drank tea:Worked out;55;0\\r\\r\\n2015-02-21 22:54:00;2015-02-22 07:49:15;92%;8:55;:);Drank coffee:Drank tea;56;0\\r\\r\\n2015-02-22 22:18:00;2015-02-23 06:20:17;87%;8:02;:);Drank coffee;60;0\\r\\r\\n2015-02-24 22:30:11;2015-02-25 06:20:07;69%;7:49;:);Drank coffee:Drank tea;62;0\\r\\r\\n2015-02-26 01:22:32;2015-02-26 07:16:32;65%;5:54;:|;Drank coffee:Drank tea;;0\\r\\r\\n2015-02-26 21:42:32;2015-02-27 05:37:28;90%;7:54;:);Drank tea:Worked out;61;0\\r\\r\\n2015-03-01 20:14:26;2015-03-02 05:44:08;88%;9:29;:);Drank coffee;62;0\\r\\r\\n2015-03-03 21:47:16;2015-03-04 05:30:18;61%;7:43;:);Drank coffee:Drank tea:Worked out;62;0\\r\\r\\n2015-03-04 20:53:47;2015-03-05 06:13:31;54%;9:19;:);Drank coffee:Drank tea:Stressful day:Worked out;68;0\\r\\r\\n2015-03-05 22:29:33;2015-03-06 06:20:18;86%;7:50;:);Drank coffee:Drank tea;58;0\\r\\r\\n2015-03-08 22:54:58;2015-03-09 06:20:12;69%;7:25;:);Drank coffee;61;0\\r\\r\\n2015-03-09 21:28:08;2015-03-10 06:18:59;99%;8:50;:);Drank coffee:Drank tea;67;0\\r\\r\\n2015-03-10 22:17:17;2015-03-11 06:18:56;82%;8:01;:);Drank coffee:Drank tea;71;0\\r\\r\\n2015-03-11 21:39:44;2015-03-12 05:19:55;77%;7:40;:);Drank coffee:Drank tea;63;0\\r\\r\\n2015-03-12 21:44:36;2015-03-13 05:20:52;72%;7:36;:);Drank coffee:Drank tea:Worked out;60;0\\r\\r\\n2015-03-15 21:50:56;2015-03-16 04:51:22;82%;7:00;:);;62;0\\r\\r\\n2015-03-16 21:48:42;2015-03-17 05:21:34;75%;7:32;:);Drank coffee:Drank tea;54;0\\r\\r\\n2015-03-17 23:57:46;2015-03-18 08:01:27;91%;8:03;:);Drank coffee:Drank tea:Worked out;62;0\\r\\r\\n2015-03-21 01:10:15;2015-03-21 08:00:08;74%;6:49;:);Drank coffee;66;0\\r\\r\\n2015-03-22 23:07:46;2015-03-23 07:30:02;75%;8:22;:);Drank coffee:Drank tea;65;0\\r\\r\\n2015-03-24 22:11:07;2015-03-25 06:19:05;84%;8:07;:);Drank coffee;58;0\\r\\r\\n2015-03-25 22:00:06;2015-03-26 05:22:21;76%;7:22;:);Drank coffee:Drank tea:Worked out;;0\\r\\r\\n2015-03-26 21:23:43;2015-03-27 05:26:51;92%;8:03;:);Drank tea:Worked out;54;0\\r\\r\\n2015-03-30 22:30:48;2015-03-31 05:28:23;82%;6:57;:);Drank coffee:Worked out;64;0\\r\\r\\n2015-03-31 22:17:15;2015-04-01 05:50:10;84%;7:32;:);Drank coffee:Drank tea:Worked out;55;0\\r\\r\\n2015-04-04 23:13:30;2015-04-05 07:31:06;95%;8:17;:);Drank coffee:Drank tea;;0\\r\\r\\n2015-04-06 21:22:37;2015-04-07 06:15:41;79%;8:53;:);Drank coffee:Drank tea;55;0\\r\\r\\n2015-04-07 21:17:36;2015-04-08 06:18:55;100%;9:01;:);Drank tea;51;0\\r\\r\\n2015-04-08 22:09:38;2015-04-09 05:02:01;81%;6:52;:);Drank tea;52;0\\r\\r\\n2015-04-09 21:56:08;2015-04-10 05:23:08;80%;7:27;:);Drank coffee:Drank tea:Worked out;;0\\r\\r\\n2015-04-10 23:51:30;2015-04-11 07:41:42;85%;7:50;:);Drank tea:Worked out;;0\\r\\r\\n2015-04-11 23:16:56;2015-04-12 06:53:03;97%;7:36;:);Drank coffee:Drank tea;52;0\\r\\r\\n2015-04-12 22:04:59;2015-04-13 05:41:13;84%;7:36;:);Drank coffee:Drank tea;58;0\\r\\r\\n2015-04-13 22:19:39;2015-04-14 05:45:04;78%;7:25;:);Drank tea:Worked out;57;0\\r\\r\\n2015-04-15 00:28:55;2015-04-15 07:30:14;81%;7:01;:);Drank coffee:Drank tea:Worked out;63;0\\r\\r\\n2015-04-16 23:20:50;2015-04-17 06:20:07;82%;6:59;:);Drank coffee:Drank tea;58;0\\r\\r\\n2015-04-17 23:50:04;2015-04-18 07:22:19;59%;7:32;:);Drank coffee:Drank tea:Stressful day:Worked out;53;0\\r\\r\\n2015-04-20 22:37:59;2015-04-21 06:18:56;77%;7:40;:);Drank coffee:Drank tea;58;0\\r\\r\\n2015-04-22 21:31:35;2015-04-23 05:11:23;77%;7:39;:);Drank coffee:Drank tea:Stressful day;67;0\\r\\r\\n2015-04-23 21:46:46;2015-04-24 05:13:42;87%;7:26;:);Drank coffee:Drank tea:Stressful day:Worked out;;0\\r\\r\\n2015-04-25 22:53:27;2015-04-26 07:53:35;100%;9:00;:);Drank coffee:Drank tea;61;0\\r\\r\\n2015-04-26 21:51:16;2015-04-27 04:59:06;70%;7:07;:);Ate late:Drank coffee:Drank tea;64;0\\r\\r\\n2015-04-27 21:35:56;2015-04-28 04:57:17;77%;7:21;:);Drank tea:Worked out;59;0\\r\\r\\n2015-04-28 21:41:45;2015-04-29 05:00:17;53%;7:18;:);Drank coffee:Worked out;59;0\\r\\r\\n2015-04-30 23:13:44;2015-05-01 06:06:21;77%;6:52;:);Drank coffee:Drank tea:Stressful day;60;0\\r\\r\\n2015-05-01 22:20:45;2015-05-02 06:07:10;65%;7:46;:);Drank coffee:Worked out;91;0\\r\\r\\n2015-05-05 22:23:26;2015-05-06 06:18:20;83%;7:54;:);Drank coffee:Drank tea:Worked out;62;0\\r\\r\\n2015-05-06 21:47:25;2015-05-07 05:21:38;50%;7:34;:);Ate late:Drank coffee:Drank tea:Worked out;59;0\\r\\r\\n2015-05-07 21:22:59;2015-05-08 04:57:13;89%;7:34;:);Drank tea:Worked out;54;0\\r\\r\\n2015-05-09 01:58:47;2015-05-09 07:01:52;61%;5:03;:);Drank coffee:Drank tea:Stressful day:Worked out;75;0\\r\\r\\n2015-05-10 22:11:42;2015-05-11 05:00:10;66%;6:48;:);Drank coffee:Drank tea:Worked out;50;0\\r\\r\\n2015-05-11 21:57:02;2015-05-12 05:00:13;75%;7:03;:);Drank tea:Worked out;55;0\\r\\r\\n2015-05-12 22:04:51;2015-05-13 04:52:48;72%;6:47;:);Drank tea:Worked out;59;0\\r\\r\\n2015-05-14 22:49:01;2015-05-15 06:17:50;79%;7:28;:);Drank coffee:Drank tea;51;0\\r\\r\\n2015-05-17 21:03:11;2015-05-18 07:49:16;93%;10:46;:);Drank tea:Stressful day;59;0\\r\\r\\n2015-05-18 22:39:06;2015-05-19 06:20:30;91%;7:41;:);;59;0\\r\\r\\n2015-05-20 22:22:50;2015-05-21 05:25:20;59%;7:02;:);Drank tea:Worked out;62;0\\r\\r\\n2015-05-21 22:47:04;2015-05-22 05:25:14;74%;6:38;:);Drank coffee:Drank tea:Worked out;60;0\\r\\r\\n2015-05-24 00:01:49;2015-05-24 07:35:15;73%;7:33;:);Drank coffee:Worked out;;0\\r\\r\\n2015-05-24 22:58:17;2015-05-25 06:45:23;67%;7:47;:);Drank coffee:Drank tea;61;0\\r\\r\\n2015-05-25 22:05:49;2015-05-26 05:29:03;85%;7:23;:);Drank coffee:Drank tea;;0\\r\\r\\n2015-05-26 22:18:17;2015-05-27 05:14:36;69%;6:56;:);Drank coffee:Drank tea:Worked out;;0\\r\\r\\n2015-05-28 23:10:34;2015-05-29 07:00:03;81%;7:49;:);Drank coffee:Drank tea:Worked out;52;0\\r\\r\\n2015-05-31 23:16:56;2015-06-01 06:20:08;72%;7:03;:);Drank coffee;76;0\\r\\r\\n2015-06-01 22:20:07;2015-06-02 06:19:46;76%;7:59;:);Drank coffee:Drank tea:Worked out;57;0\\r\\r\\n2015-06-03 22:19:31;2015-06-04 05:20:25;78%;7:00;:);Drank coffee:Drank tea;64;0\\r\\r\\n2015-06-04 22:20:19;2015-06-05 03:45:30;70%;5:25;:(;Drank coffee:Drank tea:Worked out;;0\\r\\r\\n2015-06-05 03:45:52;2015-06-05 05:41:01;23%;1:55;:);;57;0\\r\\r\\n2015-06-07 22:01:10;2015-06-08 05:40:26;75%;7:39;:);Drank coffee;58;0\\r\\r\\n2015-06-08 21:57:12;2015-06-09 05:16:21;69%;7:19;:);Drank coffee:Drank tea:Worked out;;0\\r\\r\\n2015-06-09 21:07:02;2015-06-10 05:01:10;83%;7:54;:);Drank coffee:Drank tea:Worked out;;0\\r\\r\\n2015-06-10 21:12:48;2015-06-11 06:17:34;92%;9:04;:);Drank tea:Stressful day:Worked out;68;0\\r\\r\\n2015-06-11 22:54:00;2015-06-12 06:19:02;74%;7:25;:);Drank coffee:Worked out;;0\\r\\r\\n2015-06-14 22:38:25;2015-06-15 06:12:56;81%;7:34;:);Drank coffee:Drank tea;;0\\r\\r\\n2015-06-15 22:31:51;2015-06-16 06:20:20;88%;7:48;:);Drank coffee:Drank tea:Worked out;64;0\\r\\r\\n2015-06-16 22:21:15;2015-06-17 06:20:16;69%;7:59;:);Drank coffee:Drank tea:Stressful day:Worked out;;0\\r\\r\\n2015-06-17 21:28:17;2015-06-18 05:00:04;63%;7:31;:);Drank coffee;;0\\r\\r\\n2015-06-18 22:26:07;2015-06-19 04:46:50;71%;6:20;:);Drank coffee:Worked out;;0\\r\\r\\n2015-06-22 21:54:38;2015-06-23 05:07:41;78%;7:13;:);Drank coffee:Worked out;;0\\r\\r\\n2015-06-23 22:09:26;2015-06-24 04:57:46;76%;6:48;:);Drank coffee:Drank tea:Worked out;;0\\r\\r\\n2015-06-24 04:58:36;2015-06-24 05:45:00;10%;0:46;:);;;0\\r\\r\\n2015-06-24 22:37:23;2015-06-25 06:20:50;82%;7:43;:);Drank coffee:Stressful day:Worked out;58;0\\r\\r\\n2015-07-11 22:29:21;2015-07-12 08:00:42;98%;9:31;:);Drank coffee:Stressful day;69;0\\r\\r\\n2015-07-19 21:38:23;2015-07-20 06:09:35;69%;8:31;:);Drank coffee;74;0\\r\\r\\n2015-07-20 22:01:21;2015-07-21 05:04:47;68%;7:03;:);Drank coffee:Drank tea:Worked out;;0\\r\\r\\n2015-07-21 22:02:34;2015-07-22 05:45:33;79%;7:42;:);Drank coffee:Drank tea:Worked out;67;0\\r\\r\\n2015-07-23 22:29:37;2015-07-24 06:44:02;86%;8:14;:);Drank coffee:Stressful day:Worked out;;0\\r\\r\\n2015-07-26 22:29:51;2015-07-27 06:20:13;93%;7:50;:);Drank coffee:Worked out;58;0\\r\\r\\n2015-07-28 21:32:08;2015-07-29 05:39:59;68%;8:07;:);Drank coffee:Drank tea:Stressful day:Worked out;58;0\\r\\r\\n2015-07-29 23:06:06;2015-07-30 05:40:14;71%;6:34;:);Drank coffee:Drank tea:Worked out;61;0\\r\\r\\n2015-07-30 21:40:08;2015-07-31 05:40:15;88%;8:00;:);Drank coffee:Worked out;64;0\\r\\r\\n2015-08-01 01:41:20;2015-08-01 08:31:02;77%;6:49;:);Drank coffee:Drank tea:Worked out;64;0\\r\\r\\n2015-08-01 22:55:10;2015-08-02 08:02:09;97%;9:06;:);Drank coffee:Worked out;;0\\r\\r\\n2015-08-02 23:45:43;2015-08-03 00:00:48;3%;0:15;:|;Drank coffee:Worked out;;0\\r\\r\\n2015-08-03 00:26:02;2015-08-03 07:25:42;88%;6:59;:);Drank coffee:Worked out;68;0\\r\\r\\n2015-08-03 21:46:15;2015-08-04 05:00:34;71%;7:14;:);Drank coffee:Stressful day:Worked out;;0\\r\\r\\n2015-08-04 21:17:10;2015-08-05 04:55:48;81%;7:38;:);Drank coffee:Drank tea:Worked out;;0\\r\\r\\n2015-08-05 21:35:13;2015-08-06 04:55:01;78%;7:19;:);Drank coffee:Drank tea:Worked out;57;0\\r\\r\\n2015-08-08 00:19:09;2015-08-08 07:56:38;97%;7:37;:);Drank coffee:Worked out;54;0\\r\\r\\n2015-08-10 00:01:12;2015-08-10 05:03:22;65%;5:02;:);Drank coffee;;0\\r\\r\\n2015-08-10 21:11:19;2015-08-11 06:09:21;72%;8:58;:);Drank coffee:Drank tea:Worked out;50;0\\r\\r\\n2015-08-15 23:41:21;2015-08-16 07:27:56;84%;7:46;:);Drank coffee;;0\\r\\r\\n2015-08-16 21:44:20;2015-08-17 04:45:16;58%;7:00;:);Drank coffee;56;0\\r\\r\\n2015-08-17 22:13:05;2015-08-18 05:27:25;85%;7:14;:);Drank coffee:Drank tea:Worked out;;0\\r\\r\\n2015-08-18 22:33:21;2015-08-19 06:45:33;90%;8:12;:);Drank coffee:Drank tea:Worked out;57;0\\r\\r\\n2015-08-19 21:48:50;2015-08-20 06:01:07;79%;8:12;:);Drank coffee:Worked out;51;0\\r\\r\\n2015-08-20 22:36:23;2015-08-21 06:00:11;69%;7:23;:);Drank coffee;58;0\\r\\r\\n2015-08-21 21:52:41;2015-08-22 06:00:13;88%;8:07;:);Drank coffee:Stressful day;;0\\r\\r\\n2015-08-22 21:59:47;2015-08-23 05:49:06;90%;7:49;:);Drank coffee;52;0\\r\\r\\n2015-08-23 21:59:05;2015-08-24 05:29:52;83%;7:30;:);Ate late:Drank coffee:Drank tea;52;0\\r\\r\\n2015-08-25 21:57:25;2015-08-26 05:45:28;67%;7:48;:);Drank coffee;;0\\r\\r\\n2015-08-26 21:14:31;2015-08-27 05:45:18;90%;8:30;:);Drank coffee:Stressful day;;0\\r\\r\\n2015-08-27 21:19:00;2015-08-28 05:45:10;93%;8:26;:|;;60;0\\r\\r\\n2015-08-28 22:01:03;2015-08-29 06:00:39;85%;7:59;:);Drank coffee:Drank tea;62;0\\r\\r\\n2015-08-30 22:00:05;2015-08-31 06:00:18;84%;8:00;:);Drank coffee;66;0\\r\\r\\n2015-08-31 22:14:35;2015-09-01 06:00:59;77%;7:46;:);Drank coffee;;0\\r\\r\\n2015-09-01 22:00:12;2015-09-02 06:00:07;85%;7:59;:);Drank tea;65;0\\r\\r\\n2015-09-02 23:36:43;2015-09-03 07:10:29;77%;7:33;:);Drank coffee;57;0\\r\\r\\n2015-09-05 22:54:41;2015-09-06 06:59:15;87%;8:04;:);Drank coffee;;0\\r\\r\\n2015-09-07 22:45:57;2015-09-08 06:13:08;84%;7:27;:);Drank coffee:Drank tea;61;0\\r\\r\\n2015-09-08 22:03:28;2015-09-09 06:04:55;86%;8:01;:);Drank tea:Worked out;;0\\r\\r\\n2015-09-09 22:40:40;2015-09-10 06:10:24;83%;7:29;:);Drank coffee:Drank tea:Worked out;;0\\r\\r\\n2015-09-10 22:10:47;2015-09-11 04:57:40;77%;6:46;:);Drank coffee:Drank tea:Worked out;;0\\r\\r\\n2015-09-12 00:06:20;2015-09-12 07:41:35;81%;7:35;:);Drank coffee:Worked out;;0\\r\\r\\n2015-09-13 22:03:28;2015-09-14 05:50:31;81%;7:47;:);Drank coffee;;0\\r\\r\\n2015-09-14 22:33:49;2015-09-15 06:30:22;83%;7:56;:);Drank coffee:Stressful day:Worked out;;0\\r\\r\\n2015-09-15 22:14:42;2015-09-16 05:55:16;70%;7:40;:);Drank coffee:Worked out;;0\\r\\r\\n2015-09-16 21:59:14;2015-09-17 06:20:08;80%;8:20;:);Drank coffee:Drank tea:Worked out;59;0\\r\\r\\n2015-09-17 22:57:35;2015-09-18 06:20:12;60%;7:22;:);Drank coffee:Drank tea:Worked out;56;0\\r\\r\\n2015-09-19 00:31:33;2015-09-19 06:55:11;55%;6:23;:);Drank coffee;;0\\r\\r\\n2015-09-19 22:01:37;2015-09-20 06:48:52;91%;8:47;:);Drank coffee;;0\\r\\r\\n2015-09-20 22:07:26;2015-09-21 06:15:54;79%;8:08;:);Drank coffee:Drank tea:Worked out;55;0\\r\\r\\n2015-09-22 21:34:08;2015-09-23 06:15:39;81%;8:41;:);Drank coffee:Drank tea:Worked out;58;0\\r\\r\\n2015-09-23 21:37:35;2015-09-24 05:07:03;77%;7:29;:);Drank coffee:Drank tea:Worked out;49;0\\r\\r\\n2015-09-24 22:37:41;2015-09-25 06:00:13;83%;7:22;:);Ate late:Drank coffee:Drank tea:Worked out;;0\\r\\r\\n2015-09-27 22:57:29;2015-09-28 07:00:25;82%;8:02;:);Drank tea;61;0\\r\\r\\n2015-09-28 21:12:50;2015-09-29 05:15:43;90%;8:02;:);Drank tea:Worked out;60;0\\r\\r\\n2015-09-29 22:54:50;2015-09-30 06:20:27;89%;7:25;:);Ate late:Drank coffee:Drank tea:Worked out;58;0\\r\\r\\n2015-09-30 23:57:47;2015-10-01 06:14:26;62%;6:16;:);Drank coffee:Drank tea:Worked out;55;0\\r\\r\\n2015-10-03 00:09:08;2015-10-03 07:26:26;69%;7:17;:);Drank coffee:Worked out;57;0\\r\\r\\n2015-10-11 00:27:25;2015-10-11 08:58:25;100%;8:31;:);Drank coffee:Stressful day;50;0\\r\\r\\n2015-10-12 21:59:10;2015-10-13 06:00:45;74%;8:01;:);Ate late:Drank coffee:Drank tea:Worked out;;0\\r\\r\\n2015-10-13 22:19:10;2015-10-14 04:59:56;59%;6:40;:);Drank coffee:Worked out;;0\\r\\r\\n2015-10-14 05:00:29;2015-10-14 06:00:39;13%;1:00;:);;;0\\r\\r\\n2015-10-14 22:40:34;2015-10-15 06:20:36;68%;7:40;:);Drank tea:Worked out;65;0\\r\\r\\n2015-10-15 22:12:48;2015-10-16 06:21:06;67%;8:08;:);Drank coffee:Drank tea:Worked out;58;0\\r\\r\\n2015-10-17 00:45:53;2015-10-17 07:37:31;57%;6:51;:);Drank coffee:Drank tea;;0\\r\\r\\n2015-10-18 21:52:46;2015-10-19 06:20:17;67%;8:27;:|;Drank coffee;;0\\r\\r\\n2015-10-20 21:38:02;2015-10-21 06:20:20;88%;8:42;:|;Drank coffee:Drank tea;62;0\\r\\r\\n2015-10-21 22:41:23;2015-10-22 06:20:28;77%;7:39;:);Drank coffee:Drank tea;53;0\\r\\r\\n2015-10-22 21:46:35;2015-10-23 05:30:45;80%;7:44;:);Drank coffee:Drank tea:Worked out;70;0\\r\\r\\n2015-10-24 00:32:20;2015-10-24 08:12:45;77%;7:40;:);Drank coffee:Drank tea:Worked out;;0\\r\\r\\n2015-10-24 22:38:13;2015-10-25 06:33:35;81%;7:55;:);Drank coffee:Drank tea;;0\\r\\r\\n2015-10-26 23:09:15;2015-10-27 06:05:04;77%;6:55;:);Drank coffee:Drank tea;65;0\\r\\r\\n2015-10-27 21:34:17;2015-10-28 05:35:51;78%;8:01;:|;Drank coffee:Worked out;;0\\r\\r\\n2015-10-28 22:28:47;2015-10-29 06:20:36;83%;7:51;:|;Drank tea:Worked out;53;0\\r\\r\\n2015-10-29 22:30:45;2015-10-30 06:10:51;81%;7:40;:|;Drank tea:Worked out;57;0\\r\\r\\n2015-10-31 01:01:48;2015-10-31 07:50:17;50%;6:48;:);Drank coffee:Drank tea;;0\\r\\r\\n2015-11-02 22:00:53;2015-11-03 06:10:32;83%;8:09;:|;Drank coffee:Drank tea:Worked out;55;0\\r\\r\\n2015-11-03 22:46:00;2015-11-04 06:09:53;75%;7:23;:|;Drank coffee:Drank tea:Worked out;;0\\r\\r\\n2015-11-04 22:49:17;2015-11-05 06:00:43;65%;7:11;:|;Drank coffee:Drank tea:Worked out;;0\\r\\r\\n2015-11-05 21:36:52;2015-11-06 05:29:48;77%;7:52;:|;Drank coffee:Drank tea:Worked out;;0\\r\\r\\n2015-11-07 00:19:42;2015-11-07 08:13:55;93%;7:54;:);Drank coffee:Drank tea:Worked out;98;0\\r\\r\\n2015-11-08 23:28:38;2015-11-09 06:20:45;69%;6:52;:);Drank coffee:Drank tea;;0\\r\\r\\n2015-11-09 21:59:54;2015-11-10 05:41:00;88%;7:41;:);Drank coffee:Drank tea:Worked out;;0\\r\\r\\n2015-11-10 22:56:22;2015-11-11 06:28:43;83%;7:32;:);Drank coffee:Drank tea:Worked out;;0\\r\\r\\n2015-11-11 22:57:35;2015-11-12 06:20:38;72%;7:23;:);Drank coffee:Drank tea;;0\\r\\r\\n2015-11-13 22:59:58;2015-11-14 07:46:48;96%;8:46;:);Drank coffee:Drank tea;59;0\\r\\r\\n2015-11-15 22:17:12;2015-11-16 06:30:48;72%;8:13;:);Drank coffee:Drank tea;62;0\\r\\r\\n2015-11-18 22:07:28;2015-11-19 05:30:48;80%;7:23;:);Ate late:Drank coffee:Drank tea:Worked out;63;0\\r\\r\\n2015-11-19 23:10:23;2015-11-20 06:00:42;73%;6:50;:);Drank coffee:Drank tea:Worked out;62;0\\r\\r\\n2015-11-22 21:57:39;2015-11-23 05:30:46;83%;7:33;:);Drank tea;;0\\r\\r\\n2015-11-23 22:15:24;2015-11-24 05:00:10;74%;6:44;:);Drank coffee:Drank tea:Worked out;;0\\r\\r\\n2015-11-24 22:33:40;2015-11-25 06:30:54;87%;7:57;:);Drank coffee:Drank tea:Worked out;;0\\r\\r\\n2015-11-25 23:26:02;2015-11-26 06:20:47;69%;6:54;:);Drank coffee:Drank tea:Worked out;;0\\r\\r\\n2015-11-26 22:25:29;2015-11-27 06:20:36;81%;7:55;:);Drank coffee:Drank tea:Worked out;;0\\r\\r\\n2015-11-28 01:20:50;2015-11-28 07:46:30;58%;6:25;:);Drank coffee:Drank tea:Worked out;59;0\\r\\r\\n2015-11-29 22:20:20;2015-11-30 06:20:11;68%;7:59;:);Drank tea;;0\\r\\r\\n2015-11-30 21:23:47;2015-12-01 06:19:46;64%;8:55;:);Drank coffee:Drank tea:Worked out;;0\\r\\r\\n2015-12-01 23:03:32;2015-12-02 06:20:45;84%;7:17;:);Drank coffee:Drank tea:Worked out;57;0\\r\\r\\n2015-12-02 22:19:31;2015-12-03 05:11:26;75%;6:51;:);Drank coffee:Drank tea;;0\\r\\r\\n2015-12-03 22:51:20;2015-12-04 05:01:02;70%;6:09;:);Ate late:Drank coffee:Drank tea;;0\\r\\r\\n2015-12-06 22:10:17;2015-12-07 05:31:02;86%;7:20;:);Drank coffee:Drank tea;68;0\\r\\r\\n2015-12-07 21:20:30;2015-12-08 05:00:36;86%;7:40;:);Drank tea:Stressful day:Worked out;61;0\\r\\r\\n2015-12-08 22:17:33;2015-12-09 05:45:41;79%;7:28;:);Drank coffee:Drank tea:Stressful day:Worked out;;0\\r\\r\\n2015-12-09 21:57:33;2015-12-10 06:10:41;93%;8:13;:);Drank tea:Stressful day:Worked out;67;0\\r\\r\\n2015-12-13 00:08:26;2015-12-13 08:23:03;77%;8:14;:);Drank coffee;;0\\r\\r\\n2015-12-13 22:07:01;2015-12-14 06:09:53;80%;8:02;:);Drank coffee;52;0\\r\\r\\n2015-12-15 22:32:48;2015-12-16 06:10:41;75%;7:37;:);Drank coffee:Drank tea:Worked out;;0\\r\\r\\n2015-12-16 22:20:47;2015-12-17 05:40:53;84%;7:20;:);Drank coffee:Drank tea:Stressful day;;0\\r\\r\\n2015-12-17 21:07:49;2015-12-18 05:45:44;100%;8:37;:);Drank coffee:Drank tea:Worked out;;0\\r\\r\\n2015-12-20 22:19:20;2015-12-21 06:20:02;72%;8:00;:|;Drank coffee:Drank tea:Worked out;56;0\\r\\r\\n2015-12-21 22:06:14;2015-12-22 05:29:49;80%;7:23;:|;Drank coffee:Worked out;;0\\r\\r\\n2015-12-22 21:41:31;2015-12-23 05:43:31;82%;8:01;:);Drank coffee:Drank tea:Worked out;;0\\r\\r\\n2015-12-23 22:33:13;2015-12-24 06:01:00;79%;7:27;:);Drank coffee:Drank tea;;0\\r\\r\\n2015-12-29 22:44:12;2015-12-30 07:00:31;76%;8:16;:|;Drank coffee;;0\\r\\r\\n2016-01-01 23:53:45;2016-01-02 08:27:19;79%;8:33;:|;Drank coffee:Drank tea;71;0\\r\\r\\n2016-01-02 23:49:43;2016-01-03 08:13:49;85%;8:24;:);Drank coffee:Drank tea;65;0\\r\\r\\n2016-01-03 21:44:08;2016-01-04 05:35:23;69%;7:51;:);Drank coffee;;0\\r\\r\\n2016-01-04 22:17:03;2016-01-05 05:45:29;74%;7:28;:|;Drank coffee:Drank tea:Stressful day;;0\\r\\r\\n2016-01-05 22:18:45;2016-01-06 06:20:45;66%;8:01;:|;Drank coffee:Worked out;;0\\r\\r\\n2016-01-13 22:44:29;2016-01-14 06:20:25;72%;7:35;:|;Ate late:Drank coffee:Drank tea:Stressful day;;0\\r\\r\\n2016-01-14 22:10:58;2016-01-15 05:28:34;73%;7:17;:|;Drank coffee:Drank tea:Worked out;;0\\r\\r\\n2016-01-17 22:00:46;2016-01-18 05:30:32;76%;7:29;:|;Drank coffee:Drank tea:Worked out;;0\\r\\r\\n2016-01-18 21:56:26;2016-01-19 05:34:59;78%;7:38;;Ate late:Drank coffee:Drank tea;;0\\r\\r\\n2016-01-19 22:46:50;2016-01-20 06:35:37;75%;7:48;;Drank coffee:Drank tea:Worked out;;0\\r\\r\\n2016-01-20 21:13:40;2016-01-21 06:29:37;77%;9:15;;Drank coffee:Drank tea;;0\\r\\r\\n2016-01-21 21:33:27;2016-01-22 06:23:55;79%;8:50;;Drank coffee;;0\\r\\r\\n2016-01-22 22:17:12;2016-01-23 08:14:54;79%;9:57;;Drank coffee:Worked out;;0\\r\\r\\n2016-01-24 22:06:59;2016-01-25 06:30:14;85%;8:23;;Drank coffee:Drank tea:Worked out;;0\\r\\r\\n2016-01-25 22:27:55;2016-01-26 06:38:49;88%;8:10;;Drank coffee;;0\\r\\r\\n2016-01-26 22:58:16;2016-01-27 06:28:13;83%;7:29;;Drank coffee:Drank tea:Worked out;;0\\r\\r\\n2016-01-27 22:02:27;2016-01-28 05:23:02;84%;7:20;;Drank coffee:Drank tea:Worked out;;0\\r\\r\\n2016-01-28 22:11:17;2016-01-29 05:26:31;76%;7:15;;Drank coffee:Drank tea:Worked out;;0\\r\\r\\n2016-01-29 21:47:34;2016-01-30 06:06:40;88%;8:19;;Drank coffee:Drank tea:Worked out;;0\\r\\r\\n2016-01-31 22:58:22;2016-02-01 06:19:07;78%;7:20;;Drank coffee;;0\\r\\r\\n2016-02-01 22:02:40;2016-02-02 05:27:42;82%;7:25;;Drank coffee:Drank tea:Worked out;;0\\r\\r\\n2016-02-02 21:47:43;2016-02-03 05:20:45;72%;7:33;;Drank coffee:Worked out;;0\\r\\r\\n2016-02-03 22:54:38;2016-02-04 06:20:45;79%;7:26;;Drank coffee:Worked out;;0\\r\\r\\n2016-02-04 22:17:56;2016-02-05 06:53:46;74%;8:35;;Drank coffee:Stressful day:Worked out;;0\\r\\r\\n2016-02-05 23:45:36;2016-02-06 07:35:42;84%;7:50;;Drank coffee;;0\\r\\r\\n2016-02-06 22:55:30;2016-02-07 07:35:48;91%;8:40;;Drank tea;;0\\r\\r\\n2016-02-08 00:44:15;2016-02-08 07:45:22;68%;7:01;;Drank coffee:Drank tea;;0\\r\\r\\n2016-02-08 22:43:49;2016-02-09 06:40:40;77%;7:56;;Drank coffee:Drank tea:Worked out;;0\\r\\r\\n2016-02-09 21:57:50;2016-02-10 05:31:30;66%;7:33;;Drank coffee:Worked out;;0\\r\\r\\n2016-02-13 23:41:34;2016-02-14 05:11:40;38%;5:30;;Drank coffee;;0\\r\\r\\n2016-02-14 22:07:58;2016-02-15 05:53:25;84%;7:45;;Drank coffee:Stressful day;;0\\r\\r\\n2016-02-15 22:07:07;2016-02-16 05:25:39;76%;7:18;;Drank coffee:Worked out;;0\\r\\r\\n2016-02-16 22:20:30;2016-02-17 05:32:48;70%;7:12;;Drank coffee:Worked out;;0\\r\\r\\n2016-02-17 21:33:26;2016-02-18 06:24:29;90%;8:51;;Drank coffee:Stressful day:Worked out;;0\\r\\r\\n2016-02-18 22:47:46;2016-02-19 06:26:50;77%;7:39;;Drank coffee:Drank tea:Worked out;;0\\r\\r\\n2016-02-20 23:12:47;2016-02-21 07:41:40;69%;8:28;;Drank coffee;;0\\r\\r\\n2016-02-22 22:04:12;2016-02-23 06:23:53;85%;8:19;;Drank coffee;;0\\r\\r\\n2016-02-23 22:18:26;2016-02-24 06:25:24;94%;8:06;;Drank coffee:Worked out;;0\\r\\r\\n2016-02-24 21:59:00;2016-02-25 05:43:33;88%;7:44;;Drank tea:Worked out;;0\\r\\r\\n2016-02-26 00:15:25;2016-02-26 06:35:57;68%;6:20;;Drank tea:Worked out;;0\\r\\r\\n2016-02-27 23:33:23;2016-02-28 07:50:56;92%;8:17;;Drank coffee;;0\\r\\r\\n2016-02-28 22:19:47;2016-02-29 05:45:34;64%;7:25;;Drank tea;;0\\r\\r\\n2016-02-29 21:55:44;2016-03-01 06:22:29;78%;8:26;;Drank tea:Worked out;;0\\r\\r\\n2016-03-01 23:22:16;2016-03-02 05:50:28;70%;6:28;;Drank tea:Worked out;;0\\r\\r\\n2016-03-02 22:15:14;2016-03-03 06:21:26;95%;8:06;;Drank coffee:Drank tea:Worked out;;0\\r\\r\\n2016-03-03 22:01:33;2016-03-04 06:17:35;90%;8:16;;Drank tea:Worked out;;0\\r\\r\\n2016-03-05 23:20:01;2016-03-06 07:31:36;98%;8:11;;Drank tea;;0\\r\\r\\n2016-03-06 23:08:20;2016-03-07 06:19:25;70%;7:11;;Drank coffee:Drank tea;;0\\r\\r\\n2016-03-07 22:50:22;2016-03-08 06:22:58;75%;7:32;;Drank tea:Worked out;;0\\r\\r\\n2016-03-08 21:40:38;2016-03-09 06:25:07;91%;8:44;;Drank tea:Worked out;;0\\r\\r\\n2016-03-09 22:40:25;2016-03-10 05:49:39;79%;7:09;;Drank tea;;0\\r\\r\\n2016-03-10 21:35:17;2016-03-11 05:34:15;92%;7:58;;Drank tea:Worked out;;0\\r\\r\\n2016-03-12 01:33:16;2016-03-12 07:50:21;69%;6:17;;Drank coffee:Worked out;;0\\r\\r\\n2016-03-12 23:44:03;2016-03-13 07:51:57;83%;7:07;;Drank tea;;0\\r\\r\\n2016-03-13 22:47:36;2016-03-14 05:40:43;82%;6:53;;Drank tea:Worked out;;0\\r\\r\\n2016-03-14 22:16:43;2016-03-15 05:46:07;79%;7:29;;Drank tea:Worked out;;0\\r\\r\\n2016-03-15 22:41:40;2016-03-16 06:25:27;85%;7:43;;Drank coffee:Drank tea:Worked out;;0\\r\\r\\n2016-03-16 22:25:40;2016-03-17 07:05:26;90%;8:39;;Drank coffee:Worked out;;0\\r\\r\\n2016-03-17 22:46:35;2016-03-18 07:08:48;98%;8:22;;Drank coffee:Drank tea;;0\\r\\r\\n2016-03-18 22:17:45;2016-03-19 07:47:51;87%;9:30;;Drank coffee;;0\\r\\r\\n2016-03-20 22:13:36;2016-03-21 07:26:59;80%;9:13;;Drank coffee;;0\\r\\r\\n2016-03-21 22:37:03;2016-03-22 07:32:00;80%;8:54;;Drank coffee;;0\\r\\r\\n2016-03-22 21:22:46;2016-03-23 06:19:17;80%;8:56;;Drank coffee:Drank tea;;0\\r\\r\\n2016-03-23 22:06:49;2016-03-24 05:20:29;65%;7:13;;Drank coffee:Drank tea:Worked out;;0\\r\\r\\n2016-03-27 23:28:20;2016-03-28 07:30:07;82%;8:01;;Drank coffee;;0\\r\\r\\n2016-03-28 23:32:44;2016-03-29 06:29:15;75%;6:56;;Drank coffee:Stressful day:Worked out;;0\\r\\r\\n2016-03-29 23:12:02;2016-03-30 06:25:49;66%;7:13;;Drank coffee:Worked out;;0\\r\\r\\n2016-03-30 22:58:49;2016-03-31 06:25:21;58%;7:26;;Drank coffee:Drank tea:Worked out;;0\\r\\r\\n2016-03-31 22:47:19;2016-04-01 06:30:09;89%;7:42;;Drank coffee:Drank tea:Worked out;;0\\r\\r\\n2016-04-02 21:20:49;2016-04-03 07:08:13;86%;9:47;;Drank coffee;;0\\r\\r\\n2016-04-03 21:44:29;2016-04-04 06:24:00;67%;8:39;;Drank coffee;;0\\r\\r\\n2016-04-04 21:23:59;2016-04-05 06:29:22;62%;9:05;;Drank coffee;;0\\r\\r\\n2016-04-05 21:13:24;2016-04-06 06:24:45;81%;9:11;;Drank coffee:Worked out;;0\\r\\r\\n2016-04-06 23:00:14;2016-04-07 05:55:41;73%;6:55;;Drank coffee:Drank tea:Worked out;;0\\r\\r\\n2016-04-07 21:48:56;2016-04-08 05:49:06;81%;8:00;;Ate late:Drank coffee:Drank tea:Worked out;;0\\r\\r\\n2016-04-09 00:51:24;2016-04-09 07:21:57;53%;6:30;;Drank coffee:Drank tea:Worked out;;0\\r\\r\\n2016-04-09 22:59:45;2016-04-10 07:59:49;94%;9:00;;Drank coffee:Drank tea:Worked out;;0\\r\\r\\n2016-04-10 22:04:13;2016-04-11 05:16:33;67%;7:12;;Drank tea;;0\\r\\r\\n2016-04-11 22:35:10;2016-04-12 05:54:20;82%;7:19;;Drank coffee:Drank tea:Stressful day:Worked out;;0\\r\\r\\n2016-04-12 22:18:30;2016-04-13 05:52:27;85%;7:33;;Drank coffee:Drank tea:Worked out;;0\\r\\r\\n2016-04-13 22:27:46;2016-04-14 06:13:03;77%;7:45;;Drank coffee:Drank tea:Worked out;;0\\r\\r\\n2016-04-14 21:43:30;2016-04-15 06:24:30;94%;8:41;;Drank coffee:Drank tea:Stressful day:Worked out;;0\\r\\r\\n2016-04-15 22:38:27;2016-04-16 07:25:56;81%;8:47;;Drank coffee:Drank tea;;0\\r\\r\\n2016-04-17 21:34:35;2016-04-18 06:26:45;75%;8:52;;Drank coffee:Drank tea;;0\\r\\r\\n2016-04-19 21:21:02;2016-04-20 06:20:19;79%;8:59;;Drank coffee:Drank tea:Worked out;;0\\r\\r\\n2016-04-20 21:25:56;2016-04-21 05:35:24;81%;8:09;;Ate late:Drank coffee:Drank tea:Worked out;;0\\r\\r\\n2016-04-21 21:54:28;2016-04-22 05:35:27;79%;7:40;;;;0\\r\\r\\n2016-04-22 05:37:46;2016-04-22 06:20:18;9%;0:42;;;;0\\r\\r\\n2016-04-23 00:46:44;2016-04-23 07:54:03;65%;7:07;;Drank coffee:Drank tea:Worked out;;0\\r\\r\\n2016-04-24 22:30:35;2016-04-25 06:14:30;81%;7:43;;Drank tea;;0\\r\\r\\n2016-04-25 22:07:57;2016-04-26 05:39:43;87%;7:31;;Ate late:Drank coffee:Drank tea:Worked out;;0\\r\\r\\n2016-04-26 22:48:24;2016-04-27 06:20:28;74%;7:32;;Drank coffee:Drank tea:Worked out;;0\\r\\r\\n2016-04-27 22:24:10;2016-04-28 06:25:23;92%;8:01;;Drank coffee:Drank tea:Worked out;;0\\r\\r\\n2016-04-28 22:23:37;2016-04-29 06:17:32;95%;7:53;;Drank coffee:Drank tea:Worked out;;0\\r\\r\\n2016-04-29 22:47:32;2016-04-30 05:57:05;81%;7:09;;Drank coffee:Drank tea:Worked out;;0\\r\\r\\n2016-05-01 21:27:20;2016-05-02 06:15:12;95%;8:47;;Drank coffee:Worked out;;0\\r\\r\\n2016-05-02 21:50:53;2016-05-03 06:20:17;85%;8:29;;Drank coffee:Worked out;;0\\r\\r\\n2016-05-03 22:19:12;2016-05-04 06:20:18;79%;8:01;;Drank coffee:Worked out;;0\\r\\r\\n2016-05-04 22:16:31;2016-05-05 06:30:20;83%;8:13;;Drank coffee:Drank tea:Worked out;;0\\r\\r\\n2016-05-05 22:20:43;2016-05-06 06:15:04;89%;7:54;;Ate late:Drank coffee;;0\\r\\r\\n2016-05-06 23:07:56;2016-05-07 07:08:11;87%;8:00;;Drank coffee:Drank tea:Stressful day:Worked out;;0\\r\\r\\n2016-05-07 23:20:36;2016-05-08 07:12:34;93%;7:51;;Drank coffee:Drank tea;;0\\r\\r\\n2016-05-08 23:44:12;2016-05-09 06:20:24;74%;6:36;;Drank coffee:Drank tea;;0\\r\\r\\n2016-05-09 22:10:46;2016-05-10 05:41:35;83%;7:30;;Drank coffee:Drank tea:Worked out;;0\\r\\r\\n2016-05-10 23:10:06;2016-05-11 05:30:21;74%;6:20;;Drank coffee:Drank tea:Worked out;;0\\r\\r\\n2016-05-11 22:43:49;2016-05-12 06:25:26;80%;7:41;;Drank coffee:Drank tea:Worked out;;0\\r\\r\\n2016-05-12 23:50:20;2016-05-13 06:50:20;83%;6:59;;Drank coffee:Drank tea:Worked out;;0\\r\\r\\n2016-05-13 23:08:55;2016-05-14 07:53:57;100%;8:45;;Drank coffee:Drank tea:Worked out;;0\\r\\r\\n2016-05-15 21:34:13;2016-05-16 06:07:30;81%;8:33;;Drank tea;;0\\r\\r\\n2016-05-16 21:34:47;2016-05-17 06:15:18;85%;8:40;;Drank coffee:Worked out;;0\\r\\r\\n2016-05-17 20:53:27;2016-05-18 06:10:18;83%;9:16;;Drank coffee:Worked out;;0\\r\\r\\n2016-05-18 22:26:07;2016-05-19 05:40:26;79%;7:14;;Drank coffee:Stressful day;;0\\r\\r\\n2016-05-20 00:00:10;2016-05-20 06:30:16;76%;6:30;;Drank coffee:Worked out;;0\\r\\r\\n2016-05-20 23:14:26;2016-05-21 07:34:07;91%;8:19;;Drank coffee:Worked out;;0\\r\\r\\n2016-05-23 22:34:58;2016-05-24 05:30:18;75%;6:55;;Drank coffee;;0\\r\\r\\n2016-05-24 22:00:00;2016-05-25 05:35:16;90%;7:35;;Drank coffee:Worked out;;0\\r\\r\\n2016-05-25 22:21:34;2016-05-26 06:31:01;88%;8:09;;Drank coffee:Worked out;;0\\r\\r\\n2016-05-26 22:08:30;2016-05-27 06:19:54;89%;8:11;;Drank coffee:Worked out;;0\\r\\r\\n2016-05-28 00:19:46;2016-05-28 07:15:58;72%;6:56;;Drank coffee:Worked out;;0\\r\\r\\n2016-05-29 22:04:35;2016-05-30 06:40:37;100%;8:36;;Drank coffee;;0\\r\\r\\n2016-05-30 22:07:42;2016-05-31 06:08:04;72%;8:00;;Drank coffee:Stressful day;;0\\r\\r\\n2016-05-31 23:02:52;2016-06-01 06:31:44;70%;7:28;;Drank coffee:Worked out;;0\\r\\r\\n2016-06-01 23:01:17;2016-06-02 05:48:05;67%;6:46;;Drank coffee:Worked out;;0\\r\\r\\n2016-06-02 22:51:43;2016-06-03 05:31:02;65%;6:39;;Drank coffee:Worked out;;0\\r\\r\\n2016-06-05 22:33:14;2016-06-06 05:51:51;71%;7:18;;Worked out;;0\\r\\r\\n2016-06-06 23:26:26;2016-06-07 05:31:41;70%;6:05;;Drank coffee:Worked out;;0\\r\\r\\n2016-06-07 22:32:35;2016-06-08 05:32:33;77%;6:59;;Drank coffee:Worked out;;0\\r\\r\\n2016-06-08 21:56:14;2016-06-09 06:16:18;76%;8:20;;Drank coffee:Worked out;;0\\r\\r\\n2016-06-09 22:07:31;2016-06-10 06:35:29;87%;8:27;;Ate late:Drank coffee:Worked out;;0\\r\\r\\n2016-06-11 22:42:30;2016-06-12 08:41:24;93%;9:58;;Drank tea;;0\\r\\r\\n2016-06-12 22:52:30;2016-06-13 06:32:02;77%;7:39;;Drank tea;;0\\r\\r\\n2016-06-13 22:03:24;2016-06-14 06:26:09;82%;8:22;;Drank tea:Worked out;;0\\r\\r\\n2016-06-14 22:32:22;2016-06-15 06:30:23;68%;7:58;;Drank coffee:Drank tea;;0\\r\\r\\n2016-06-16 00:46:59;2016-06-16 06:25:12;64%;5:38;;Drank coffee:Drank tea:Worked out;;0\\r\\r\\n2016-06-16 22:06:06;2016-06-17 06:01:02;83%;7:54;;Drank coffee:Drank tea:Worked out;;0\\r\\r\\n2016-06-17 23:28:36;2016-06-18 07:23:00;79%;7:54;;Drank coffee:Drank tea:Worked out;;0\\r\\r\\n2016-06-19 23:00:43;2016-06-20 06:00:38;74%;6:59;;Drank coffee;;0\\r\\r\\n2016-06-20 22:34:58;2016-06-21 05:50:46;83%;7:15;;Drank coffee:Worked out;;0\\r\\r\\n2016-06-21 22:11:24;2016-06-22 05:40:37;83%;7:29;;Drank coffee:Worked out;;0\\r\\r\\n2016-06-22 22:41:04;2016-06-23 06:22:44;82%;7:41;;Drank coffee:Worked out;;0\\r\\r\\n2016-06-23 22:32:02;2016-06-24 06:32:15;86%;8:00;;Drank coffee:Worked out;;0\\r\\r\\n2016-06-26 22:16:19;2016-06-27 06:30:30;64%;8:14;;Drank coffee;;0\\r\\r\\n2016-06-27 23:48:29;2016-06-28 06:47:24;62%;6:58;;Drank coffee:Stressful day:Worked out;;0\\r\\r\\n2016-06-28 23:10:25;2016-06-29 06:35:27;77%;7:25;;Drank coffee:Worked out;;0\\r\\r\\n2016-06-29 22:32:29;2016-06-30 05:55:57;83%;7:23;;Drank coffee:Stressful day:Worked out;;0\\r\\r\\n2016-07-01 23:32:46;2016-07-02 07:32:54;90%;8:00;;Drank coffee;;0\\r\\r\\n2016-07-03 21:49:41;2016-07-04 06:02:36;86%;8:12;;;;0\\r\\r\\n2016-07-04 21:39:08;2016-07-05 05:50:23;85%;8:11;;Drank coffee:Worked out;;0\\r\\r\\n2016-07-05 22:48:36;2016-07-06 06:05:36;75%;7:16;;Drank coffee:Stressful day:Worked out;;0\\r\\r\\n2016-07-06 22:13:30;2016-07-07 06:15:50;92%;8:02;;Drank coffee:Worked out;;0\\r\\r\\n2016-07-07 22:53:15;2016-07-08 07:05:46;96%;8:12;;Drank coffee:Worked out;;0\\r\\r\\n2016-07-10 22:18:13;2016-07-11 06:17:38;85%;7:59;;Drank coffee;;0\\r\\r\\n2016-07-11 21:24:42;2016-07-12 06:15:28;99%;8:50;;Drank coffee:Worked out;;0\\r\\r\\n2016-07-12 22:02:38;2016-07-13 06:15:55;96%;8:13;;Drank coffee:Worked out;;0\\r\\r\\n2016-07-13 23:13:10;2016-07-14 06:15:33;78%;7:02;;Drank coffee:Worked out;;0\\r\\r\\n2016-07-14 22:39:55;2016-07-15 06:15:20;84%;7:35;;Drank coffee:Stressful day:Worked out;;0\\r\\r\\n2016-07-16 00:32:25;2016-07-16 08:19:37;87%;7:47;;Drank coffee:Worked out;;0\\r\\r\\n2016-07-16 23:20:56;2016-07-17 07:31:40;98%;8:10;;Drank coffee:Worked out;;0\\r\\r\\n2016-07-17 22:23:36;2016-07-18 06:00:46;76%;7:37;;Drank coffee:Worked out;;0\\r\\r\\n2016-07-18 22:57:22;2016-07-19 06:05:28;77%;7:08;;Drank coffee:Stressful day:Worked out;;0\\r\\r\\n2016-07-19 22:36:11;2016-07-20 05:50:31;77%;7:14;;Drank coffee:Worked out;;0\\r\\r\\n2016-07-20 22:25:37;2016-07-21 05:56:20;82%;7:30;;Drank coffee:Worked out;;0\\r\\r\\n2016-07-21 23:07:32;2016-07-22 07:00:25;87%;7:52;;Drank coffee:Worked out;;0\\r\\r\\n2016-07-22 22:20:48;2016-07-23 07:56:07;99%;9:35;;Drank coffee;;0\\r\\r\\n2016-07-23 23:47:33;2016-07-24 07:56:34;74%;8:09;;Drank coffee;;0\\r\\r\\n2016-07-24 22:45:58;2016-07-25 06:14:20;81%;7:28;;Drank coffee:Worked out;;0\\r\\r\\n2016-07-25 21:54:39;2016-07-26 06:02:22;86%;8:07;;Drank coffee:Worked out;;0\\r\\r\\n2016-07-26 23:03:39;2016-07-27 06:11:38;84%;7:07;;Drank coffee:Worked out;;0\\r\\r\\n2016-07-27 22:49:44;2016-07-28 07:11:03;95%;8:21;;Drank coffee:Stressful day:Worked out;;0\\r\\r\\n2016-07-28 22:25:20;2016-07-29 03:35:22;35%;5:10;;Drank coffee;;0\\r\\r\\n2016-08-16 22:05:56;2016-08-17 05:50:45;96%;7:44;;Drank coffee:Drank tea:Stressful day;;0\\r\\r\\n2016-08-17 22:42:29;2016-08-18 06:15:46;78%;7:33;;Ate late:Drank coffee:Worked out;;7200\\r\\r\\n2016-08-18 21:58:44;2016-08-19 06:23:31;36%;8:24;;Drank coffee:Worked out;;3444\\r\\r\\n2016-08-20 22:04:29;2016-08-21 08:33:27;56%;10:28;;Drank coffee;;7901\\r\\r\\n2016-08-21 22:08:40;2016-08-22 06:20:25;52%;8:11;;Drank coffee:Drank tea;;3786\\r\\r\\n2016-08-22 22:13:35;2016-08-23 06:22:47;35%;8:09;;Drank coffee:Worked out;;2668\\r\\r\\n2016-08-23 23:08:06;2016-08-24 06:38:18;51%;7:30;;Drank coffee:Worked out;;4213\\r\\r\\n2016-08-24 21:51:35;2016-08-25 06:10:57;54%;8:19;;Drank coffee:Worked out;;2210\\r\\r\\n2016-08-25 22:06:03;2016-08-26 06:19:47;55%;8:13;;Drank coffee:Worked out;;3040\\r\\r\\n2016-08-26 23:49:26;2016-08-27 07:26:36;46%;7:37;;Drank coffee:Worked out;;3887\\r\\r\\n2016-08-27 23:52:04;2016-08-28 08:25:52;48%;8:33;;Drank coffee;;5631\\r\\r\\n2016-08-28 22:52:01;2016-08-29 06:40:35;36%;7:48;;Drank coffee;;10059\\r\\r\\n2016-08-29 22:10:33;2016-08-30 06:20:22;40%;8:09;;Drank coffee:Worked out;;3698\\r\\r\\n2016-08-30 22:21:42;2016-08-31 06:20:48;49%;7:59;;Drank coffee:Worked out;;4399\\r\\r\\n2016-08-31 22:33:07;2016-09-01 06:20:32;49%;7:47;;Drank coffee:Worked out;;4015\\r\\r\\n2016-09-01 23:08:05;2016-09-02 05:58:51;54%;6:50;;Drank coffee:Worked out;;4374\\r\\r\\n2016-09-02 22:38:01;2016-09-03 07:47:43;67%;9:09;;Drank coffee;;5038\\r\\r\\n2016-09-04 23:28:38;2016-09-05 08:00:45;61%;8:32;;Drank coffee;;827\\r\\r\\n2016-09-05 21:00:08;2016-09-06 06:20:37;41%;9:20;;Drank tea:Worked out;;2542\\r\\r\\n2016-09-06 22:11:10;2016-09-07 06:22:09;70%;8:10;;Drank tea:Worked out;;7370\\r\\r\\n2016-09-07 22:31:00;2016-09-08 06:21:04;69%;7:50;;Drank tea:Worked out;;5658\\r\\r\\n2016-09-08 22:28:57;2016-09-09 06:10:18;61%;7:41;;Drank tea:Worked out;;7107\\r\\r\\n2016-09-10 00:45:06;2016-09-10 07:06:54;58%;6:21;;Drank coffee:Worked out;;7048\\r\\r\\n2016-09-10 22:44:13;2016-09-11 06:01:14;33%;7:17;;Drank tea;;6925\\r\\r\\n2016-09-11 23:05:56;2016-09-12 06:20:22;60%;7:14;;Drank coffee;;1130\\r\\r\\n2016-09-12 22:46:00;2016-09-13 06:20:12;67%;7:34;;Drank tea:Worked out;;7025\\r\\r\\n2016-09-13 21:55:44;2016-09-14 06:07:55;59%;8:12;;Drank tea:Worked out;;5955\\r\\r\\n2016-09-14 22:26:52;2016-09-15 06:20:38;65%;7:53;;Drank tea:Worked out;;9243\\r\\r\\n2016-09-17 22:26:00;2016-09-18 08:22:25;70%;9:56;;Drank coffee;;908\\r\\r\\n2016-09-18 22:28:43;2016-09-19 06:24:18;57%;7:55;;Drank coffee:Worked out;;2191\\r\\r\\n2016-09-19 22:14:12;2016-09-20 06:22:04;60%;8:07;;Drank tea:Worked out;;11650\\r\\r\\n2016-09-20 22:39:22;2016-09-21 06:15:30;57%;7:36;;Drank tea:Worked out;;10842\\r\\r\\n2016-09-21 22:11:55;2016-09-22 06:11:36;60%;7:59;;Drank tea;;5765\\r\\r\\n2016-09-22 22:26:20;2016-09-23 06:55:45;70%;8:29;;Drank tea:Worked out;;8047\\r\\r\\n2016-09-25 22:53:08;2016-09-26 06:24:53;58%;7:31;;Drank coffee:Drank tea:Worked out;;359\\r\\r\\n2016-09-26 22:17:19;2016-09-27 06:20:57;55%;8:03;;Drank tea:Stressful day:Worked out;;8733\\r\\r\\n2016-09-27 22:22:09;2016-09-28 06:06:46;55%;7:44;;Drank tea:Worked out;;6963\\r\\r\\n2016-09-28 23:10:52;2016-09-29 06:20:16;60%;7:09;;Drank coffee:Drank tea:Worked out;;10392\\r\\r\\n2016-09-29 22:50:50;2016-09-30 06:20:29;53%;7:29;;Drank coffee:Worked out;;7230\\r\\r\\n2016-10-01 00:06:21;2016-10-01 08:27:00;67%;8:20;;Drank coffee:Drank tea:Worked out;;7255\\r\\r\\n2016-10-01 23:23:45;2016-10-02 07:50:03;55%;8:26;;Drank coffee;;4555\\r\\r\\n2016-10-02 23:29:07;2016-10-03 06:25:22;54%;6:56;;Drank coffee:Drank tea;;8954\\r\\r\\n2016-10-03 22:24:38;2016-10-04 06:03:11;62%;7:38;;Drank coffee:Drank tea:Worked out;;9726\\r\\r\\n2016-10-04 21:53:10;2016-10-05 06:21:35;66%;8:28;;Drank tea:Worked out;;8587\\r\\r\\n2016-10-05 22:33:02;2016-10-06 06:21:09;54%;7:48;;Drank tea:Worked out;;8612\\r\\r\\n2016-10-07 00:07:25;2016-10-07 06:40:59;52%;6:33;;Drank tea:Worked out;;8737\\r\\r\\n2016-10-07 23:18:12;2016-10-08 07:20:20;71%;8:02;;Drank coffee:Drank tea:Worked out;;10375\\r\\r\\n2016-10-10 22:38:44;2016-10-11 06:28:39;59%;7:49;;Drank coffee:Drank tea:Worked out;;21870\\r\\r\\n2016-10-11 22:28:30;2016-10-12 06:14:27;56%;7:45;;Drank tea:Worked out;;10106\\r\\r\\n2016-10-12 22:48:24;2016-10-13 06:05:17;65%;7:16;;Drank coffee:Worked out;;9308\\r\\r\\n2016-10-13 22:26:35;2016-10-14 06:30:44;61%;8:04;;Drank coffee:Worked out;;8406\\r\\r\\n2016-10-15 23:00:24;2016-10-16 07:31:15;71%;8:30;;Drank coffee;;779\\r\\r\\n2016-10-16 22:52:39;2016-10-17 06:20:38;50%;7:27;;Drank coffee:Drank tea;;3932\\r\\r\\n2016-10-17 22:53:05;2016-10-18 06:27:22;63%;7:34;;Drank coffee:Drank tea:Worked out;;10266\\r\\r\\n2016-10-18 22:34:56;2016-10-19 06:10:12;67%;7:35;;Drank coffee:Stressful day:Worked out;;10540\\r\\r\\n2016-10-19 22:13:21;2016-10-20 05:49:19;64%;7:35;;Drank coffee:Worked out;;8164\\r\\r\\n2016-10-20 22:14:18;2016-10-21 06:33:30;67%;8:19;;Drank coffee:Drank tea:Worked out;;7271\\r\\r\\n2016-10-22 01:38:50;2016-10-22 07:18:16;54%;5:39;;Drank coffee:Drank tea;;6044\\r\\r\\n2016-10-23 00:07:46;2016-10-23 08:47:55;81%;8:40;;Drank coffee;;7682\\r\\r\\n2016-10-23 22:21:35;2016-10-24 06:23:30;66%;8:01;;Drank coffee:Drank tea;;6719\\r\\r\\n2016-10-24 23:04:24;2016-10-25 06:25:53;65%;7:21;;Drank coffee:Drank tea:Worked out;;8273\\r\\r\\n2016-10-25 22:48:36;2016-10-26 06:35:20;69%;7:46;;Drank tea:Worked out;;6366\\r\\r\\n2016-10-26 22:55:13;2016-10-27 06:26:10;72%;7:30;;Drank coffee:Drank tea:Worked out;;9368\\r\\r\\n2016-10-27 23:03:27;2016-10-28 06:35:41;63%;7:32;;Drank coffee:Drank tea:Worked out;;7967\\r\\r\\n2016-10-29 00:16:28;2016-10-29 07:51:08;66%;7:34;;Drank coffee:Drank tea;;8641\\r\\r\\n2016-10-30 22:46:10;2016-10-31 06:10:08;68%;7:23;;Drank coffee:Worked out;;1283\\r\\r\\n2016-11-01 22:19:52;2016-11-02 05:57:51;68%;7:37;;Drank tea:Stressful day:Worked out;;4542\\r\\r\\n2016-11-02 22:52:01;2016-11-03 06:30:20;72%;7:38;;Drank coffee:Drank tea:Stressful day;;2870\\r\\r\\n2016-11-04 00:13:27;2016-11-04 06:15:18;52%;6:01;;Drank coffee:Drank tea:Stressful day;;10506\\r\\r\\n2016-11-04 22:49:41;2016-11-05 07:58:35;80%;9:08;;Drank coffee:Stressful day;;6716\\r\\r\\n2016-11-06 21:58:25;2016-11-07 05:47:40;65%;7:49;;Drank coffee;;6623\\r\\r\\n2016-11-07 22:16:20;2016-11-08 05:51:55;70%;7:35;;Drank tea:Worked out;;6608\\r\\r\\n2016-11-08 22:51:28;2016-11-09 05:48:09;62%;6:56;;Drank coffee:Drank tea:Worked out;;7119\\r\\r\\n2016-11-09 22:37:37;2016-11-10 05:55:35;65%;7:17;;Drank coffee:Drank tea:Worked out;;8981\\r\\r\\n2016-11-10 23:58:36;2016-11-11 07:19:01;56%;7:20;;Drank coffee:Drank tea:Worked out;;7385\\r\\r\\n2016-11-11 23:25:33;2016-11-12 07:16:45;74%;7:51;;Drank coffee:Drank tea;;737\\r\\r\\n2016-11-15 22:14:54;2016-11-16 07:35:12;72%;9:20;;Drank tea;;5274\\r\\r\\n2016-11-16 23:10:58;2016-11-17 07:07:23;70%;7:56;;Drank coffee;;2670\\r\\r\\n2016-11-17 23:15:24;2016-11-18 06:59:25;73%;7:44;;Drank tea;;5825\\r\\r\\n2016-11-18 23:37:14;2016-11-19 07:13:39;70%;7:36;;Drank coffee:Drank tea;;5971\\r\\r\\n2016-11-19 23:47:47;2016-11-20 07:53:30;81%;8:05;;Drank tea;;1540\\r\\r\\n2016-11-20 23:00:56;2016-11-21 07:02:20;80%;8:01;;Drank coffee:Drank tea;;847\\r\\r\\n2016-11-21 22:38:54;2016-11-22 05:40:29;68%;7:01;;Drank coffee:Drank tea;;6149\\r\\r\\n2016-11-22 21:26:49;2016-11-23 05:40:44;80%;8:13;;Drank tea:Worked out;;10585\\r\\r\\n2016-11-23 22:44:23;2016-11-24 06:10:19;73%;7:25;;Drank coffee:Drank tea:Worked out;;10248\\r\\r\\n2016-11-24 22:00:35;2016-11-25 06:39:41;88%;8:39;;Drank tea:Worked out;;6536\\r\\r\\n2016-11-25 23:09:40;2016-11-26 07:40:13;89%;8:30;;Drank coffee:Drank tea;;5628\\r\\r\\n2016-11-27 22:01:16;2016-11-28 06:18:05;75%;8:16;;Drank tea;;595\\r\\r\\n2016-11-28 22:35:53;2016-11-29 06:26:48;83%;7:50;;Drank tea:Worked out;;7499\\r\\r\\n2016-11-29 23:33:57;2016-11-30 06:31:02;71%;6:57;;Drank tea;;3196\\r\\r\\n2016-11-30 21:12:34;2016-12-01 05:13:52;89%;8:01;;Drank coffee:Drank tea;;3763\\r\\r\\n2016-12-01 05:14:26;2016-12-01 06:38:52;17%;1:24;;;;3763\\r\\r\\n2016-12-01 21:40:00;2016-12-02 05:11:18;71%;7:31;;Drank tea;;4904\\r\\r\\n2016-12-04 01:18:30;2016-12-04 09:20:41;89%;8:02;;Drank coffee:Drank tea;;3158\\r\\r\\n2016-12-04 21:45:14;2016-12-05 05:45:33;78%;8:00;;Drank tea;;4514\\r\\r\\n2016-12-05 21:44:42;2016-12-06 05:40:05;79%;7:55;;Drank tea:Worked out;;7137\\r\\r\\n2016-12-06 22:13:52;2016-12-07 05:46:46;72%;7:32;;Drank tea:Worked out;;7709\\r\\r\\n2016-12-07 22:46:53;2016-12-08 06:19:39;82%;7:32;;Drank coffee:Drank tea:Worked out;;10521\\r\\r\\n2016-12-08 23:32:15;2016-12-09 06:47:33;69%;7:15;;Drank coffee:Drank tea:Worked out;;9338\\r\\r\\n2016-12-09 22:48:02;2016-12-10 08:11:02;79%;9:23;;Drank tea;;4629\\r\\r\\n2016-12-11 01:07:36;2016-12-11 08:27:16;82%;7:19;;Drank coffee:Worked out;;5776\\r\\r\\n2016-12-11 22:14:46;2016-12-12 06:16:45;85%;8:01;;Drank tea;;168\\r\\r\\n2016-12-12 22:56:32;2016-12-13 06:35:28;81%;7:38;;Drank coffee:Drank tea;;6964\\r\\r\\n2016-12-13 22:02:53;2016-12-14 06:05:24;83%;8:02;;Drank coffee:Drank tea:Worked out;;3448\\r\\r\\n2016-12-14 21:57:40;2016-12-15 06:18:20;74%;8:20;;Drank tea;;4114\\r\\r\\n2016-12-15 21:29:37;2016-12-16 05:00:47;75%;7:31;;Drank tea;;7112\\r\\r\\n2016-12-18 22:35:39;2016-12-19 05:47:37;78%;7:11;;Drank coffee:Drank tea;;3391\\r\\r\\n2016-12-19 21:49:28;2016-12-20 06:35:32;96%;8:46;;Drank tea;;2335\\r\\r\\n2016-12-20 23:48:48;2016-12-21 07:09:06;84%;7:20;;Drank tea;;7293\\r\\r\\n2016-12-21 23:56:08;2016-12-22 07:30:08;86%;7:33;;Drank coffee:Drank tea;;8488\\r\\r\\n2016-12-22 23:07:02;2016-12-23 07:07:26;74%;8:00;;Drank coffee:Drank tea:Stressful day;;5701\\r\\r\\n2016-12-27 23:17:04;2016-12-28 07:22:29;69%;8:05;;Drank coffee:Drank tea;;4509\\r\\r\\n2016-12-30 23:25:36;2016-12-31 08:26:18;92%;9:00;;Drank coffee:Drank tea;;3868\\r\\r\\n2017-01-02 22:35:54;2017-01-03 05:10:36;73%;6:34;;Drank coffee:Drank tea;;5216\\r\\r\\n2017-01-03 05:11:12;2017-01-03 06:30:19;17%;1:19;;;;5216\\r\\r\\n2017-01-03 21:47:36;2017-01-04 05:57:07;87%;8:09;;Drank tea;;3669\\r\\r\\n2017-01-04 22:40:41;2017-01-05 06:10:16;87%;7:29;;Drank coffee:Drank tea:Worked out;;10856\\r\\r\\n2017-01-05 22:39:33;2017-01-06 06:42:11;93%;8:02;;Drank tea:Worked out;;7787\\r\\r\\n2017-01-06 23:14:42;2017-01-07 08:43:54;90%;9:29;;Drank coffee:Drank tea;;10344\\r\\r\\n2017-01-08 00:34:09;2017-01-08 07:56:17;79%;7:22;;Drank tea;;3094\\r\\r\\n2017-01-08 22:07:26;2017-01-09 06:23:46;84%;8:16;;Drank tea;;202\\r\\r\\n2017-01-09 22:42:26;2017-01-10 06:40:14;65%;7:57;;Drank coffee:Drank tea;;7122\\r\\r\\n2017-01-10 22:20:00;2017-01-11 06:14:43;84%;7:54;;Drank coffee:Drank tea;;1734\\r\\r\\n2017-01-11 22:14:13;2017-01-12 05:22:08;73%;7:07;;Drank coffee:Drank tea;;2562\\r\\r\\n2017-01-12 22:13:43;2017-01-13 05:31:40;64%;7:17;;Ate late:Drank coffee:Drank tea;;8076\\r\\r\\n2017-01-13 23:27:43;2017-01-14 07:22:42;89%;7:54;;Drank tea:Worked out;;12802\\r\\r\\n2017-01-15 23:25:52;2017-01-16 06:58:37;74%;7:32;;Drank coffee:Drank tea:Worked out;;12258\\r\\r\\n2017-01-16 21:58:38;2017-01-17 05:11:26;71%;7:12;;Drank tea;;4540\\r\\r\\n2017-01-17 05:12:01;2017-01-17 07:20:39;24%;2:08;;;;4540\\r\\r\\n2017-01-17 22:23:54;2017-01-18 05:01:08;57%;6:37;;Drank tea;;173\\r\\r\\n2017-01-18 22:22:23;2017-01-19 06:31:54;76%;8:09;;Drank tea;;6368\\r\\r\\n2017-01-19 22:14:59;2017-01-20 06:30:21;92%;8:15;;Drank coffee:Drank tea;;1740\\r\\r\\n2017-01-20 23:07:08;2017-01-21 07:45:58;78%;8:38;;Drank tea;;5056\\r\\r\\n2017-01-21 23:12:38;2017-01-22 07:42:38;96%;8:29;;Drank tea;;4223\\r\\r\\n2017-01-22 22:03:13;2017-01-23 06:25:22;64%;8:22;;Drank tea;;4336\\r\\r\\n2017-01-23 22:34:02;2017-01-24 06:09:14;89%;7:35;;Drank coffee:Drank tea;;4772\\r\\r\\n2017-01-24 22:55:44;2017-01-25 06:13:18;84%;7:17;;Drank coffee:Drank tea;;3492\\r\\r\\n2017-01-25 20:54:01;2017-01-26 05:09:50;85%;8:15;;Drank tea:Worked out;;6010\\r\\r\\n2017-01-26 22:12:44;2017-01-27 04:58:00;54%;6:45;;Drank coffee:Drank tea:Worked out;;4200\\r\\r\\n2017-01-27 04:58:17;2017-01-27 06:40:57;21%;1:42;;;;4200\\r\\r\\n2017-01-27 23:22:46;2017-01-28 07:25:11;91%;8:02;;Drank coffee:Drank tea;;4573\\r\\r\\n2017-01-30 23:27:29;2017-01-31 06:01:53;63%;6:34;;Drank coffee;;3228\\r\\r\\n2017-01-31 22:44:33;2017-02-01 06:20:33;78%;7:36;;Drank coffee:Drank tea:Worked out;;5379\\r\\r\\n2017-02-01 22:41:03;2017-02-02 06:10:32;74%;7:29;;Drank coffee:Drank tea:Worked out;;7521\\r\\r\\n2017-02-02 22:19:54;2017-02-03 06:31:10;85%;8:11;;Drank coffee:Drank tea;;2309\\r\\r\\n2017-02-03 23:58:49;2017-02-04 07:08:37;80%;7:09;;Drank coffee:Drank tea;;2983\\r\\r\\n2017-02-04 23:45:02;2017-02-05 07:20:28;68%;7:35;;Drank coffee:Drank tea;;6833\\r\\r\\n2017-02-05 22:53:55;2017-02-06 06:30:28;75%;7:36;;Drank coffee:Drank tea;;7665\\r\\r\\n2017-02-06 22:30:15;2017-02-07 06:20:17;71%;7:50;;Ate late:Drank coffee:Drank tea:Worked out;;7552\\r\\r\\n2017-02-07 23:34:51;2017-02-08 06:30:17;71%;6:55;;Drank coffee:Drank tea;;5339\\r\\r\\n2017-02-08 23:46:48;2017-02-09 06:27:00;68%;6:40;;Drank coffee:Drank tea;;4076\\r\\r\\n2017-02-09 22:31:43;2017-02-10 05:00:18;62%;6:28;;Drank coffee:Drank tea:Stressful day:Worked out;;12892\\r\\r\\n2017-02-10 05:00:41;2017-02-10 06:36:44;21%;1:36;;;;12892\\r\\r\\n2017-02-10 22:37:33;2017-02-11 07:07:59;100%;8:30;;Drank tea;;3417\\r\\r\\n2017-02-12 21:49:33;2017-02-13 07:06:19;63%;9:16;;Drank coffee:Drank tea;;2756\\r\\r\\n2017-02-13 21:51:58;2017-02-14 05:02:27;74%;7:10;;Drank coffee:Drank tea;;6003\\r\\r\\n2017-02-14 05:02:55;2017-02-14 06:36:52;12%;1:33;;;;6003\\r\\r\\n2017-02-14 23:17:25;2017-02-15 06:13:14;59%;6:55;;Drank coffee:Drank tea;;3588\\r\\r\\n2017-02-15 22:36:26;2017-02-16 06:25:08;44%;7:48;;Drank coffee:Drank tea;;5558\\r\\r\\n2017-02-16 22:33:17;2017-02-17 06:31:28;83%;7:58;;Drank coffee:Drank tea;;3301\\r\\r\\n2017-02-17 23:49:14;2017-02-18 08:09:19;93%;8:20;;Drank coffee:Drank tea;;3027\\r\\r\\n2017-02-19 00:28:17;2017-02-19 08:16:49;79%;7:48;;Drank tea;;3361\\r\\r\\n2017-02-19 22:12:40;2017-02-20 06:16:47;66%;8:04;;Drank coffee:Drank tea;;460\\r\\r\\n2017-02-20 22:43:58;2017-02-21 06:27:19;76%;7:43;;Drank tea;;7419\\r\\r\\n2017-02-21 23:14:34;2017-02-22 06:26:11;72%;7:11;;Drank coffee:Drank tea;;5499\\r\\r\\n2017-02-22 21:30:46;2017-02-23 05:02:42;83%;7:31;;Drank tea;;4258\\r\\r\\n2017-02-23 22:15:13;2017-02-24 05:34:22;81%;7:19;;Drank coffee:Drank tea;;5862\\r\\r\\n2017-02-24 05:34:46;2017-02-24 06:30:30;12%;0:55;;;;5862\\r\\r\\n2017-02-25 02:46:24;2017-02-25 09:52:39;80%;7:06;;Ate late:Drank coffee:Drank tea:Worked out;;6388\\r\\r\\n2017-02-26 00:40:06;2017-02-26 07:47:20;77%;7:07;;Drank tea;;4275\\r\\r\\n2017-02-27 22:16:11;2017-02-28 05:50:20;81%;7:34;;Drank coffee;;2499\\r\\r\\n2017-02-28 21:39:30;2017-03-01 05:40:39;87%;8:01;;Drank coffee:Drank tea:Worked out;;7351\\r\\r\\n2017-03-01 05:43:20;2017-03-01 06:40:40;12%;0:57;;;;7351\\r\\r\\n2017-03-01 22:23:16;2017-03-02 06:30:31;85%;8:07;;Drank coffee:Drank tea;;6109\\r\\r\\n2017-03-02 22:22:27;2017-03-03 06:18:06;81%;7:55;;Drank coffee:Drank tea:Worked out;;6388\\r\\r\\n2017-03-05 00:12:24;2017-03-05 08:28:54;96%;8:16;;Drank coffee:Drank tea;;6785\\r\\r\\n2017-03-05 22:01:00;2017-03-06 06:08:33;93%;8:07;;Drank coffee:Drank tea;;171\\r\\r\\n2017-03-06 22:01:27;2017-03-07 06:22:56;97%;8:21;;Drank coffee:Drank tea;;4670\\r\\r\\n2017-03-07 22:13:31;2017-03-08 06:15:26;90%;8:01;;Drank coffee:Drank tea:Worked out;;7000\\r\\r\\n2017-03-08 21:13:09;2017-03-09 06:18:48;85%;9:05;;Drank coffee:Drank tea;;3744\\r\\r\\n2017-03-09 21:48:29;2017-03-10 05:01:32;71%;7:13;;Drank coffee:Drank tea:Worked out;;7028\\r\\r\\n2017-03-10 22:42:49;2017-03-11 06:57:16;86%;8:14;;Drank coffee:Drank tea;;2679\\r\\r\\n2017-03-12 22:39:47;2017-03-13 06:33:44;80%;7:53;;Drank coffee:Drank tea;;1572\\r\\r\\n2017-03-13 21:20:30;2017-03-14 05:02:38;81%;7:42;;Drank tea:Worked out;;6212\\r\\r\\n2017-03-14 21:06:21;2017-03-15 05:23:46;89%;8:17;;Drank tea:Worked out;;5933\\r\\r\\n2017-03-15 22:33:27;2017-03-16 06:17:42;71%;7:44;;Drank coffee:Drank tea:Worked out;;9185\\r\\r\\n2017-03-16 22:33:05;2017-03-17 06:37:29;95%;8:04;;Drank coffee:Drank tea:Worked out;;7887\\r\\r\\n2017-03-17 22:55:16;2017-03-18 08:02:40;99%;9:07;;Drank coffee:Drank tea;;10528\\r\\r\\n2017-03-18 22:26:50;2017-03-19 07:21:18;89%;8:54;;Drank tea;;302\\r\\r\\n2017-03-20 00:02:06;2017-03-20 07:20:24;79%;7:18;;Drank coffee:Drank tea;;2750\\r\\r\\n2017-03-20 23:35:25;2017-03-21 07:16:45;88%;7:41;;Drank coffee:Drank tea;;3695\\r\\r\\n2017-03-21 23:20:23;2017-03-22 06:21:50;79%;7:01;;Drank coffee:Drank tea;;1913\\r\\r\\n2017-03-22 22:02:27;2017-03-23 05:15:10;72%;7:12;;Drank tea:Worked out;;7155\\r\\r\\n2017-03-23 22:20:49;2017-03-24 05:41:56;76%;7:21;;Drank coffee:Drank tea:Worked out;;7810\\r\\r\\n2017-03-25 23:19:31;2017-03-26 07:16:06;100%;7:56;;Drank coffee:Drank tea;;3549\\r\\r\\n2017-03-26 22:03:26;2017-03-27 05:33:14;83%;7:29;;Drank coffee:Drank tea:Worked out;;3554\\r\\r\\n2017-03-27 21:19:26;2017-03-28 05:42:21;78%;8:22;;Drank tea:Worked out;;7562\\r\\r\\n2017-03-28 22:29:53;2017-03-29 05:41:34;78%;7:11;;Drank coffee:Drank tea:Worked out;;7823\\r\\r\\n2017-03-29 22:29:26;2017-03-30 06:04:16;79%;7:34;;Drank coffee:Drank tea:Worked out;;7708\\r\\r\\n2017-03-30 22:42:12;2017-03-31 07:33:52;93%;8:51;;Drank coffee:Drank tea:Worked out;;8615\\r\\r\\n2017-04-01 02:10:07;2017-04-01 08:37:45;80%;6:27;;Drank coffee:Drank tea;;9461\\r\\r\\n2017-04-01 21:22:18;2017-04-02 07:16:24;95%;9:54;;Drank tea;;4595\\r\\r\\n2017-04-02 22:01:10;2017-04-03 06:20:15;90%;8:19;;Drank coffee:Drank tea:Worked out;;2835\\r\\r\\n2017-04-03 21:58:04;2017-04-04 06:01:05;92%;8:03;;Drank tea;;1898\\r\\r\\n2017-04-04 22:01:48;2017-04-05 06:11:12;81%;8:09;;Drank tea:Worked out;;8396\\r\\r\\n2017-04-05 23:45:02;2017-04-06 06:20:30;73%;6:35;;Drank coffee:Drank tea:Worked out;;7948\\r\\r\\n2017-04-06 23:12:55;2017-04-07 06:20:28;68%;7:07;;Drank coffee:Drank tea:Worked out;;14408\\r\\r\\n2017-04-08 00:00:47;2017-04-08 07:30:09;75%;7:29;;Drank coffee:Drank tea:Worked out;;8646\\r\\r\\n2017-04-10 00:52:01;2017-04-10 06:32:21;65%;5:40;;Drank coffee;;771\\r\\r\\n2017-04-10 22:21:48;2017-04-11 05:41:07;70%;7:19;;Drank tea:Worked out;;11355\\r\\r\\n2017-04-11 06:03:43;2017-04-11 06:31:04;6%;0:27;;;;0\\r\\r\\n2017-04-11 22:39:32;2017-04-12 05:55:47;67%;7:16;;;;4153\\r\\r\\n2017-04-12 21:42:46;2017-04-13 06:54:43;74%;9:11;;Drank tea;;1318\\r\\r\\n2017-04-13 23:52:36;2017-04-14 08:05:24;83%;8:12;;Drank coffee:Drank tea;;889\\r\\r\\n2017-04-14 21:45:29;2017-04-15 07:52:55;88%;10:07;;Drank tea;;4787\\r\\r\\n2017-04-15 23:23:33;2017-04-16 07:05:46;73%;7:42;;Drank tea;;4581\\r\\r\\n2017-04-17 00:06:45;2017-04-17 07:51:04;83%;7:44;;Drank coffee:Drank tea;;1510\\r\\r\\n2017-04-17 22:12:26;2017-04-18 05:54:09;66%;7:41;;Drank coffee:Drank tea;;780\\r\\r\\n2017-04-18 22:43:50;2017-04-19 06:20:23;59%;7:36;;Drank coffee:Drank tea:Worked out;;6284\\r\\r\\n2017-04-19 21:39:14;2017-04-20 05:30:23;75%;7:51;;;;8213\\r\\r\\n2017-04-20 22:15:07;2017-04-21 05:41:14;75%;7:26;;Drank coffee:Drank tea:Worked out;;7905\\r\\r\\n2017-04-21 22:36:25;2017-04-22 07:46:24;83%;9:09;;Drank coffee:Drank tea:Worked out;;8072\\r\\r\\n2017-04-23 00:53:51;2017-04-23 08:38:20;86%;7:44;;Drank coffee:Drank tea;;2666\\r\\r\\n2017-04-23 22:31:31;2017-04-24 06:31:01;75%;7:59;;Drank coffee;;3042\\r\\r\\n2017-04-24 23:07:26;2017-04-25 06:34:32;72%;7:27;;Drank coffee:Drank tea:Worked out;;10319\\r\\r\\n2017-04-25 22:20:09;2017-04-26 06:20:58;85%;8:00;;Drank coffee:Drank tea:Worked out;;8358\\r\\r\\n2017-04-26 22:25:19;2017-04-27 06:32:18;68%;8:06;;Drank coffee:Drank tea:Worked out;;7337\\r\\r\\n2017-04-27 22:48:26;2017-04-28 06:40:19;64%;7:51;;Drank coffee:Drank tea:Worked out;;6551\\r\\r\\n2017-04-28 23:39:58;2017-04-29 08:17:11;90%;8:37;;Drank coffee:Drank tea:Stressful day;;3357\\r\\r\\n2017-04-29 23:39:22;2017-04-30 07:23:20;74%;7:43;;Drank coffee:Drank tea;;2668\\r\\r\\n2017-04-30 22:28:38;2017-05-01 06:16:14;72%;7:47;;Drank coffee:Drank tea:Worked out;;7491\\r\\r\\n2017-05-01 22:00:53;2017-05-02 06:17:03;74%;8:16;;Drank coffee:Drank tea:Worked out;;11475\\r\\r\\n2017-05-02 21:47:56;2017-05-03 06:04:42;77%;8:16;;Drank coffee:Drank tea:Worked out;;4810\\r\\r\\n2017-05-03 22:59:05;2017-05-04 06:20:50;59%;7:21;;Drank coffee:Drank tea:Worked out;;6932\\r\\r\\n2017-05-04 22:37:37;2017-05-05 06:10:20;73%;7:32;;Drank coffee:Drank tea:Worked out;;5954\\r\\r\\n2017-05-06 00:25:02;2017-05-06 07:45:11;83%;7:20;;Drank coffee:Drank tea:Worked out;;11070\\r\\r\\n2017-05-07 21:51:42;2017-05-08 06:10:11;81%;8:18;;Drank coffee;;4310\\r\\r\\n2017-05-08 22:28:29;2017-05-09 06:11:31;66%;7:43;;Drank coffee:Drank tea:Worked out;;8598\\r\\r\\n2017-05-09 23:33:31;2017-05-10 06:03:03;64%;6:29;;Drank coffee:Drank tea:Worked out;;6073\\r\\r\\n2017-05-10 06:04:51;2017-05-10 07:45:36;18%;1:40;;;;0\\r\\r\\n2017-05-10 22:43:36;2017-05-11 06:16:14;82%;7:32;;Drank coffee:Drank tea;;2854\\r\\r\\n2017-05-11 21:52:42;2017-05-12 06:40:09;95%;8:47;;Drank coffee:Drank tea:Worked out;;4280\\r\\r\\n2017-05-13 00:42:34;2017-05-13 07:41:35;73%;6:59;;Drank coffee:Drank tea:Worked out;;4068\\r\\r\\n2017-05-14 00:04:29;2017-05-14 08:11:13;73%;8:06;;Drank tea;;3298\\r\\r\\n2017-05-14 21:57:30;2017-05-15 06:20:25;77%;8:22;;Drank coffee:Drank tea;;3958\\r\\r\\n2017-05-15 22:55:59;2017-05-16 06:30:17;75%;7:34;;Drank coffee:Drank tea:Worked out;;7661\\r\\r\\n2017-05-16 22:41:34;2017-05-17 06:17:58;73%;7:36;;Drank tea;;1865\\r\\r\\n2017-05-17 22:44:16;2017-05-18 06:40:48;90%;7:56;;Drank coffee:Drank tea:Worked out;;6764\\r\\r\\n2017-05-18 23:17:42;2017-05-19 06:27:47;88%;7:10;;Drank coffee:Drank tea:Stressful day:Worked out;;82\\r\\r\\n2017-05-20 01:04:03;2017-05-20 08:56:08;73%;7:52;;Drank coffee:Drank tea:Worked out;;5606\\r\\r\\n2017-05-22 22:29:18;2017-05-23 07:35:39;90%;9:06;;Drank tea:Worked out;;8858\\r\\r\\n2017-05-24 00:14:39;2017-05-24 07:46:48;70%;7:32;;Drank coffee:Worked out;;14276\\r\\r\\n2017-05-24 22:09:30;2017-05-25 06:37:45;82%;8:28;;Drank tea:Worked out;;3884\\r\\r\\n2017-05-25 22:19:48;2017-05-26 06:24:25;73%;8:04;;Drank tea:Worked out;;4565\\r\\r\\n2017-05-28 00:18:11;2017-05-28 08:01:15;81%;7:43;;Drank coffee:Worked out;;3770\\r\\r\\n2017-05-28 22:37:11;2017-05-29 06:18:28;75%;7:41;;Drank coffee;;1450\\r\\r\\n2017-05-29 22:28:43;2017-05-30 06:11:10;88%;7:42;;Drank coffee:Stressful day:Worked out;;7711\\r\\r\\n2017-05-30 21:59:14;2017-05-31 06:20:27;75%;8:21;;Ate late:Drank coffee:Worked out;;6430\\r\\r\\n2017-05-31 22:26:34;2017-06-01 05:45:50;86%;7:19;;Drank coffee:Drank tea:Worked out;;6964\\r\\r\\n2017-06-01 22:59:29;2017-06-02 06:40:30;80%;7:41;;Drank coffee:Drank tea:Worked out;;4562\\r\\r\\n2017-06-02 22:05:31;2017-06-03 06:11:20;69%;8:05;;Drank coffee:Drank tea;;1867\\r\\r\\n2017-06-03 21:56:57;2017-06-04 07:13:29;72%;9:16;;Drank coffee:Worked out;;8205\\r\\r\\n2017-06-04 23:14:35;2017-06-05 06:21:14;67%;7:06;;Drank coffee;;6705\\r\\r\\n2017-06-05 22:30:09;2017-06-06 06:17:34;74%;7:47;;Drank coffee:Worked out;;7820\\r\\r\\n2017-06-06 21:38:46;2017-06-07 05:53:29;76%;8:14;;Drank coffee:Drank tea:Stressful day:Worked out;;5391\\r\\r\\n2017-06-07 22:54:08;2017-06-08 06:34:25;41%;7:40;;Drank coffee:Drank tea:Worked out;;10542\\r\\r\\n2017-06-08 21:47:22;2017-06-09 06:17:26;70%;8:30;;Drank tea;;255\\r\\r\\n2017-06-10 00:07:56;2017-06-10 07:55:35;67%;7:47;;;;10427\\r\\r\\n2017-06-11 22:18:20;2017-06-12 06:10:31;78%;7:52;;;;6507\\r\\r\\n2017-06-12 21:44:54;2017-06-13 06:17:41;93%;8:32;;;;10373\\r\\r\\n2017-06-13 22:18:02;2017-06-14 06:12:15;74%;7:54;;;;9204\\r\\r\\n2017-06-14 22:34:54;2017-06-15 06:13:20;68%;7:38;;;;5027\\r\\r\\n2017-06-15 22:19:07;2017-06-16 06:07:14;76%;7:48;;;;7106\\r\\r\\n2017-06-18 05:01:21;2017-06-18 07:34:55;31%;2:33;;;;12153\\r\\r\\n2017-06-18 07:35:10;2017-06-18 08:09:18;7%;0:34;;;;804\\r\\r\\n2017-06-18 22:22:20;2017-06-19 06:02:19;66%;7:39;;;;5251\\r\\r\\n2017-06-19 22:57:14;2017-06-20 06:24:06;70%;7:26;;;;6672\\r\\r\\n2017-06-20 22:31:36;2017-06-21 06:15:06;77%;7:43;;;;7007\\r\\r\\n2017-06-21 06:16:05;2017-06-21 07:03:46;10%;0:47;;;;0\\r\\r\\n2017-06-21 22:32:49;2017-06-22 06:10:27;72%;7:37;;;;4898\\r\\r\\n2017-06-22 23:37:40;2017-06-23 06:38:08;59%;7:00;;;;7064\\r\\r\\n2017-06-23 23:26:37;2017-06-24 07:11:05;74%;7:44;;;;114\\r\\r\\n2017-06-25 22:08:35;2017-06-26 06:18:46;83%;8:10;;;;3403\\r\\r\\n2017-06-26 21:24:01;2017-06-27 06:15:53;90%;8:51;;;;6043\\r\\r\\n2017-06-27 21:52:15;2017-06-28 06:33:17;86%;8:41;;;;8946\\r\\r\\n2017-06-28 21:53:16;2017-06-29 06:21:30;69%;8:28;;;;7778\\r\\r\\n2017-06-29 22:32:41;2017-06-30 06:33:05;77%;8:00;;;;5510\\r\\r\\n2017-07-03 00:31:28;2017-07-03 07:44:16;81%;7:12;;;;17770\\r\\r\\n2017-07-03 22:37:36;2017-07-04 06:18:46;73%;7:41;;;;10604\\r\\r\\n2017-07-04 22:07:02;2017-07-05 05:55:45;74%;7:48;;;;7474\\r\\r\\n2017-07-05 21:48:16;2017-07-06 05:43:17;66%;7:55;;;;6430\\r\\r\\n2017-07-06 22:33:57;2017-07-07 06:31:01;73%;7:57;;;;11076\\r\\r\\n2017-07-09 22:36:36;2017-07-10 05:59:34;70%;7:22;;;;12647\\r\\r\\n2017-07-10 22:25:58;2017-07-11 06:01:00;74%;7:35;;;;4260\\r\\r\\n2017-07-11 21:39:56;2017-07-12 06:06:25;65%;8:26;;;;5504\\r\\r\\n2017-07-12 23:12:08;2017-07-13 06:25:50;67%;7:13;;;;6915\\r\\r\\n2017-07-13 22:30:55;2017-07-14 06:45:43;81%;8:14;;;;3919\\r\\r\\n2017-07-15 01:10:44;2017-07-15 07:54:40;78%;6:43;;;;5342\\r\\r\\n2017-07-16 02:12:50;2017-07-16 07:53:21;69%;5:40;;;;3739\\r\\r\\n2017-07-16 22:08:10;2017-07-17 06:25:30;70%;8:17;;;;5925\\r\\r\\n2017-07-17 22:51:14;2017-07-18 06:17:36;71%;7:26;;;;4840\\r\\r\\n2017-07-18 22:00:00;2017-07-19 06:39:58;84%;8:39;;;;5157\\r\\r\\n2017-07-19 21:45:40;2017-07-20 05:55:33;87%;8:09;;;;4336\\r\\r\\n2017-07-22 01:06:17;2017-07-22 07:54:35;68%;6:48;;;;135\\r\\r\\n2017-07-22 23:13:07;2017-07-23 07:10:13;78%;7:57;;;;5579\\r\\r\\n2017-07-23 21:57:52;2017-07-24 05:49:17;84%;7:51;;;;3901\\r\\r\\n2017-07-25 05:34:23;2017-07-25 05:55:30;5%;0:21;;;;6485\\r\\r\\n2017-07-25 22:04:25;2017-07-26 05:48:19;87%;7:43;;;;5451\\r\\r\\n2017-07-26 22:29:46;2017-07-27 06:05:30;74%;7:35;;;;2899\\r\\r\\n2017-07-27 21:53:02;2017-07-28 05:50:03;51%;7:57;;;;1552\\r\\r\\n2017-07-28 23:29:02;2017-07-29 06:22:28;38%;6:53;;;;5221\\r\\r\\n2017-07-29 22:00:52;2017-07-30 06:50:26;72%;8:49;;;;3834\\r\\r\\n2017-07-30 23:20:22;2017-07-31 06:33:10;89%;7:12;;;;1018\\r\\r\\n2017-07-31 22:39:28;2017-08-01 06:19:20;82%;7:39;;;;1837\\r\\r\\n2017-08-01 23:15:08;2017-08-02 06:10:05;77%;6:54;;;;893\\r\\r\\n2017-08-02 22:32:50;2017-08-03 06:06:01;81%;7:33;;;;5280\\r\\r\\n2017-08-03 23:14:21;2017-08-04 06:32:32;80%;7:18;;;;3584\\r\\r\\n2017-08-04 22:59:14;2017-08-05 07:31:09;76%;8:31;;;;1114\\r\\r\\n2017-08-05 23:37:59;2017-08-06 07:38:03;81%;8:00;;;;5152\\r\\r\\n2017-08-06 23:03:23;2017-08-07 08:12:03;99%;9:08;;;;3045\\r\\r\\n2017-08-07 23:14:29;2017-08-08 07:41:10;73%;8:26;;;;2429\\r\\r\\n2017-08-08 22:34:04;2017-08-09 06:05:52;81%;7:31;;;;7187\\r\\r\\n2017-08-09 23:22:48;2017-08-10 05:53:13;59%;6:30;;;;4488\\r\\r\\n2017-08-12 22:58:37;2017-08-13 06:40:56;79%;7:42;;;;5541\\r\\r\\n2017-08-13 22:46:18;2017-08-14 05:51:01;58%;7:04;;;;6246\\r\\r\\n2017-08-14 22:32:46;2017-08-15 05:51:31;67%;7:18;;;;7940\\r\\r\\n2017-08-15 21:56:15;2017-08-16 06:30:25;83%;8:34;;;;5029\\r\\r\\n2017-08-16 22:01:52;2017-08-17 05:29:51;81%;7:27;;;;9185\\r\\r\\n2017-08-17 20:36:10;2017-08-18 04:53:01;35%;8:16;;;;7581\\r\\r\\n2017-08-25 23:37:21;2017-08-26 06:38:04;30%;7:00;;;;10605\\r\\r\\n2017-08-27 22:15:33;2017-08-28 07:00:30;94%;8:44;;;;13476\\r\\r\\n2017-08-28 22:03:24;2017-08-29 07:20:54;82%;9:17;;;;3921\\r\\r\\n2017-08-30 23:01:16;2017-08-31 06:38:25;74%;7:37;;;;3332\\r\\r\\n2017-08-31 23:01:05;2017-09-01 07:16:49;81%;8:15;;;;3001\\r\\r\\n2017-09-01 22:33:45;2017-09-02 07:38:02;89%;9:04;;;;7268\\r\\r\\n2017-09-03 00:46:32;2017-09-03 08:08:23;81%;7:21;;;;4835\\r\\r\\n2017-09-03 23:07:20;2017-09-04 07:22:04;84%;8:14;;;;3230\\r\\r\\n2017-09-04 22:49:42;2017-09-05 06:07:20;59%;7:17;;;;1333\\r\\r\\n2017-09-05 22:38:20;2017-09-06 06:08:21;81%;7:30;;;;8922\\r\\r\\n2017-09-06 22:02:41;2017-09-07 06:02:21;79%;7:59;;;;5095\\r\\r\\n2017-09-07 22:26:23;2017-09-08 06:05:39;77%;7:39;;;;5470\\r\\r\\n2017-09-09 21:24:16;2017-09-10 06:13:13;74%;8:48;;;;2257\\r\\r\\n2017-09-11 22:39:00;2017-09-12 06:06:05;56%;7:27;;;;12094\\r\\r\\n2017-09-12 22:03:48;2017-09-13 06:08:39;86%;8:04;;;;6059\\r\\r\\n2017-09-13 23:43:45;2017-09-14 06:32:29;55%;6:48;;;;6075\\r\\r\\n2017-09-14 22:06:34;2017-09-15 06:05:38;79%;7:59;;;;4400\\r\\r\\n2017-09-16 00:18:13;2017-09-16 08:51:40;91%;8:33;;;;4880\\r\\r\\n2017-09-17 22:50:59;2017-09-18 06:32:47;71%;7:41;;;;7213\\r\\r\\n2017-09-18 22:19:43;2017-09-19 06:04:41;69%;7:44;;;;3640\\r\\r\\n2017-09-19 22:16:47;2017-09-20 06:04:25;76%;7:47;;;;5184\\r\\r\\n2017-09-20 22:04:28;2017-09-21 06:06:58;65%;8:02;;;;4443\\r\\r\\n2017-09-21 22:23:28;2017-09-22 06:07:29;72%;7:44;;;;5242\\r\\r\\n2017-09-24 21:44:24;2017-09-25 05:57:26;80%;8:13;;;;5142\\r\\r\\n2017-09-25 22:17:38;2017-09-26 06:19:01;73%;8:01;;;;5050\\r\\r\\n2017-09-26 23:01:43;2017-09-27 05:49:35;66%;6:47;;;;1706\\r\\r\\n2017-09-27 22:06:02;2017-09-28 06:08:22;83%;8:02;;;;10076\\r\\r\\n2017-09-28 23:36:21;2017-09-29 06:41:18;75%;7:04;;;;5320\\r\\r\\n2017-09-29 23:14:44;2017-09-30 08:00:51;80%;8:46;;;;2809\\r\\r\\n2017-10-01 00:03:39;2017-10-01 07:36:48;79%;7:33;;;;6235\\r\\r\\n2017-10-01 21:44:19;2017-10-02 06:05:20;69%;8:21;;;;2757\\r\\r\\n2017-10-02 22:55:18;2017-10-03 06:00:50;76%;7:05;;;;5551\\r\\r\\n2017-10-03 21:41:07;2017-10-04 06:25:44;96%;8:44;;;;3729\\r\\r\\n2017-10-04 22:44:21;2017-10-05 06:05:20;75%;7:20;;;;7101\\r\\r\\n2017-10-05 21:24:20;2017-10-06 04:37:37;76%;7:13;;;;4906\\r\\r\\n2017-10-06 22:56:47;2017-10-07 07:44:33;55%;8:47;;;;4507\\r\\r\\n2017-10-07 21:57:55;2017-10-08 08:05:32;71%;10:07;;;;1588\\r\\r\\n2017-10-09 22:27:21;2017-10-10 06:10:18;79%;7:42;;;;3951\\r\\r\\n2017-10-10 22:23:41;2017-10-11 06:00:29;80%;7:36;;;;5912\\r\\r\\n2017-10-11 22:32:30;2017-10-12 06:10:39;71%;7:38;;;;5314\\r\\r\\n2017-10-12 22:22:18;2017-10-13 06:37:05;79%;8:14;;;;3240\\r\\r\\n2017-10-13 23:03:57;2017-10-14 08:15:03;88%;9:11;;;;356\\r\\r\\n2017-10-14 22:58:56;2017-10-15 07:24:01;80%;8:25;;;;388\\r\\r\\n2017-10-15 22:47:15;2017-10-16 05:56:41;69%;7:09;;;;4287\\r\\r\\n2017-10-16 21:51:31;2017-10-17 06:01:21;74%;8:09;;;;7129\\r\\r\\n2017-10-17 21:41:00;2017-10-18 06:02:24;78%;8:21;;;;3342\\r\\r\\n2017-10-19 00:01:27;2017-10-19 06:02:24;60%;6:00;;;;4074\\r\\r\\n2017-10-19 21:13:33;2017-10-20 06:14:02;100%;9:00;;;;907\\r\\r\\n2017-10-21 00:05:16;2017-10-21 07:57:15;89%;7:51;;;;5899\\r\\r\\n2017-10-22 00:25:34;2017-10-22 07:45:57;79%;7:20;;;;71\\r\\r\\n2017-10-22 21:50:11;2017-10-23 06:00:36;82%;8:10;;;;5210\\r\\r\\n2017-10-23 22:18:50;2017-10-24 06:01:49;65%;7:42;;;;6636\\r\\r\\n2017-10-24 22:15:22;2017-10-25 06:06:53;83%;7:51;;;;5355\\r\\r\\n2017-10-25 21:55:37;2017-10-26 06:00:46;65%;8:05;;;;4119\\r\\r\\n2017-10-27 01:50:09;2017-10-27 06:51:31;59%;5:01;;;;5364\\r\\r\\n2017-10-28 22:51:22;2017-10-29 07:51:27;91%;9:00;;;;1097\\r\\r\\n2017-10-29 22:26:09;2017-10-30 06:00:41;78%;7:34;;;;1430\\r\\r\\n2017-10-30 22:52:29;2017-10-31 05:43:44;62%;6:51;;;;7603\\r\\r\\n2017-10-31 23:29:23;2017-11-01 05:02:58;49%;5:33;;;;9304\\r\\r\\n2017-11-02 21:25:12;2017-11-03 06:21:18;74%;8:56;;;;5051\\r\\r\\n2017-11-03 23:23:48;2017-11-04 07:26:48;89%;8:02;;;;787\\r\\r\\n2017-11-05 22:30:18;2017-11-06 06:05:55;70%;7:35;;;;5504\\r\\r\\n2017-11-06 22:08:49;2017-11-07 05:58:38;75%;7:49;;;;3709\\r\\r\\n2017-11-07 21:01:59;2017-11-08 05:45:28;90%;8:43;;;;144\\r\\r\\n2017-11-08 23:11:50;2017-11-09 06:30:07;76%;7:18;;;;6094\\r\\r\\n2017-11-09 22:04:06;2017-11-10 07:15:12;96%;9:11;;;;847\\r\\r\\n2017-11-10 23:29:46;2017-11-11 07:21:04;83%;7:51;;;;5919\\r\\r\\n2017-11-11 23:06:26;2017-11-12 07:18:05;84%;8:11;;;;1751\\r\\r\\n2017-11-12 23:39:58;2017-11-13 08:30:57;79%;8:50;;;;3789\\r\\r\\n2017-11-14 21:16:47;2017-11-15 06:50:55;93%;9:34;;;;52\\r\\r\\n2017-11-15 21:23:57;2017-11-16 06:51:33;85%;9:27;;;;27\\r\\r\\n2017-11-16 22:33:27;2017-11-17 06:07:47;80%;7:34;;;;430\\r\\r\\n2017-11-17 23:08:36;2017-11-18 07:20:32;91%;8:11;;;;3281\\r\\r\\n2017-11-19 21:58:13;2017-11-20 06:02:13;82%;8:04;;;;4153\\r\\r\\n2017-11-20 22:26:32;2017-11-21 06:00:14;86%;7:33;;;;6494\\r\\r\\n2017-11-21 22:26:00;2017-11-22 05:57:08;68%;7:31;;;;9426\\r\\r\\n2017-11-22 22:34:51;2017-11-23 06:01:17;80%;7:26;;;;7565\\r\\r\\n2017-11-23 22:56:54;2017-11-24 06:30:05;80%;7:33;;;;5735\\r\\r\\n2017-11-25 23:14:12;2017-11-26 08:19:42;100%;9:05;;;;5116\\r\\r\\n2017-11-26 22:10:04;2017-11-27 06:05:57;63%;7:55;;;;27\\r\\r\\n2017-11-27 22:36:02;2017-11-28 05:58:49;73%;7:22;;;;0\\r\\r\\n2017-11-28 22:54:56;2017-11-29 06:09:22;80%;7:14;;;;6417\\r\\r\\n2017-11-29 22:33:33;2017-11-30 06:26:26;83%;7:52;;;;0\\r\\r\\n2017-11-30 20:54:34;2017-12-01 05:55:40;77%;9:01;;;;0\\r\\r\\n2017-12-03 23:10:31;2017-12-04 06:15:51;63%;7:05;;;;3400\\r\\r\\n2017-12-04 21:20:58;2017-12-05 05:50:36;70%;8:29;;;;6015\\r\\r\\n2017-12-05 22:56:23;2017-12-06 06:15:35;68%;7:19;;;;3179\\r\\r\\n2017-12-06 21:56:53;2017-12-07 05:50:15;63%;7:53;;;;6346\\r\\r\\n2017-12-07 22:04:25;2017-12-08 06:31:39;82%;8:27;;;;218\\r\\r\\n2017-12-09 23:39:39;2017-12-10 08:15:38;95%;8:35;;;;0\\r\\r\\n2017-12-10 22:16:12;2017-12-11 06:06:04;70%;7:49;;;;96\\r\\r\\n2017-12-11 21:47:09;2017-12-12 05:57:00;68%;8:09;;;;7339\\r\\r\\n2017-12-12 22:09:55;2017-12-13 05:55:21;72%;7:45;;;;6970\\r\\r\\n2017-12-14 22:47:44;2017-12-15 05:51:51;60%;7:04;;;;1566\\r\\r\\n2017-12-17 21:35:13;2017-12-18 06:08:30;80%;8:33;;;;5184\\r\\r\\n2017-12-18 21:39:40;2017-12-19 06:05:47;79%;8:26;;;;75\\r\\r\\n2017-12-19 22:05:48;2017-12-20 06:25:53;79%;8:20;;;;3088\\r\\r\\n2017-12-20 21:30:02;2017-12-21 05:52:44;59%;8:22;;;;4553\\r\\r\\n2017-12-21 22:10:42;2017-12-22 06:55:22;75%;8:44;;;;1306\\r\\r\\n2017-12-26 21:19:56;2017-12-27 07:55:33;97%;10:35;;;;373\\r\\r\\n2017-12-29 00:06:23;2017-12-29 07:57:09;75%;7:50;;;;5168\\r\\r\\n2017-12-29 22:00:17;2017-12-30 08:08:59;75%;10:08;;;;61\\r\\r\\n2018-01-01 21:30:48;2018-01-02 05:56:47;81%;8:25;;;;2544\\r\\r\\n2018-01-02 22:31:35;2018-01-03 05:48:52;76%;7:17;;;;475\\r\\r\\n2018-01-03 20:28:55;2018-01-04 03:40:00;0%;0:00;;;;47\\r\\r\\n2018-01-04 22:19:49;2018-01-05 07:25:32;91%;9:05;;;;5064\\r\\r\\n2018-01-06 23:13:54;2018-01-07 08:00:24;86%;8:46;;;;2101\\r\\r\\n2018-01-07 22:09:01;2018-01-08 06:10:31;83%;8:01;;;;1334\\r\\r\\n2018-01-08 22:53:56;2018-01-09 05:45:45;77%;6:51;;;;2262\\r\\r\\n2018-01-09 22:22:48;2018-01-10 06:23:50;90%;8:01;;;;4529\\r\\r\\n2018-01-10 21:31:25;2018-01-11 05:10:18;71%;7:38;;;;6224\\r\\r\\n2018-01-11 21:54:18;2018-01-12 05:01:11;70%;7:06;;;;47\\r\\r\\n2018-01-12 21:50:07;2018-01-13 07:38:38;70%;9:48;;;;6296\\r\\r\\n2018-01-13 22:07:20;2018-01-14 07:09:23;64%;9:02;;;;2405\\r\\r\\n2018-01-14 22:02:09;2018-01-15 05:50:20;73%;7:48;;;;9237\\r\\r\\n2018-01-15 22:45:03;2018-01-16 06:00:21;79%;7:15;;;;2818\\r\\r\\n2018-01-16 22:09:46;2018-01-17 06:01:27;71%;7:51;;;;5752\\r\\r\\n2018-01-17 22:45:11;2018-01-18 06:12:22;84%;7:27;;;;6631\\r\\r\\n2018-01-18 22:46:26;2018-01-19 06:48:42;59%;8:02;;;;9516\\r\\r\\n2018-01-19 22:21:24;2018-01-20 08:22:57;71%;10:01;;;;4454\\r\\r\\n2018-01-20 23:44:10;2018-01-21 07:01:39;67%;7:17;;;;7253\\r\\r\\n2018-01-21 22:04:55;2018-01-22 06:01:48;84%;7:56;;;;22\\r\\r\\n2018-01-22 23:15:57;2018-01-23 06:00:31;66%;6:44;;;;2334\\r\\r\\n2018-01-23 21:41:50;2018-01-24 06:00:37;73%;8:18;;;;2867\\r\\r\\n2018-01-24 20:58:39;2018-01-25 06:02:13;84%;9:03;;;;4881\\r\\r\\n2018-01-25 23:17:03;2018-01-26 06:00:13;72%;6:43;;;;2149\\r\\r\\n2018-01-26 22:13:41;2018-01-27 07:20:56;92%;9:07;;;;1720\\r\\r\\n2018-01-28 01:21:47;2018-01-28 08:49:01;81%;7:27;;;;6518\\r\\r\\n2018-01-28 21:30:54;2018-01-29 05:00:20;69%;7:29;;;;29\\r\\r\\n2018-01-29 21:37:33;2018-01-30 06:01:01;79%;8:23;;;;107\\r\\r\\n2018-01-30 22:18:44;2018-01-31 06:03:00;77%;7:44;;;;5277\\r\\r\\n2018-01-31 22:29:56;2018-02-01 06:02:18;72%;7:32;;;;1325\\r\\r\\n2018-02-01 21:25:06;2018-02-02 06:45:43;80%;9:20;;;;3319\\r\\r\\n2018-02-03 02:20:39;2018-02-03 07:44:10;65%;5:23;;;;4810\\r\\r\\n2018-02-03 08:32:14;2018-02-03 09:08:44;8%;0:36;;;;166\\r\\r\\n2018-02-03 22:29:00;2018-02-04 07:37:14;96%;9:08;;;;362\\r\\r\\n2018-02-04 23:09:25;2018-02-05 06:01:30;72%;6:52;;;;2528\\r\\r\\n2018-02-05 22:02:05;2018-02-06 06:00:17;78%;7:58;;;;7982\\r\\r\\n2018-02-06 21:44:05;2018-02-07 06:12:59;82%;8:28;;;;5039\\r\\r\\n2018-02-07 23:18:52;2018-02-08 06:48:07;73%;7:29;;;;2435\\r\\r\\n2018-02-08 22:41:38;2018-02-09 06:00:24;93%;7:18;;;;68\\r\\r\\n2018-02-09 23:07:55;2018-02-10 07:26:34;76%;8:18;;;;5598\\r\\r\\n2018-02-11 22:44:25;2018-02-12 07:08:28;91%;8:24;;;;1901\\r\\r\\n2018-02-12 21:54:14;2018-02-13 07:02:15;91%;9:08;;;;56\\r\\r\\n2018-02-13 23:49:19;2018-02-14 07:00:53;81%;7:11;;;;64\\r\\r\\n2018-02-14 21:24:05;2018-02-15 06:20:52;71%;8:56;;;;3316\\r\\r\\n2018-02-15 21:36:32;2018-02-16 06:50:31;80%;9:13;;;;6555\\r\\r\\n2018-02-16 22:52:29;2018-02-17 07:48:04;91%;8:55;;;;2291\\r\\r\\n'}"
            ]
          },
          "metadata": {
            "tags": []
          },
          "execution_count": 56
        }
      ]
    },
    {
      "cell_type": "code",
      "metadata": {
        "id": "6vRv6ukImEGt"
      },
      "source": [
        "import pandas as pd"
      ],
      "execution_count": 57,
      "outputs": []
    },
    {
      "cell_type": "code",
      "metadata": {
        "id": "6FQejmK2m-03"
      },
      "source": [
        "data = pd.read_csv('/content/sleepdata.csv', sep=';')"
      ],
      "execution_count": 58,
      "outputs": []
    },
    {
      "cell_type": "markdown",
      "metadata": {
        "id": "-iqYL3W0sTwC"
      },
      "source": [
        "**Working With Sleep Quality Column**"
      ]
    },
    {
      "cell_type": "code",
      "metadata": {
        "id": "4c15V-IJrA56",
        "outputId": "2f7bdd2e-b1f3-47a0-8d7f-3858a7b3623b",
        "colab": {
          "base_uri": "https://localhost:8080/"
        }
      },
      "source": [
        "data['Sleep quality'].unique()"
      ],
      "execution_count": 59,
      "outputs": [
        {
          "output_type": "execute_result",
          "data": {
            "text/plain": [
              "array(['100%', '3%', '98%', '65%', '72%', '83%', '78%', '69%', '74%',\n",
              "       '81%', '88%', '77%', '89%', '87%', '93%', '58%', '16%', '75%',\n",
              "       '80%', '76%', '67%', '64%', '70%', '85%', '59%', '92%', '90%',\n",
              "       '61%', '54%', '86%', '99%', '82%', '91%', '84%', '95%', '79%',\n",
              "       '97%', '53%', '50%', '66%', '73%', '23%', '63%', '71%', '10%',\n",
              "       '68%', '60%', '55%', '62%', '13%', '57%', '96%', '38%', '94%',\n",
              "       '9%', '35%', '36%', '56%', '52%', '51%', '46%', '48%', '40%',\n",
              "       '49%', '41%', '33%', '17%', '24%', '21%', '12%', '44%', '6%',\n",
              "       '18%', '31%', '7%', '5%', '30%', '0%', '8%'], dtype=object)"
            ]
          },
          "metadata": {
            "tags": []
          },
          "execution_count": 59
        }
      ]
    },
    {
      "cell_type": "code",
      "metadata": {
        "id": "dwch1X6Kr-KD"
      },
      "source": [
        "data['Sleep quality']=pd.Series(data['Sleep quality']).str.replace('%', '')\n",
        "data['Sleep quality'] = pd.to_numeric(data['Sleep quality'], downcast='signed')"
      ],
      "execution_count": 60,
      "outputs": []
    },
    {
      "cell_type": "code",
      "metadata": {
        "id": "3WngBQ1EuR0c",
        "outputId": "1347781b-2842-46fd-f592-b79e7c63520d",
        "colab": {
          "base_uri": "https://localhost:8080/"
        }
      },
      "source": [
        "data.info()"
      ],
      "execution_count": 61,
      "outputs": [
        {
          "output_type": "stream",
          "text": [
            "<class 'pandas.core.frame.DataFrame'>\n",
            "RangeIndex: 887 entries, 0 to 886\n",
            "Data columns (total 8 columns):\n",
            " #   Column            Non-Null Count  Dtype  \n",
            "---  ------            --------------  -----  \n",
            " 0   Start             887 non-null    object \n",
            " 1   End               887 non-null    object \n",
            " 2   Sleep quality     887 non-null    int8   \n",
            " 3   Time in bed       887 non-null    object \n",
            " 4   Wake up           246 non-null    object \n",
            " 5   Sleep Notes       652 non-null    object \n",
            " 6   Heart rate        162 non-null    float64\n",
            " 7   Activity (steps)  887 non-null    int64  \n",
            "dtypes: float64(1), int64(1), int8(1), object(5)\n",
            "memory usage: 49.5+ KB\n"
          ],
          "name": "stdout"
        }
      ]
    },
    {
      "cell_type": "markdown",
      "metadata": {
        "id": "ctxSBgw1x6bq"
      },
      "source": [
        "**Working With Time In Bed Column**"
      ]
    },
    {
      "cell_type": "code",
      "metadata": {
        "id": "0L0vQildx4qF",
        "outputId": "bb0bacb9-d188-4136-e84e-04b04bac40eb",
        "colab": {
          "base_uri": "https://localhost:8080/"
        }
      },
      "source": [
        "data['Time in bed'].unique()"
      ],
      "execution_count": 62,
      "outputs": [
        {
          "output_type": "execute_result",
          "data": {
            "text/plain": [
              "array(['8:32', '0:16', '8:30', '7:32', '6:44', '7:12', '7:14', '7:18',\n",
              "       '7:27', '7:35', '9:19', '7:16', '9:01', '8:50', '8:08', '9:11',\n",
              "       '8:06', '7:13', '7:22', '6:51', '7:51', '1:13', '8:00', '8:02',\n",
              "       '7:42', '7:37', '7:05', '8:03', '7:49', '7:07', '8:17', '7:36',\n",
              "       '6:49', '7:04', '6:13', '6:45', '7:40', '7:00', '8:55', '5:54',\n",
              "       '7:54', '9:29', '7:43', '7:50', '7:25', '8:01', '8:22', '8:07',\n",
              "       '6:57', '8:53', '6:52', '7:01', '6:59', '7:39', '7:26', '9:00',\n",
              "       '7:21', '7:46', '7:34', '5:03', '6:48', '7:03', '6:47', '7:28',\n",
              "       '10:46', '7:41', '7:02', '6:38', '7:33', '7:47', '7:23', '6:56',\n",
              "       '7:59', '5:25', '1:55', '7:19', '9:04', '7:48', '7:31', '6:20',\n",
              "       '0:46', '9:31', '8:31', '8:14', '6:34', '9:06', '0:15', '7:38',\n",
              "       '5:02', '8:58', '8:12', '7:30', '8:26', '8:04', '7:29', '6:46',\n",
              "       '7:56', '8:20', '6:23', '8:47', '8:41', '6:16', '7:17', '6:40',\n",
              "       '1:00', '8:27', '8:42', '7:44', '7:55', '6:55', '8:09', '7:11',\n",
              "       '7:52', '8:46', '8:13', '6:50', '7:57', '6:54', '6:25', '6:09',\n",
              "       '7:20', '8:37', '8:16', '8:33', '8:24', '9:15', '9:57', '8:23',\n",
              "       '8:10', '7:15', '8:19', '8:35', '8:40', '5:30', '7:45', '8:51',\n",
              "       '8:28', '6:28', '8:11', '8:44', '7:09', '7:58', '6:17', '6:53',\n",
              "       '8:39', '9:30', '9:13', '8:54', '8:56', '9:47', '9:05', '6:30',\n",
              "       '8:52', '8:59', '0:42', '7:53', '8:29', '6:36', '8:45', '9:16',\n",
              "       '8:36', '6:39', '6:05', '9:58', '5:38', '6:58', '7:08', '9:35',\n",
              "       '8:21', '5:10', '10:28', '9:09', '9:20', '6:21', '9:56', '6:33',\n",
              "       '5:39', '6:01', '9:08', '8:05', '1:24', '9:23', '1:19', '2:08',\n",
              "       '6:37', '8:15', '8:38', '1:42', '1:36', '7:10', '1:33', '0:55',\n",
              "       '7:06', '0:57', '9:07', '6:27', '9:54', '6:35', '5:40', '0:27',\n",
              "       '10:07', '8:18', '6:29', '1:40', '2:33', '0:34', '0:47', '6:43',\n",
              "       '0:21', '8:49', '8:34', '9:17', '8:48', '8:25', '6:00', '5:01',\n",
              "       '5:33', '8:43', '9:34', '9:27', '10:35', '10:08', '0:00', '9:48',\n",
              "       '9:02', '10:01', '9:03', '5:23', '0:36'], dtype=object)"
            ]
          },
          "metadata": {
            "tags": []
          },
          "execution_count": 62
        }
      ]
    },
    {
      "cell_type": "code",
      "metadata": {
        "id": "VINGR2H0yO4k"
      },
      "source": [
        "TimeInBed = []\n",
        "for time in data['Time in bed']:\n",
        "  minSec = time.split(':')\n",
        "  timeInSec = (int(minSec[0])*60)+(int(minSec[1]))\n",
        "  TimeInBed.append(timeInSec)"
      ],
      "execution_count": 63,
      "outputs": []
    },
    {
      "cell_type": "code",
      "metadata": {
        "id": "2TnJqsIJ3eJl"
      },
      "source": [
        "data['Time in bed'] = TimeInBed"
      ],
      "execution_count": 64,
      "outputs": []
    },
    {
      "cell_type": "code",
      "metadata": {
        "id": "tF4QV88d4sNW",
        "outputId": "60b1d17a-bcef-49a7-9231-48079d7b22d2",
        "colab": {
          "base_uri": "https://localhost:8080/"
        }
      },
      "source": [
        "data['Time in bed'].unique()"
      ],
      "execution_count": 65,
      "outputs": [
        {
          "output_type": "execute_result",
          "data": {
            "text/plain": [
              "array([512,  16, 510, 452, 404, 432, 434, 438, 447, 455, 559, 436, 541,\n",
              "       530, 488, 551, 486, 433, 442, 411, 471,  73, 480, 482, 462, 457,\n",
              "       425, 483, 469, 427, 497, 456, 409, 424, 373, 405, 460, 420, 535,\n",
              "       354, 474, 569, 463, 470, 445, 481, 502, 487, 417, 533, 412, 421,\n",
              "       419, 459, 446, 540, 441, 466, 454, 303, 408, 423, 407, 448, 646,\n",
              "       461, 422, 398, 453, 467, 443, 416, 479, 325, 115, 439, 544, 468,\n",
              "       451, 380,  46, 571, 511, 494, 394, 546,  15, 458, 302, 538, 492,\n",
              "       450, 506, 484, 449, 406, 476, 500, 383, 527, 521, 376, 437, 400,\n",
              "        60, 507, 522, 464, 475, 415, 489, 431, 472, 526, 493, 410, 477,\n",
              "       414, 385, 369, 440, 517, 496, 513, 504, 555, 597, 503, 490, 435,\n",
              "       499, 515, 520, 330, 465, 531, 508, 388, 491, 524, 429, 478, 377,\n",
              "       413, 519, 570, 553, 534, 536, 587, 545, 390, 532, 539,  42, 473,\n",
              "       509, 396, 525, 556, 516, 399, 365, 598, 338, 418, 428, 575, 501,\n",
              "       310, 628, 549, 560, 381, 596, 393, 339, 361, 548, 485,  84, 563,\n",
              "        79, 128, 397, 495, 518, 102,  96, 430,  93,  55, 426,  57, 547,\n",
              "       387, 594, 395, 340,  27, 607, 498, 389, 100, 153,  34,  47, 403,\n",
              "        21, 529, 514, 557, 528, 505, 360, 301, 333, 523, 574, 567, 635,\n",
              "       608,   0, 588, 542, 601, 543, 323,  36])"
            ]
          },
          "metadata": {
            "tags": []
          },
          "execution_count": 65
        }
      ]
    },
    {
      "cell_type": "code",
      "metadata": {
        "id": "Ud-JoEIk45ED",
        "outputId": "d160c65c-75c3-40c6-fc95-fd2dad34815f",
        "colab": {
          "base_uri": "https://localhost:8080/"
        }
      },
      "source": [
        "data.info()"
      ],
      "execution_count": 66,
      "outputs": [
        {
          "output_type": "stream",
          "text": [
            "<class 'pandas.core.frame.DataFrame'>\n",
            "RangeIndex: 887 entries, 0 to 886\n",
            "Data columns (total 8 columns):\n",
            " #   Column            Non-Null Count  Dtype  \n",
            "---  ------            --------------  -----  \n",
            " 0   Start             887 non-null    object \n",
            " 1   End               887 non-null    object \n",
            " 2   Sleep quality     887 non-null    int8   \n",
            " 3   Time in bed       887 non-null    int64  \n",
            " 4   Wake up           246 non-null    object \n",
            " 5   Sleep Notes       652 non-null    object \n",
            " 6   Heart rate        162 non-null    float64\n",
            " 7   Activity (steps)  887 non-null    int64  \n",
            "dtypes: float64(1), int64(2), int8(1), object(4)\n",
            "memory usage: 49.5+ KB\n"
          ],
          "name": "stdout"
        }
      ]
    },
    {
      "cell_type": "markdown",
      "metadata": {
        "id": "9pn11P_deEBY"
      },
      "source": [
        "**Handling Data On Heart Rate Column**"
      ]
    },
    {
      "cell_type": "code",
      "metadata": {
        "cellView": "form",
        "id": "AL1wyhpMhTSi"
      },
      "source": [
        "#@title Old Way Avarage DELETE AFTER\n",
        "# import numpy as np\n",
        "# print(np.nansum(data['Heart rate']))\n",
        "# print(np.nanmin(data['Heart rate']))\n",
        "# print(np.nanmax(data['Heart rate']))\n",
        "# print(np.nansum(data['Heart rate'])/162)\n",
        "# data['Heart rate']=data['Heart rate'].fillna(np.nansum(data['Heart rate'])/162)"
      ],
      "execution_count": 67,
      "outputs": []
    },
    {
      "cell_type": "code",
      "metadata": {
        "id": "tajNhF_qKy0Z"
      },
      "source": [
        "import numpy as np\n",
        "data['Heart rate'].fillna(value=data['Heart rate'].mean(), inplace=True)"
      ],
      "execution_count": 68,
      "outputs": []
    },
    {
      "cell_type": "code",
      "metadata": {
        "id": "3HWwzkczrsrT",
        "outputId": "8176fb36-e467-4e54-eaf2-90bf369185cb",
        "colab": {
          "base_uri": "https://localhost:8080/"
        }
      },
      "source": [
        "hrateint = []\n",
        "for ratedata in data['Heart rate']:\n",
        "  hrateint.append(int(ratedata))\n",
        "\n",
        "data['Heart rate']"
      ],
      "execution_count": 69,
      "outputs": [
        {
          "output_type": "execute_result",
          "data": {
            "text/plain": [
              "0      59.000000\n",
              "1      72.000000\n",
              "2      57.000000\n",
              "3      60.604938\n",
              "4      68.000000\n",
              "         ...    \n",
              "882    60.604938\n",
              "883    60.604938\n",
              "884    60.604938\n",
              "885    60.604938\n",
              "886    60.604938\n",
              "Name: Heart rate, Length: 887, dtype: float64"
            ]
          },
          "metadata": {
            "tags": []
          },
          "execution_count": 69
        }
      ]
    },
    {
      "cell_type": "code",
      "metadata": {
        "id": "iTG9e9PFjhxr",
        "outputId": "fef30d4f-3d2c-4a57-95d5-71ea95f33c74",
        "colab": {
          "base_uri": "https://localhost:8080/"
        }
      },
      "source": [
        "data.info()"
      ],
      "execution_count": 70,
      "outputs": [
        {
          "output_type": "stream",
          "text": [
            "<class 'pandas.core.frame.DataFrame'>\n",
            "RangeIndex: 887 entries, 0 to 886\n",
            "Data columns (total 8 columns):\n",
            " #   Column            Non-Null Count  Dtype  \n",
            "---  ------            --------------  -----  \n",
            " 0   Start             887 non-null    object \n",
            " 1   End               887 non-null    object \n",
            " 2   Sleep quality     887 non-null    int8   \n",
            " 3   Time in bed       887 non-null    int64  \n",
            " 4   Wake up           246 non-null    object \n",
            " 5   Sleep Notes       652 non-null    object \n",
            " 6   Heart rate        887 non-null    float64\n",
            " 7   Activity (steps)  887 non-null    int64  \n",
            "dtypes: float64(1), int64(2), int8(1), object(4)\n",
            "memory usage: 49.5+ KB\n"
          ],
          "name": "stdout"
        }
      ]
    },
    {
      "cell_type": "markdown",
      "metadata": {
        "id": "krSizLLu-8FN"
      },
      "source": [
        "**Data Processing Is Over**"
      ]
    },
    {
      "cell_type": "code",
      "metadata": {
        "id": "ULcAnB3H7SdK",
        "outputId": "2602e9b4-e8ef-47db-a339-a020144cc2ae",
        "colab": {
          "base_uri": "https://localhost:8080/"
        }
      },
      "source": [
        "data.drop('Start', inplace=True, axis=1)\n",
        "data.drop('End', inplace=True, axis=1)\n",
        "data.drop('Wake up', inplace=True, axis=1)\n",
        "data.drop('Sleep Notes', inplace=True, axis=1)\n",
        "data.drop('Heart rate', inplace=True, axis=1)\n",
        "data.info()"
      ],
      "execution_count": 71,
      "outputs": [
        {
          "output_type": "stream",
          "text": [
            "<class 'pandas.core.frame.DataFrame'>\n",
            "RangeIndex: 887 entries, 0 to 886\n",
            "Data columns (total 3 columns):\n",
            " #   Column            Non-Null Count  Dtype\n",
            "---  ------            --------------  -----\n",
            " 0   Sleep quality     887 non-null    int8 \n",
            " 1   Time in bed       887 non-null    int64\n",
            " 2   Activity (steps)  887 non-null    int64\n",
            "dtypes: int64(2), int8(1)\n",
            "memory usage: 14.9 KB\n"
          ],
          "name": "stdout"
        }
      ]
    },
    {
      "cell_type": "code",
      "metadata": {
        "id": "xgY-C1X-Vf0J"
      },
      "source": [
        "X = data.loc[:, data.columns != 'Sleep quality']\n",
        "Y = data.loc[:, data.columns == 'Sleep quality']"
      ],
      "execution_count": 72,
      "outputs": []
    },
    {
      "cell_type": "code",
      "metadata": {
        "id": "XwYZ0Xp7L_Zb",
        "outputId": "701eb552-cad7-401d-e08c-eadc935b2702",
        "colab": {
          "base_uri": "https://localhost:8080/"
        }
      },
      "source": [
        "print(type(X))\n",
        "print(type(Y))"
      ],
      "execution_count": 73,
      "outputs": [
        {
          "output_type": "stream",
          "text": [
            "<class 'pandas.core.frame.DataFrame'>\n",
            "<class 'pandas.core.frame.DataFrame'>\n"
          ],
          "name": "stdout"
        }
      ]
    },
    {
      "cell_type": "code",
      "metadata": {
        "id": "Yi2p9BQ3bBKA"
      },
      "source": [
        "import tensorflow as tf\n",
        "\n",
        "X = tf.constant(X)\n",
        "Y = tf.constant(Y)"
      ],
      "execution_count": 74,
      "outputs": []
    },
    {
      "cell_type": "code",
      "metadata": {
        "id": "k8hRzZMHaiHB",
        "outputId": "dcf7b3a1-3bd6-4755-90f0-ae705ba4faaa",
        "colab": {
          "base_uri": "https://localhost:8080/"
        }
      },
      "source": [
        "Y.shape"
      ],
      "execution_count": 75,
      "outputs": [
        {
          "output_type": "execute_result",
          "data": {
            "text/plain": [
              "TensorShape([887, 1])"
            ]
          },
          "metadata": {
            "tags": []
          },
          "execution_count": 75
        }
      ]
    },
    {
      "cell_type": "code",
      "metadata": {
        "id": "ZLPPKpa8clqv"
      },
      "source": [
        "# Y_modif = tf.reshape(Y, [887])"
      ],
      "execution_count": 76,
      "outputs": []
    },
    {
      "cell_type": "code",
      "metadata": {
        "cellView": "both",
        "id": "8feoMYIdcr_W"
      },
      "source": [
        "from sklearn.preprocessing import StandardScaler, MinMaxScaler\n",
        "\n",
        "scaler = MinMaxScaler()\n",
        "scaler.fit(X)\n",
        "scaler.fit(Y)\n",
        "X_train= scaler.transform(X)\n",
        "Y_train= scaler.transform(Y)"
      ],
      "execution_count": 77,
      "outputs": []
    },
    {
      "cell_type": "code",
      "metadata": {
        "id": "l4XQ-_GjylBQ",
        "outputId": "3bea6eb9-6894-4af0-fd88-be318daa4528",
        "colab": {
          "base_uri": "https://localhost:8080/"
        }
      },
      "source": [
        "type(X_train)"
      ],
      "execution_count": 82,
      "outputs": [
        {
          "output_type": "execute_result",
          "data": {
            "text/plain": [
              "numpy.ndarray"
            ]
          },
          "metadata": {
            "tags": []
          },
          "execution_count": 82
        }
      ]
    },
    {
      "cell_type": "code",
      "metadata": {
        "id": "tTIds50dynEs",
        "outputId": "1a1849ed-7c5b-40f2-becf-3d83c4c83811",
        "colab": {
          "base_uri": "https://localhost:8080/"
        }
      },
      "source": [
        "type(Y_train)"
      ],
      "execution_count": 83,
      "outputs": [
        {
          "output_type": "execute_result",
          "data": {
            "text/plain": [
              "numpy.ndarray"
            ]
          },
          "metadata": {
            "tags": []
          },
          "execution_count": 83
        }
      ]
    },
    {
      "cell_type": "code",
      "metadata": {
        "id": "69nRRoOOcxV4"
      },
      "source": [
        "import keras\n",
        "from keras.models import Sequential\n",
        "from keras.layers import Dense, Flatten\n",
        "from keras.optimizers import Adam, SGD"
      ],
      "execution_count": 78,
      "outputs": []
    },
    {
      "cell_type": "code",
      "metadata": {
        "id": "90tvE-enc0zu"
      },
      "source": [
        "model = Sequential([\n",
        "     Dense(units=64, activation='relu'),\n",
        "     Dense(units=32, activation='relu'),\n",
        "     Dense(units=1, activation='softmax')\n",
        "])\n",
        "\n",
        "model.compile(optimizer=Adam(learning_rate=0.0001),loss='MeanAbsoluteError')"
      ],
      "execution_count": 92,
      "outputs": []
    },
    {
      "cell_type": "code",
      "metadata": {
        "id": "lBsPIt9TvcPS",
        "outputId": "42858031-5b09-48cc-f6f7-4aa3ca551b54",
        "colab": {
          "base_uri": "https://localhost:8080/"
        }
      },
      "source": [
        "print(Y_train.shape)"
      ],
      "execution_count": 80,
      "outputs": [
        {
          "output_type": "stream",
          "text": [
            "(887, 1)\n"
          ],
          "name": "stdout"
        }
      ]
    },
    {
      "cell_type": "code",
      "metadata": {
        "id": "cjF6EdQmdrK1",
        "outputId": "6a43cb73-87a7-4a15-8d7f-00371e55ca88",
        "colab": {
          "base_uri": "https://localhost:8080/"
        }
      },
      "source": [
        "model.fit(x=X_train, y=Y_train, batch_size=10, epochs = 10, verbose=2, validation_split=0.3)"
      ],
      "execution_count": 93,
      "outputs": [
        {
          "output_type": "stream",
          "text": [
            "Epoch 1/10\n",
            "62/62 - 0s - loss: 0.2471 - accuracy: 0.0177 - val_loss: 0.2601 - val_accuracy: 0.0075\n",
            "Epoch 2/10\n",
            "62/62 - 0s - loss: 0.2471 - accuracy: 0.0177 - val_loss: 0.2601 - val_accuracy: 0.0075\n",
            "Epoch 3/10\n",
            "62/62 - 0s - loss: 0.2471 - accuracy: 0.0177 - val_loss: 0.2601 - val_accuracy: 0.0075\n",
            "Epoch 4/10\n",
            "62/62 - 0s - loss: 0.2471 - accuracy: 0.0177 - val_loss: 0.2601 - val_accuracy: 0.0075\n",
            "Epoch 5/10\n",
            "62/62 - 0s - loss: 0.2471 - accuracy: 0.0177 - val_loss: 0.2601 - val_accuracy: 0.0075\n",
            "Epoch 6/10\n",
            "62/62 - 0s - loss: 0.2471 - accuracy: 0.0177 - val_loss: 0.2601 - val_accuracy: 0.0075\n",
            "Epoch 7/10\n",
            "62/62 - 0s - loss: 0.2471 - accuracy: 0.0177 - val_loss: 0.2601 - val_accuracy: 0.0075\n",
            "Epoch 8/10\n",
            "62/62 - 0s - loss: 0.2471 - accuracy: 0.0177 - val_loss: 0.2601 - val_accuracy: 0.0075\n",
            "Epoch 9/10\n",
            "62/62 - 0s - loss: 0.2471 - accuracy: 0.0177 - val_loss: 0.2601 - val_accuracy: 0.0075\n",
            "Epoch 10/10\n",
            "62/62 - 0s - loss: 0.2471 - accuracy: 0.0177 - val_loss: 0.2601 - val_accuracy: 0.0075\n"
          ],
          "name": "stdout"
        },
        {
          "output_type": "execute_result",
          "data": {
            "text/plain": [
              "<tensorflow.python.keras.callbacks.History at 0x7f20edec1b38>"
            ]
          },
          "metadata": {
            "tags": []
          },
          "execution_count": 93
        }
      ]
    }
  ]
}