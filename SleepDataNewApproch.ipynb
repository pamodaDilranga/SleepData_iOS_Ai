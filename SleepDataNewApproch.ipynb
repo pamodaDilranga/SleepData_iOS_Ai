{
  "nbformat": 4,
  "nbformat_minor": 0,
  "metadata": {
    "colab": {
      "name": "SleepDataNewApproch.ipynb",
      "provenance": [],
      "collapsed_sections": [],
      "include_colab_link": true
    },
    "kernelspec": {
      "display_name": "Python 3",
      "name": "python3"
    },
    "accelerator": "GPU"
  },
  "cells": [
    {
      "cell_type": "markdown",
      "metadata": {
        "id": "view-in-github",
        "colab_type": "text"
      },
      "source": [
        "<a href=\"https://colab.research.google.com/github/pamodaDilranga/SleepData_iOS_Ai/blob/main/SleepDataNewApproch.ipynb\" target=\"_parent\"><img src=\"https://colab.research.google.com/assets/colab-badge.svg\" alt=\"Open In Colab\"/></a>"
      ]
    },
    {
      "cell_type": "markdown",
      "metadata": {
        "id": "VV2z7yJxmtsB"
      },
      "source": [
        "**Data Pre-Processing**"
      ]
    },
    {
      "cell_type": "code",
      "metadata": {
        "id": "6vRv6ukImEGt"
      },
      "source": [
        "import pandas as pd"
      ],
      "execution_count": 6,
      "outputs": []
    },
    {
      "cell_type": "code",
      "metadata": {
        "id": "6FQejmK2m-03"
      },
      "source": [
        "data = pd.read_csv('/content/sleepdata.csv', sep=';')"
      ],
      "execution_count": 7,
      "outputs": []
    },
    {
      "cell_type": "code",
      "metadata": {
        "id": "jaixlKgYq7s0",
        "outputId": "8d07ce21-cf2c-4e18-b23e-806bc41d7656",
        "colab": {
          "base_uri": "https://localhost:8080/"
        }
      },
      "source": [
        "data.info()"
      ],
      "execution_count": 8,
      "outputs": [
        {
          "output_type": "stream",
          "text": [
            "<class 'pandas.core.frame.DataFrame'>\n",
            "RangeIndex: 887 entries, 0 to 886\n",
            "Data columns (total 8 columns):\n",
            " #   Column            Non-Null Count  Dtype  \n",
            "---  ------            --------------  -----  \n",
            " 0   Start             887 non-null    object \n",
            " 1   End               887 non-null    object \n",
            " 2   Sleep quality     887 non-null    object \n",
            " 3   Time in bed       887 non-null    object \n",
            " 4   Wake up           246 non-null    object \n",
            " 5   Sleep Notes       652 non-null    object \n",
            " 6   Heart rate        162 non-null    float64\n",
            " 7   Activity (steps)  887 non-null    int64  \n",
            "dtypes: float64(1), int64(1), object(6)\n",
            "memory usage: 55.6+ KB\n"
          ],
          "name": "stdout"
        }
      ]
    },
    {
      "cell_type": "markdown",
      "metadata": {
        "id": "ZX38Gj-_vcab"
      },
      "source": [
        ""
      ]
    },
    {
      "cell_type": "markdown",
      "metadata": {
        "id": "-iqYL3W0sTwC"
      },
      "source": [
        "**Working With Sleep Quality Column**"
      ]
    },
    {
      "cell_type": "code",
      "metadata": {
        "id": "4c15V-IJrA56",
        "outputId": "782a20a2-5a88-49bf-e1bc-47ca3254aeb2",
        "colab": {
          "base_uri": "https://localhost:8080/"
        }
      },
      "source": [
        "data['Sleep quality'].unique()"
      ],
      "execution_count": 9,
      "outputs": [
        {
          "output_type": "execute_result",
          "data": {
            "text/plain": [
              "array(['100%', '3%', '98%', '65%', '72%', '83%', '78%', '69%', '74%',\n",
              "       '81%', '88%', '77%', '89%', '87%', '93%', '58%', '16%', '75%',\n",
              "       '80%', '76%', '67%', '64%', '70%', '85%', '59%', '92%', '90%',\n",
              "       '61%', '54%', '86%', '99%', '82%', '91%', '84%', '95%', '79%',\n",
              "       '97%', '53%', '50%', '66%', '73%', '23%', '63%', '71%', '10%',\n",
              "       '68%', '60%', '55%', '62%', '13%', '57%', '96%', '38%', '94%',\n",
              "       '9%', '35%', '36%', '56%', '52%', '51%', '46%', '48%', '40%',\n",
              "       '49%', '41%', '33%', '17%', '24%', '21%', '12%', '44%', '6%',\n",
              "       '18%', '31%', '7%', '5%', '30%', '0%', '8%'], dtype=object)"
            ]
          },
          "metadata": {
            "tags": []
          },
          "execution_count": 9
        }
      ]
    },
    {
      "cell_type": "code",
      "metadata": {
        "id": "o6clQHcxsxsf",
        "outputId": "32f2e250-c67d-487b-ee05-cacf311d7b83",
        "colab": {
          "base_uri": "https://localhost:8080/"
        }
      },
      "source": [
        "type(data['Sleep quality'][5])"
      ],
      "execution_count": 10,
      "outputs": [
        {
          "output_type": "execute_result",
          "data": {
            "text/plain": [
              "str"
            ]
          },
          "metadata": {
            "tags": []
          },
          "execution_count": 10
        }
      ]
    },
    {
      "cell_type": "code",
      "metadata": {
        "id": "dwch1X6Kr-KD"
      },
      "source": [
        "data['Sleep quality']=pd.Series(data['Sleep quality']).str.replace('%', '')"
      ],
      "execution_count": 11,
      "outputs": []
    },
    {
      "cell_type": "code",
      "metadata": {
        "id": "4qQNQDKPt8vY"
      },
      "source": [
        "data['Sleep quality'] = pd.to_numeric(data['Sleep quality'], downcast='signed')"
      ],
      "execution_count": 12,
      "outputs": []
    },
    {
      "cell_type": "code",
      "metadata": {
        "id": "3WngBQ1EuR0c",
        "outputId": "25e6c3a3-6766-441a-9ac5-254103efe0fe",
        "colab": {
          "base_uri": "https://localhost:8080/"
        }
      },
      "source": [
        "data.info()"
      ],
      "execution_count": 13,
      "outputs": [
        {
          "output_type": "stream",
          "text": [
            "<class 'pandas.core.frame.DataFrame'>\n",
            "RangeIndex: 887 entries, 0 to 886\n",
            "Data columns (total 8 columns):\n",
            " #   Column            Non-Null Count  Dtype  \n",
            "---  ------            --------------  -----  \n",
            " 0   Start             887 non-null    object \n",
            " 1   End               887 non-null    object \n",
            " 2   Sleep quality     887 non-null    int8   \n",
            " 3   Time in bed       887 non-null    object \n",
            " 4   Wake up           246 non-null    object \n",
            " 5   Sleep Notes       652 non-null    object \n",
            " 6   Heart rate        162 non-null    float64\n",
            " 7   Activity (steps)  887 non-null    int64  \n",
            "dtypes: float64(1), int64(1), int8(1), object(5)\n",
            "memory usage: 49.5+ KB\n"
          ],
          "name": "stdout"
        }
      ]
    },
    {
      "cell_type": "markdown",
      "metadata": {
        "id": "ctxSBgw1x6bq"
      },
      "source": [
        "**Working With Time In Bed Column**"
      ]
    },
    {
      "cell_type": "code",
      "metadata": {
        "id": "0L0vQildx4qF",
        "outputId": "6d054410-acb5-42cf-97d7-542c5b8e8d33",
        "colab": {
          "base_uri": "https://localhost:8080/"
        }
      },
      "source": [
        "data['Time in bed'].unique()"
      ],
      "execution_count": 14,
      "outputs": [
        {
          "output_type": "execute_result",
          "data": {
            "text/plain": [
              "array(['8:32', '0:16', '8:30', '7:32', '6:44', '7:12', '7:14', '7:18',\n",
              "       '7:27', '7:35', '9:19', '7:16', '9:01', '8:50', '8:08', '9:11',\n",
              "       '8:06', '7:13', '7:22', '6:51', '7:51', '1:13', '8:00', '8:02',\n",
              "       '7:42', '7:37', '7:05', '8:03', '7:49', '7:07', '8:17', '7:36',\n",
              "       '6:49', '7:04', '6:13', '6:45', '7:40', '7:00', '8:55', '5:54',\n",
              "       '7:54', '9:29', '7:43', '7:50', '7:25', '8:01', '8:22', '8:07',\n",
              "       '6:57', '8:53', '6:52', '7:01', '6:59', '7:39', '7:26', '9:00',\n",
              "       '7:21', '7:46', '7:34', '5:03', '6:48', '7:03', '6:47', '7:28',\n",
              "       '10:46', '7:41', '7:02', '6:38', '7:33', '7:47', '7:23', '6:56',\n",
              "       '7:59', '5:25', '1:55', '7:19', '9:04', '7:48', '7:31', '6:20',\n",
              "       '0:46', '9:31', '8:31', '8:14', '6:34', '9:06', '0:15', '7:38',\n",
              "       '5:02', '8:58', '8:12', '7:30', '8:26', '8:04', '7:29', '6:46',\n",
              "       '7:56', '8:20', '6:23', '8:47', '8:41', '6:16', '7:17', '6:40',\n",
              "       '1:00', '8:27', '8:42', '7:44', '7:55', '6:55', '8:09', '7:11',\n",
              "       '7:52', '8:46', '8:13', '6:50', '7:57', '6:54', '6:25', '6:09',\n",
              "       '7:20', '8:37', '8:16', '8:33', '8:24', '9:15', '9:57', '8:23',\n",
              "       '8:10', '7:15', '8:19', '8:35', '8:40', '5:30', '7:45', '8:51',\n",
              "       '8:28', '6:28', '8:11', '8:44', '7:09', '7:58', '6:17', '6:53',\n",
              "       '8:39', '9:30', '9:13', '8:54', '8:56', '9:47', '9:05', '6:30',\n",
              "       '8:52', '8:59', '0:42', '7:53', '8:29', '6:36', '8:45', '9:16',\n",
              "       '8:36', '6:39', '6:05', '9:58', '5:38', '6:58', '7:08', '9:35',\n",
              "       '8:21', '5:10', '10:28', '9:09', '9:20', '6:21', '9:56', '6:33',\n",
              "       '5:39', '6:01', '9:08', '8:05', '1:24', '9:23', '1:19', '2:08',\n",
              "       '6:37', '8:15', '8:38', '1:42', '1:36', '7:10', '1:33', '0:55',\n",
              "       '7:06', '0:57', '9:07', '6:27', '9:54', '6:35', '5:40', '0:27',\n",
              "       '10:07', '8:18', '6:29', '1:40', '2:33', '0:34', '0:47', '6:43',\n",
              "       '0:21', '8:49', '8:34', '9:17', '8:48', '8:25', '6:00', '5:01',\n",
              "       '5:33', '8:43', '9:34', '9:27', '10:35', '10:08', '0:00', '9:48',\n",
              "       '9:02', '10:01', '9:03', '5:23', '0:36'], dtype=object)"
            ]
          },
          "metadata": {
            "tags": []
          },
          "execution_count": 14
        }
      ]
    },
    {
      "cell_type": "code",
      "metadata": {
        "id": "VINGR2H0yO4k"
      },
      "source": [
        "TimeInBed = []\n",
        "for time in data['Time in bed']:\n",
        "  minSec = time.split(':')\n",
        "  timeInSec = (int(minSec[0])*60)+(int(minSec[1]))\n",
        "  TimeInBed.append(timeInSec)"
      ],
      "execution_count": 15,
      "outputs": []
    },
    {
      "cell_type": "code",
      "metadata": {
        "id": "2TnJqsIJ3eJl"
      },
      "source": [
        "data['Time in bed'] = TimeInBed"
      ],
      "execution_count": 16,
      "outputs": []
    },
    {
      "cell_type": "code",
      "metadata": {
        "id": "tF4QV88d4sNW",
        "outputId": "dd4ff2af-6629-4493-fb45-032cb4c326a0",
        "colab": {
          "base_uri": "https://localhost:8080/"
        }
      },
      "source": [
        "data['Time in bed'].unique()"
      ],
      "execution_count": 17,
      "outputs": [
        {
          "output_type": "execute_result",
          "data": {
            "text/plain": [
              "array([512,  16, 510, 452, 404, 432, 434, 438, 447, 455, 559, 436, 541,\n",
              "       530, 488, 551, 486, 433, 442, 411, 471,  73, 480, 482, 462, 457,\n",
              "       425, 483, 469, 427, 497, 456, 409, 424, 373, 405, 460, 420, 535,\n",
              "       354, 474, 569, 463, 470, 445, 481, 502, 487, 417, 533, 412, 421,\n",
              "       419, 459, 446, 540, 441, 466, 454, 303, 408, 423, 407, 448, 646,\n",
              "       461, 422, 398, 453, 467, 443, 416, 479, 325, 115, 439, 544, 468,\n",
              "       451, 380,  46, 571, 511, 494, 394, 546,  15, 458, 302, 538, 492,\n",
              "       450, 506, 484, 449, 406, 476, 500, 383, 527, 521, 376, 437, 400,\n",
              "        60, 507, 522, 464, 475, 415, 489, 431, 472, 526, 493, 410, 477,\n",
              "       414, 385, 369, 440, 517, 496, 513, 504, 555, 597, 503, 490, 435,\n",
              "       499, 515, 520, 330, 465, 531, 508, 388, 491, 524, 429, 478, 377,\n",
              "       413, 519, 570, 553, 534, 536, 587, 545, 390, 532, 539,  42, 473,\n",
              "       509, 396, 525, 556, 516, 399, 365, 598, 338, 418, 428, 575, 501,\n",
              "       310, 628, 549, 560, 381, 596, 393, 339, 361, 548, 485,  84, 563,\n",
              "        79, 128, 397, 495, 518, 102,  96, 430,  93,  55, 426,  57, 547,\n",
              "       387, 594, 395, 340,  27, 607, 498, 389, 100, 153,  34,  47, 403,\n",
              "        21, 529, 514, 557, 528, 505, 360, 301, 333, 523, 574, 567, 635,\n",
              "       608,   0, 588, 542, 601, 543, 323,  36])"
            ]
          },
          "metadata": {
            "tags": []
          },
          "execution_count": 17
        }
      ]
    },
    {
      "cell_type": "code",
      "metadata": {
        "id": "Ud-JoEIk45ED",
        "outputId": "674099b4-fd3e-4a80-b5e4-276d7dd482ad",
        "colab": {
          "base_uri": "https://localhost:8080/"
        }
      },
      "source": [
        "data.info()"
      ],
      "execution_count": 18,
      "outputs": [
        {
          "output_type": "stream",
          "text": [
            "<class 'pandas.core.frame.DataFrame'>\n",
            "RangeIndex: 887 entries, 0 to 886\n",
            "Data columns (total 8 columns):\n",
            " #   Column            Non-Null Count  Dtype  \n",
            "---  ------            --------------  -----  \n",
            " 0   Start             887 non-null    object \n",
            " 1   End               887 non-null    object \n",
            " 2   Sleep quality     887 non-null    int8   \n",
            " 3   Time in bed       887 non-null    int64  \n",
            " 4   Wake up           246 non-null    object \n",
            " 5   Sleep Notes       652 non-null    object \n",
            " 6   Heart rate        162 non-null    float64\n",
            " 7   Activity (steps)  887 non-null    int64  \n",
            "dtypes: float64(1), int64(2), int8(1), object(4)\n",
            "memory usage: 49.5+ KB\n"
          ],
          "name": "stdout"
        }
      ]
    },
    {
      "cell_type": "markdown",
      "metadata": {
        "id": "9pn11P_deEBY"
      },
      "source": [
        "**Handling Data On Heart Rate Column**"
      ]
    },
    {
      "cell_type": "code",
      "metadata": {
        "id": "AL1wyhpMhTSi",
        "outputId": "6e138c7e-6c2c-4b36-c8a5-cee29a0ab040",
        "colab": {
          "base_uri": "https://localhost:8080/"
        }
      },
      "source": [
        "import numpy as np\n",
        "print(np.nansum(data['Heart rate']))\n",
        "print(np.nanmin(data['Heart rate']))\n",
        "print(np.nanmax(data['Heart rate']))\n",
        "print(np.nansum(data['Heart rate'])/162)\n",
        "data['Heart rate']=data['Heart rate'].fillna(np.nansum(data['Heart rate'])/162)"
      ],
      "execution_count": 19,
      "outputs": [
        {
          "output_type": "stream",
          "text": [
            "9818.0\n",
            "49.0\n",
            "98.0\n",
            "60.60493827160494\n"
          ],
          "name": "stdout"
        }
      ]
    },
    {
      "cell_type": "code",
      "metadata": {
        "id": "iTG9e9PFjhxr",
        "outputId": "fe5a8f1f-3734-4095-d47c-cca72dcdfa23",
        "colab": {
          "base_uri": "https://localhost:8080/"
        }
      },
      "source": [
        "data.info()"
      ],
      "execution_count": 20,
      "outputs": [
        {
          "output_type": "stream",
          "text": [
            "<class 'pandas.core.frame.DataFrame'>\n",
            "RangeIndex: 887 entries, 0 to 886\n",
            "Data columns (total 8 columns):\n",
            " #   Column            Non-Null Count  Dtype  \n",
            "---  ------            --------------  -----  \n",
            " 0   Start             887 non-null    object \n",
            " 1   End               887 non-null    object \n",
            " 2   Sleep quality     887 non-null    int8   \n",
            " 3   Time in bed       887 non-null    int64  \n",
            " 4   Wake up           246 non-null    object \n",
            " 5   Sleep Notes       652 non-null    object \n",
            " 6   Heart rate        887 non-null    float64\n",
            " 7   Activity (steps)  887 non-null    int64  \n",
            "dtypes: float64(1), int64(2), int8(1), object(4)\n",
            "memory usage: 49.5+ KB\n"
          ],
          "name": "stdout"
        }
      ]
    },
    {
      "cell_type": "markdown",
      "metadata": {
        "id": "krSizLLu-8FN"
      },
      "source": [
        "**Data Processing Is Over**"
      ]
    },
    {
      "cell_type": "code",
      "metadata": {
        "id": "nXp4e4xHFNcH",
        "outputId": "0837a239-7fb8-4a87-da76-b13e26c8509e",
        "colab": {
          "base_uri": "https://localhost:8080/"
        }
      },
      "source": [
        "data.info()"
      ],
      "execution_count": 21,
      "outputs": [
        {
          "output_type": "stream",
          "text": [
            "<class 'pandas.core.frame.DataFrame'>\n",
            "RangeIndex: 887 entries, 0 to 886\n",
            "Data columns (total 8 columns):\n",
            " #   Column            Non-Null Count  Dtype  \n",
            "---  ------            --------------  -----  \n",
            " 0   Start             887 non-null    object \n",
            " 1   End               887 non-null    object \n",
            " 2   Sleep quality     887 non-null    int8   \n",
            " 3   Time in bed       887 non-null    int64  \n",
            " 4   Wake up           246 non-null    object \n",
            " 5   Sleep Notes       652 non-null    object \n",
            " 6   Heart rate        887 non-null    float64\n",
            " 7   Activity (steps)  887 non-null    int64  \n",
            "dtypes: float64(1), int64(2), int8(1), object(4)\n",
            "memory usage: 49.5+ KB\n"
          ],
          "name": "stdout"
        }
      ]
    },
    {
      "cell_type": "code",
      "metadata": {
        "id": "ULcAnB3H7SdK",
        "outputId": "d9a56b84-4393-4e81-9de3-dcdc96249233",
        "colab": {
          "base_uri": "https://localhost:8080/"
        }
      },
      "source": [
        "data.drop('Start', inplace=True, axis=1)\n",
        "data.drop('End', inplace=True, axis=1)\n",
        "data.drop('Wake up', inplace=True, axis=1)\n",
        "data.drop('Sleep Notes', inplace=True, axis=1)\n",
        "data.drop('Heart rate', inplace=True, axis=1)\n",
        "data.info()"
      ],
      "execution_count": 22,
      "outputs": [
        {
          "output_type": "stream",
          "text": [
            "<class 'pandas.core.frame.DataFrame'>\n",
            "RangeIndex: 887 entries, 0 to 886\n",
            "Data columns (total 3 columns):\n",
            " #   Column            Non-Null Count  Dtype\n",
            "---  ------            --------------  -----\n",
            " 0   Sleep quality     887 non-null    int8 \n",
            " 1   Time in bed       887 non-null    int64\n",
            " 2   Activity (steps)  887 non-null    int64\n",
            "dtypes: int64(2), int8(1)\n",
            "memory usage: 14.9 KB\n"
          ],
          "name": "stdout"
        }
      ]
    },
    {
      "cell_type": "code",
      "metadata": {
        "cellView": "form",
        "id": "Ei8pfODSwzze"
      },
      "source": [
        "#@title Check Data Range\n",
        "# print('Sleep quality', np.max(data['Sleep quality']), ' ', np.min(data['Sleep quality']))\n",
        "# print('Time in bed', np.max(data['Time in bed']), ' ', np.min(data['Time in bed']))\n",
        "# print('Wake up', np.max(data['Wake up']), ' ', np.min(data['Wake up']))\n",
        "# print('Heart rate', np.max(data['Heart rate']), ' ', np.min(data['Heart rate']))\n",
        "# print('Activity (steps)', np.max(data['Activity (steps)']), ' ', np.min(data['Activity (steps)']))\n",
        "# # print('Stressful day', np.max(data['Stressful day']), ' ', np.min(data['Stressful day']))\n",
        "# # print('Drank coffee', np.max(data['Drank coffee']), ' ', np.min(data['Drank coffee']))\n",
        "# # print('Drank tea', np.max(data['Drank tea']), ' ', np.min(data['Drank tea']))\n",
        "# # print('Ate late', np.max(data['Ate late']), ' ', np.min(data['Ate late']))\n",
        "# # print('Worked out', np.max(data['Worked out']), ' ', np.min(data['Worked out']))\n",
        "# print('Duration', np.max(data['Duration']), ' ', np.min(data['Duration']))"
      ],
      "execution_count": 23,
      "outputs": []
    },
    {
      "cell_type": "code",
      "metadata": {
        "id": "xgY-C1X-Vf0J"
      },
      "source": [
        "X = data.loc[:, data.columns != 'Sleep quality']\n",
        "Y = data.loc[:, data.columns == 'Sleep quality']"
      ],
      "execution_count": 24,
      "outputs": []
    },
    {
      "cell_type": "code",
      "metadata": {
        "id": "8feoMYIdcr_W"
      },
      "source": [
        "from sklearn.preprocessing import StandardScaler, MinMaxScaler\n",
        "\n",
        "# sc = StandardScaler()\n",
        "# X_train = sc.fit_transform(X)\n",
        "# # X_train = X.to_numpy()\n",
        "# Y_train = sc.fit_transform(Y)\n",
        "# # Y_train = Y.to_numpy()\n",
        "# # Y_train = (Y_train.flatten())\n",
        "\n",
        "scaler = MinMaxScaler()\n",
        "scaler.fit(X)\n",
        "scaler.fit(Y)\n",
        "X_train= scaler.transform(X)\n",
        "Y_train= scaler.transform(Y)"
      ],
      "execution_count": 25,
      "outputs": []
    },
    {
      "cell_type": "code",
      "metadata": {
        "id": "OX8VNxladKXW",
        "outputId": "310792d6-3b2c-4dd7-933e-e2ce6c1b0adf",
        "colab": {
          "base_uri": "https://localhost:8080/"
        }
      },
      "source": [
        "X_train.shape"
      ],
      "execution_count": 26,
      "outputs": [
        {
          "output_type": "execute_result",
          "data": {
            "text/plain": [
              "(887, 2)"
            ]
          },
          "metadata": {
            "tags": []
          },
          "execution_count": 26
        }
      ]
    },
    {
      "cell_type": "code",
      "metadata": {
        "id": "69nRRoOOcxV4"
      },
      "source": [
        "import keras\n",
        "from keras.models import Sequential\n",
        "from keras.layers import Dense, Flatten\n",
        "from keras.optimizers import Adam, SGD"
      ],
      "execution_count": 27,
      "outputs": []
    },
    {
      "cell_type": "code",
      "metadata": {
        "id": "90tvE-enc0zu"
      },
      "source": [
        "model = Sequential([\n",
        "     Dense(units=64, activation='relu'),\n",
        "    #  Dense(units=32, activation='relu'),\n",
        "     Dense(units=1, activation='softmax')\n",
        "])\n",
        "\n",
        "model.compile(optimizer=SGD(learning_rate=0.0001),loss='binary_crossentropy', metrics=['accuracy'])"
      ],
      "execution_count": 28,
      "outputs": []
    },
    {
      "cell_type": "code",
      "metadata": {
        "id": "cjF6EdQmdrK1",
        "outputId": "57af0fe3-dc5a-445b-e1af-6f9d49d69953",
        "colab": {
          "base_uri": "https://localhost:8080/"
        }
      },
      "source": [
        "model.fit(x=X_train, y=Y_train, batch_size=10, epochs = 10, verbose=2, validation_split=0.3)"
      ],
      "execution_count": 29,
      "outputs": [
        {
          "output_type": "stream",
          "text": [
            "Epoch 1/10\n",
            "62/62 - 0s - loss: 3.7688 - accuracy: 0.0177 - val_loss: 3.9665 - val_accuracy: 0.0075\n",
            "Epoch 2/10\n",
            "62/62 - 0s - loss: 3.7688 - accuracy: 0.0177 - val_loss: 3.9665 - val_accuracy: 0.0075\n",
            "Epoch 3/10\n",
            "62/62 - 0s - loss: 3.7688 - accuracy: 0.0177 - val_loss: 3.9665 - val_accuracy: 0.0075\n",
            "Epoch 4/10\n",
            "62/62 - 0s - loss: 3.7688 - accuracy: 0.0177 - val_loss: 3.9665 - val_accuracy: 0.0075\n",
            "Epoch 5/10\n",
            "62/62 - 0s - loss: 3.7688 - accuracy: 0.0177 - val_loss: 3.9665 - val_accuracy: 0.0075\n",
            "Epoch 6/10\n",
            "62/62 - 0s - loss: 3.7688 - accuracy: 0.0177 - val_loss: 3.9665 - val_accuracy: 0.0075\n",
            "Epoch 7/10\n",
            "62/62 - 0s - loss: 3.7688 - accuracy: 0.0177 - val_loss: 3.9665 - val_accuracy: 0.0075\n",
            "Epoch 8/10\n",
            "62/62 - 0s - loss: 3.7688 - accuracy: 0.0177 - val_loss: 3.9665 - val_accuracy: 0.0075\n",
            "Epoch 9/10\n",
            "62/62 - 0s - loss: 3.7688 - accuracy: 0.0177 - val_loss: 3.9665 - val_accuracy: 0.0075\n",
            "Epoch 10/10\n",
            "62/62 - 0s - loss: 3.7688 - accuracy: 0.0177 - val_loss: 3.9665 - val_accuracy: 0.0075\n"
          ],
          "name": "stdout"
        },
        {
          "output_type": "execute_result",
          "data": {
            "text/plain": [
              "<tensorflow.python.keras.callbacks.History at 0x7f8be00f1780>"
            ]
          },
          "metadata": {
            "tags": []
          },
          "execution_count": 29
        }
      ]
    }
  ]
}